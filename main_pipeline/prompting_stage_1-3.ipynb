{
 "cells": [
  {
   "cell_type": "code",
   "execution_count": null,
   "metadata": {
    "colab": {
     "base_uri": "https://localhost:8080/"
    },
    "id": "jqZWWy4UYReW",
    "outputId": "94cb1b91-a7f0-4ce1-ff3c-4180a52af914"
   },
   "outputs": [
    {
     "name": "stdout",
     "output_type": "stream",
     "text": [
      "Requirement already satisfied: torch in /usr/local/lib/python3.11/dist-packages (2.6.0+cu124)\n",
      "Requirement already satisfied: transformers in /usr/local/lib/python3.11/dist-packages (4.48.3)\n",
      "Collecting datasets\n",
      "  Downloading datasets-3.4.1-py3-none-any.whl.metadata (19 kB)\n",
      "Requirement already satisfied: tqdm in /usr/local/lib/python3.11/dist-packages (4.67.1)\n",
      "Requirement already satisfied: filelock in /usr/local/lib/python3.11/dist-packages (from torch) (3.17.0)\n",
      "Requirement already satisfied: typing-extensions>=4.10.0 in /usr/local/lib/python3.11/dist-packages (from torch) (4.12.2)\n",
      "Requirement already satisfied: networkx in /usr/local/lib/python3.11/dist-packages (from torch) (3.4.2)\n",
      "Requirement already satisfied: jinja2 in /usr/local/lib/python3.11/dist-packages (from torch) (3.1.6)\n",
      "Requirement already satisfied: fsspec in /usr/local/lib/python3.11/dist-packages (from torch) (2024.10.0)\n",
      "Collecting nvidia-cuda-nvrtc-cu12==12.4.127 (from torch)\n",
      "  Downloading nvidia_cuda_nvrtc_cu12-12.4.127-py3-none-manylinux2014_x86_64.whl.metadata (1.5 kB)\n",
      "Collecting nvidia-cuda-runtime-cu12==12.4.127 (from torch)\n",
      "  Downloading nvidia_cuda_runtime_cu12-12.4.127-py3-none-manylinux2014_x86_64.whl.metadata (1.5 kB)\n",
      "Collecting nvidia-cuda-cupti-cu12==12.4.127 (from torch)\n",
      "  Downloading nvidia_cuda_cupti_cu12-12.4.127-py3-none-manylinux2014_x86_64.whl.metadata (1.6 kB)\n",
      "Collecting nvidia-cudnn-cu12==9.1.0.70 (from torch)\n",
      "  Downloading nvidia_cudnn_cu12-9.1.0.70-py3-none-manylinux2014_x86_64.whl.metadata (1.6 kB)\n",
      "Collecting nvidia-cublas-cu12==12.4.5.8 (from torch)\n",
      "  Downloading nvidia_cublas_cu12-12.4.5.8-py3-none-manylinux2014_x86_64.whl.metadata (1.5 kB)\n",
      "Collecting nvidia-cufft-cu12==11.2.1.3 (from torch)\n",
      "  Downloading nvidia_cufft_cu12-11.2.1.3-py3-none-manylinux2014_x86_64.whl.metadata (1.5 kB)\n",
      "Collecting nvidia-curand-cu12==10.3.5.147 (from torch)\n",
      "  Downloading nvidia_curand_cu12-10.3.5.147-py3-none-manylinux2014_x86_64.whl.metadata (1.5 kB)\n",
      "Collecting nvidia-cusolver-cu12==11.6.1.9 (from torch)\n",
      "  Downloading nvidia_cusolver_cu12-11.6.1.9-py3-none-manylinux2014_x86_64.whl.metadata (1.6 kB)\n",
      "Collecting nvidia-cusparse-cu12==12.3.1.170 (from torch)\n",
      "  Downloading nvidia_cusparse_cu12-12.3.1.170-py3-none-manylinux2014_x86_64.whl.metadata (1.6 kB)\n",
      "Requirement already satisfied: nvidia-cusparselt-cu12==0.6.2 in /usr/local/lib/python3.11/dist-packages (from torch) (0.6.2)\n",
      "Requirement already satisfied: nvidia-nccl-cu12==2.21.5 in /usr/local/lib/python3.11/dist-packages (from torch) (2.21.5)\n",
      "Requirement already satisfied: nvidia-nvtx-cu12==12.4.127 in /usr/local/lib/python3.11/dist-packages (from torch) (12.4.127)\n",
      "Collecting nvidia-nvjitlink-cu12==12.4.127 (from torch)\n",
      "  Downloading nvidia_nvjitlink_cu12-12.4.127-py3-none-manylinux2014_x86_64.whl.metadata (1.5 kB)\n",
      "Requirement already satisfied: triton==3.2.0 in /usr/local/lib/python3.11/dist-packages (from torch) (3.2.0)\n",
      "Requirement already satisfied: sympy==1.13.1 in /usr/local/lib/python3.11/dist-packages (from torch) (1.13.1)\n",
      "Requirement already satisfied: mpmath<1.4,>=1.1.0 in /usr/local/lib/python3.11/dist-packages (from sympy==1.13.1->torch) (1.3.0)\n",
      "Requirement already satisfied: huggingface-hub<1.0,>=0.24.0 in /usr/local/lib/python3.11/dist-packages (from transformers) (0.28.1)\n",
      "Requirement already satisfied: numpy>=1.17 in /usr/local/lib/python3.11/dist-packages (from transformers) (2.0.2)\n",
      "Requirement already satisfied: packaging>=20.0 in /usr/local/lib/python3.11/dist-packages (from transformers) (24.2)\n",
      "Requirement already satisfied: pyyaml>=5.1 in /usr/local/lib/python3.11/dist-packages (from transformers) (6.0.2)\n",
      "Requirement already satisfied: regex!=2019.12.17 in /usr/local/lib/python3.11/dist-packages (from transformers) (2024.11.6)\n",
      "Requirement already satisfied: requests in /usr/local/lib/python3.11/dist-packages (from transformers) (2.32.3)\n",
      "Requirement already satisfied: tokenizers<0.22,>=0.21 in /usr/local/lib/python3.11/dist-packages (from transformers) (0.21.1)\n",
      "Requirement already satisfied: safetensors>=0.4.1 in /usr/local/lib/python3.11/dist-packages (from transformers) (0.5.3)\n",
      "Requirement already satisfied: pyarrow>=15.0.0 in /usr/local/lib/python3.11/dist-packages (from datasets) (18.1.0)\n",
      "Collecting dill<0.3.9,>=0.3.0 (from datasets)\n",
      "  Downloading dill-0.3.8-py3-none-any.whl.metadata (10 kB)\n",
      "Requirement already satisfied: pandas in /usr/local/lib/python3.11/dist-packages (from datasets) (2.2.2)\n",
      "Collecting xxhash (from datasets)\n",
      "  Downloading xxhash-3.5.0-cp311-cp311-manylinux_2_17_x86_64.manylinux2014_x86_64.whl.metadata (12 kB)\n",
      "Collecting multiprocess<0.70.17 (from datasets)\n",
      "  Downloading multiprocess-0.70.16-py311-none-any.whl.metadata (7.2 kB)\n",
      "Requirement already satisfied: aiohttp in /usr/local/lib/python3.11/dist-packages (from datasets) (3.11.13)\n",
      "Requirement already satisfied: aiohappyeyeballs>=2.3.0 in /usr/local/lib/python3.11/dist-packages (from aiohttp->datasets) (2.6.1)\n",
      "Requirement already satisfied: aiosignal>=1.1.2 in /usr/local/lib/python3.11/dist-packages (from aiohttp->datasets) (1.3.2)\n",
      "Requirement already satisfied: attrs>=17.3.0 in /usr/local/lib/python3.11/dist-packages (from aiohttp->datasets) (25.3.0)\n",
      "Requirement already satisfied: frozenlist>=1.1.1 in /usr/local/lib/python3.11/dist-packages (from aiohttp->datasets) (1.5.0)\n",
      "Requirement already satisfied: multidict<7.0,>=4.5 in /usr/local/lib/python3.11/dist-packages (from aiohttp->datasets) (6.1.0)\n",
      "Requirement already satisfied: propcache>=0.2.0 in /usr/local/lib/python3.11/dist-packages (from aiohttp->datasets) (0.3.0)\n",
      "Requirement already satisfied: yarl<2.0,>=1.17.0 in /usr/local/lib/python3.11/dist-packages (from aiohttp->datasets) (1.18.3)\n",
      "Requirement already satisfied: charset-normalizer<4,>=2 in /usr/local/lib/python3.11/dist-packages (from requests->transformers) (3.4.1)\n",
      "Requirement already satisfied: idna<4,>=2.5 in /usr/local/lib/python3.11/dist-packages (from requests->transformers) (3.10)\n",
      "Requirement already satisfied: urllib3<3,>=1.21.1 in /usr/local/lib/python3.11/dist-packages (from requests->transformers) (2.3.0)\n",
      "Requirement already satisfied: certifi>=2017.4.17 in /usr/local/lib/python3.11/dist-packages (from requests->transformers) (2025.1.31)\n",
      "Requirement already satisfied: MarkupSafe>=2.0 in /usr/local/lib/python3.11/dist-packages (from jinja2->torch) (3.0.2)\n",
      "Requirement already satisfied: python-dateutil>=2.8.2 in /usr/local/lib/python3.11/dist-packages (from pandas->datasets) (2.8.2)\n",
      "Requirement already satisfied: pytz>=2020.1 in /usr/local/lib/python3.11/dist-packages (from pandas->datasets) (2025.1)\n",
      "Requirement already satisfied: tzdata>=2022.7 in /usr/local/lib/python3.11/dist-packages (from pandas->datasets) (2025.1)\n",
      "Requirement already satisfied: six>=1.5 in /usr/local/lib/python3.11/dist-packages (from python-dateutil>=2.8.2->pandas->datasets) (1.17.0)\n",
      "Downloading nvidia_cublas_cu12-12.4.5.8-py3-none-manylinux2014_x86_64.whl (363.4 MB)\n",
      "\u001b[2K   \u001b[90m━━━━━━━━━━━━━━━━━━━━━━━━━━━━━━━━━━━━━━━━\u001b[0m \u001b[32m363.4/363.4 MB\u001b[0m \u001b[31m4.4 MB/s\u001b[0m eta \u001b[36m0:00:00\u001b[0m\n",
      "\u001b[?25hDownloading nvidia_cuda_cupti_cu12-12.4.127-py3-none-manylinux2014_x86_64.whl (13.8 MB)\n",
      "\u001b[2K   \u001b[90m━━━━━━━━━━━━━━━━━━━━━━━━━━━━━━━━━━━━━━━━\u001b[0m \u001b[32m13.8/13.8 MB\u001b[0m \u001b[31m55.4 MB/s\u001b[0m eta \u001b[36m0:00:00\u001b[0m\n",
      "\u001b[?25hDownloading nvidia_cuda_nvrtc_cu12-12.4.127-py3-none-manylinux2014_x86_64.whl (24.6 MB)\n",
      "\u001b[2K   \u001b[90m━━━━━━━━━━━━━━━━━━━━━━━━━━━━━━━━━━━━━━━━\u001b[0m \u001b[32m24.6/24.6 MB\u001b[0m \u001b[31m43.8 MB/s\u001b[0m eta \u001b[36m0:00:00\u001b[0m\n",
      "\u001b[?25hDownloading nvidia_cuda_runtime_cu12-12.4.127-py3-none-manylinux2014_x86_64.whl (883 kB)\n",
      "\u001b[2K   \u001b[90m━━━━━━━━━━━━━━━━━━━━━━━━━━━━━━━━━━━━━━━━\u001b[0m \u001b[32m883.7/883.7 kB\u001b[0m \u001b[31m38.3 MB/s\u001b[0m eta \u001b[36m0:00:00\u001b[0m\n",
      "\u001b[?25hDownloading nvidia_cudnn_cu12-9.1.0.70-py3-none-manylinux2014_x86_64.whl (664.8 MB)\n",
      "\u001b[2K   \u001b[90m━━━━━━━━━━━━━━━━━━━━━━━━━━━━━━━━━━━━━━━━\u001b[0m \u001b[32m664.8/664.8 MB\u001b[0m \u001b[31m1.4 MB/s\u001b[0m eta \u001b[36m0:00:00\u001b[0m\n",
      "\u001b[?25hDownloading nvidia_cufft_cu12-11.2.1.3-py3-none-manylinux2014_x86_64.whl (211.5 MB)\n",
      "\u001b[2K   \u001b[90m━━━━━━━━━━━━━━━━━━━━━━━━━━━━━━━━━━━━━━━━\u001b[0m \u001b[32m211.5/211.5 MB\u001b[0m \u001b[31m5.3 MB/s\u001b[0m eta \u001b[36m0:00:00\u001b[0m\n",
      "\u001b[?25hDownloading nvidia_curand_cu12-10.3.5.147-py3-none-manylinux2014_x86_64.whl (56.3 MB)\n",
      "\u001b[2K   \u001b[90m━━━━━━━━━━━━━━━━━━━━━━━━━━━━━━━━━━━━━━━━\u001b[0m \u001b[32m56.3/56.3 MB\u001b[0m \u001b[31m10.7 MB/s\u001b[0m eta \u001b[36m0:00:00\u001b[0m\n",
      "\u001b[?25hDownloading nvidia_cusolver_cu12-11.6.1.9-py3-none-manylinux2014_x86_64.whl (127.9 MB)\n",
      "\u001b[2K   \u001b[90m━━━━━━━━━━━━━━━━━━━━━━━━━━━━━━━━━━━━━━━━\u001b[0m \u001b[32m127.9/127.9 MB\u001b[0m \u001b[31m7.2 MB/s\u001b[0m eta \u001b[36m0:00:00\u001b[0m\n",
      "\u001b[?25hDownloading nvidia_cusparse_cu12-12.3.1.170-py3-none-manylinux2014_x86_64.whl (207.5 MB)\n",
      "\u001b[2K   \u001b[90m━━━━━━━━━━━━━━━━━━━━━━━━━━━━━━━━━━━━━━━━\u001b[0m \u001b[32m207.5/207.5 MB\u001b[0m \u001b[31m6.7 MB/s\u001b[0m eta \u001b[36m0:00:00\u001b[0m\n",
      "\u001b[?25hDownloading nvidia_nvjitlink_cu12-12.4.127-py3-none-manylinux2014_x86_64.whl (21.1 MB)\n",
      "\u001b[2K   \u001b[90m━━━━━━━━━━━━━━━━━━━━━━━━━━━━━━━━━━━━━━━━\u001b[0m \u001b[32m21.1/21.1 MB\u001b[0m \u001b[31m69.9 MB/s\u001b[0m eta \u001b[36m0:00:00\u001b[0m\n",
      "\u001b[?25hDownloading datasets-3.4.1-py3-none-any.whl (487 kB)\n",
      "\u001b[2K   \u001b[90m━━━━━━━━━━━━━━━━━━━━━━━━━━━━━━━━━━━━━━━━\u001b[0m \u001b[32m487.4/487.4 kB\u001b[0m \u001b[31m26.3 MB/s\u001b[0m eta \u001b[36m0:00:00\u001b[0m\n",
      "\u001b[?25hDownloading dill-0.3.8-py3-none-any.whl (116 kB)\n",
      "\u001b[2K   \u001b[90m━━━━━━━━━━━━━━━━━━━━━━━━━━━━━━━━━━━━━━━━\u001b[0m \u001b[32m116.3/116.3 kB\u001b[0m \u001b[31m9.0 MB/s\u001b[0m eta \u001b[36m0:00:00\u001b[0m\n",
      "\u001b[?25hDownloading multiprocess-0.70.16-py311-none-any.whl (143 kB)\n",
      "\u001b[2K   \u001b[90m━━━━━━━━━━━━━━━━━━━━━━━━━━━━━━━━━━━━━━━━\u001b[0m \u001b[32m143.5/143.5 kB\u001b[0m \u001b[31m12.8 MB/s\u001b[0m eta \u001b[36m0:00:00\u001b[0m\n",
      "\u001b[?25hDownloading xxhash-3.5.0-cp311-cp311-manylinux_2_17_x86_64.manylinux2014_x86_64.whl (194 kB)\n",
      "\u001b[2K   \u001b[90m━━━━━━━━━━━━━━━━━━━━━━━━━━━━━━━━━━━━━━━━\u001b[0m \u001b[32m194.8/194.8 kB\u001b[0m \u001b[31m17.3 MB/s\u001b[0m eta \u001b[36m0:00:00\u001b[0m\n",
      "\u001b[?25hInstalling collected packages: xxhash, nvidia-nvjitlink-cu12, nvidia-curand-cu12, nvidia-cufft-cu12, nvidia-cuda-runtime-cu12, nvidia-cuda-nvrtc-cu12, nvidia-cuda-cupti-cu12, nvidia-cublas-cu12, dill, nvidia-cusparse-cu12, nvidia-cudnn-cu12, multiprocess, nvidia-cusolver-cu12, datasets\n",
      "  Attempting uninstall: nvidia-nvjitlink-cu12\n",
      "    Found existing installation: nvidia-nvjitlink-cu12 12.5.82\n",
      "    Uninstalling nvidia-nvjitlink-cu12-12.5.82:\n",
      "      Successfully uninstalled nvidia-nvjitlink-cu12-12.5.82\n",
      "  Attempting uninstall: nvidia-curand-cu12\n",
      "    Found existing installation: nvidia-curand-cu12 10.3.6.82\n",
      "    Uninstalling nvidia-curand-cu12-10.3.6.82:\n",
      "      Successfully uninstalled nvidia-curand-cu12-10.3.6.82\n",
      "  Attempting uninstall: nvidia-cufft-cu12\n",
      "    Found existing installation: nvidia-cufft-cu12 11.2.3.61\n",
      "    Uninstalling nvidia-cufft-cu12-11.2.3.61:\n",
      "      Successfully uninstalled nvidia-cufft-cu12-11.2.3.61\n",
      "  Attempting uninstall: nvidia-cuda-runtime-cu12\n",
      "    Found existing installation: nvidia-cuda-runtime-cu12 12.5.82\n",
      "    Uninstalling nvidia-cuda-runtime-cu12-12.5.82:\n",
      "      Successfully uninstalled nvidia-cuda-runtime-cu12-12.5.82\n",
      "  Attempting uninstall: nvidia-cuda-nvrtc-cu12\n",
      "    Found existing installation: nvidia-cuda-nvrtc-cu12 12.5.82\n",
      "    Uninstalling nvidia-cuda-nvrtc-cu12-12.5.82:\n",
      "      Successfully uninstalled nvidia-cuda-nvrtc-cu12-12.5.82\n",
      "  Attempting uninstall: nvidia-cuda-cupti-cu12\n",
      "    Found existing installation: nvidia-cuda-cupti-cu12 12.5.82\n",
      "    Uninstalling nvidia-cuda-cupti-cu12-12.5.82:\n",
      "      Successfully uninstalled nvidia-cuda-cupti-cu12-12.5.82\n",
      "  Attempting uninstall: nvidia-cublas-cu12\n",
      "    Found existing installation: nvidia-cublas-cu12 12.5.3.2\n",
      "    Uninstalling nvidia-cublas-cu12-12.5.3.2:\n",
      "      Successfully uninstalled nvidia-cublas-cu12-12.5.3.2\n",
      "  Attempting uninstall: nvidia-cusparse-cu12\n",
      "    Found existing installation: nvidia-cusparse-cu12 12.5.1.3\n",
      "    Uninstalling nvidia-cusparse-cu12-12.5.1.3:\n",
      "      Successfully uninstalled nvidia-cusparse-cu12-12.5.1.3\n",
      "  Attempting uninstall: nvidia-cudnn-cu12\n",
      "    Found existing installation: nvidia-cudnn-cu12 9.3.0.75\n",
      "    Uninstalling nvidia-cudnn-cu12-9.3.0.75:\n",
      "      Successfully uninstalled nvidia-cudnn-cu12-9.3.0.75\n",
      "  Attempting uninstall: nvidia-cusolver-cu12\n",
      "    Found existing installation: nvidia-cusolver-cu12 11.6.3.83\n",
      "    Uninstalling nvidia-cusolver-cu12-11.6.3.83:\n",
      "      Successfully uninstalled nvidia-cusolver-cu12-11.6.3.83\n",
      "Successfully installed datasets-3.4.1 dill-0.3.8 multiprocess-0.70.16 nvidia-cublas-cu12-12.4.5.8 nvidia-cuda-cupti-cu12-12.4.127 nvidia-cuda-nvrtc-cu12-12.4.127 nvidia-cuda-runtime-cu12-12.4.127 nvidia-cudnn-cu12-9.1.0.70 nvidia-cufft-cu12-11.2.1.3 nvidia-curand-cu12-10.3.5.147 nvidia-cusolver-cu12-11.6.1.9 nvidia-cusparse-cu12-12.3.1.170 nvidia-nvjitlink-cu12-12.4.127 xxhash-3.5.0\n"
     ]
    }
   ],
   "source": [
    "%pip install torch transformers datasets tqdm\n",
    "!mkdir checkpoints"
   ]
  },
  {
   "cell_type": "code",
   "execution_count": 2,
   "metadata": {
    "colab": {
     "base_uri": "https://localhost:8080/"
    },
    "id": "tjiF7usvopLI",
    "outputId": "8df3b754-0d73-43a7-f5ac-c8231ad5b650"
   },
   "outputs": [
    {
     "name": "stdout",
     "output_type": "stream",
     "text": [
      "Collecting datasets\n",
      "  Downloading datasets-3.4.1-py3-none-any.whl.metadata (19 kB)\n",
      "Requirement already satisfied: filelock in /usr/local/lib/python3.11/dist-packages (from datasets) (3.17.0)\n",
      "Requirement already satisfied: numpy>=1.17 in /usr/local/lib/python3.11/dist-packages (from datasets) (2.0.2)\n",
      "Requirement already satisfied: pyarrow>=15.0.0 in /usr/local/lib/python3.11/dist-packages (from datasets) (18.1.0)\n",
      "Collecting dill<0.3.9,>=0.3.0 (from datasets)\n",
      "  Downloading dill-0.3.8-py3-none-any.whl.metadata (10 kB)\n",
      "Requirement already satisfied: pandas in /usr/local/lib/python3.11/dist-packages (from datasets) (2.2.2)\n",
      "Requirement already satisfied: requests>=2.32.2 in /usr/local/lib/python3.11/dist-packages (from datasets) (2.32.3)\n",
      "Requirement already satisfied: tqdm>=4.66.3 in /usr/local/lib/python3.11/dist-packages (from datasets) (4.67.1)\n",
      "Collecting xxhash (from datasets)\n",
      "  Downloading xxhash-3.5.0-cp311-cp311-manylinux_2_17_x86_64.manylinux2014_x86_64.whl.metadata (12 kB)\n",
      "Collecting multiprocess<0.70.17 (from datasets)\n",
      "  Downloading multiprocess-0.70.16-py311-none-any.whl.metadata (7.2 kB)\n",
      "Requirement already satisfied: fsspec<=2024.12.0,>=2023.1.0 in /usr/local/lib/python3.11/dist-packages (from fsspec[http]<=2024.12.0,>=2023.1.0->datasets) (2024.10.0)\n",
      "Requirement already satisfied: aiohttp in /usr/local/lib/python3.11/dist-packages (from datasets) (3.11.13)\n",
      "Requirement already satisfied: huggingface-hub>=0.24.0 in /usr/local/lib/python3.11/dist-packages (from datasets) (0.28.1)\n",
      "Requirement already satisfied: packaging in /usr/local/lib/python3.11/dist-packages (from datasets) (24.2)\n",
      "Requirement already satisfied: pyyaml>=5.1 in /usr/local/lib/python3.11/dist-packages (from datasets) (6.0.2)\n",
      "Requirement already satisfied: aiohappyeyeballs>=2.3.0 in /usr/local/lib/python3.11/dist-packages (from aiohttp->datasets) (2.6.1)\n",
      "Requirement already satisfied: aiosignal>=1.1.2 in /usr/local/lib/python3.11/dist-packages (from aiohttp->datasets) (1.3.2)\n",
      "Requirement already satisfied: attrs>=17.3.0 in /usr/local/lib/python3.11/dist-packages (from aiohttp->datasets) (25.3.0)\n",
      "Requirement already satisfied: frozenlist>=1.1.1 in /usr/local/lib/python3.11/dist-packages (from aiohttp->datasets) (1.5.0)\n",
      "Requirement already satisfied: multidict<7.0,>=4.5 in /usr/local/lib/python3.11/dist-packages (from aiohttp->datasets) (6.1.0)\n",
      "Requirement already satisfied: propcache>=0.2.0 in /usr/local/lib/python3.11/dist-packages (from aiohttp->datasets) (0.3.0)\n",
      "Requirement already satisfied: yarl<2.0,>=1.17.0 in /usr/local/lib/python3.11/dist-packages (from aiohttp->datasets) (1.18.3)\n",
      "Requirement already satisfied: typing-extensions>=3.7.4.3 in /usr/local/lib/python3.11/dist-packages (from huggingface-hub>=0.24.0->datasets) (4.12.2)\n",
      "Requirement already satisfied: charset-normalizer<4,>=2 in /usr/local/lib/python3.11/dist-packages (from requests>=2.32.2->datasets) (3.4.1)\n",
      "Requirement already satisfied: idna<4,>=2.5 in /usr/local/lib/python3.11/dist-packages (from requests>=2.32.2->datasets) (3.10)\n",
      "Requirement already satisfied: urllib3<3,>=1.21.1 in /usr/local/lib/python3.11/dist-packages (from requests>=2.32.2->datasets) (2.3.0)\n",
      "Requirement already satisfied: certifi>=2017.4.17 in /usr/local/lib/python3.11/dist-packages (from requests>=2.32.2->datasets) (2025.1.31)\n",
      "Requirement already satisfied: python-dateutil>=2.8.2 in /usr/local/lib/python3.11/dist-packages (from pandas->datasets) (2.8.2)\n",
      "Requirement already satisfied: pytz>=2020.1 in /usr/local/lib/python3.11/dist-packages (from pandas->datasets) (2025.1)\n",
      "Requirement already satisfied: tzdata>=2022.7 in /usr/local/lib/python3.11/dist-packages (from pandas->datasets) (2025.1)\n",
      "Requirement already satisfied: six>=1.5 in /usr/local/lib/python3.11/dist-packages (from python-dateutil>=2.8.2->pandas->datasets) (1.17.0)\n",
      "Downloading datasets-3.4.1-py3-none-any.whl (487 kB)\n",
      "\u001b[2K   \u001b[90m━━━━━━━━━━━━━━━━━━━━━━━━━━━━━━━━━━━━━━━━\u001b[0m \u001b[32m487.4/487.4 kB\u001b[0m \u001b[31m14.9 MB/s\u001b[0m eta \u001b[36m0:00:00\u001b[0m\n",
      "\u001b[?25hDownloading dill-0.3.8-py3-none-any.whl (116 kB)\n",
      "\u001b[2K   \u001b[90m━━━━━━━━━━━━━━━━━━━━━━━━━━━━━━━━━━━━━━━━\u001b[0m \u001b[32m116.3/116.3 kB\u001b[0m \u001b[31m10.8 MB/s\u001b[0m eta \u001b[36m0:00:00\u001b[0m\n",
      "\u001b[?25hDownloading multiprocess-0.70.16-py311-none-any.whl (143 kB)\n",
      "\u001b[2K   \u001b[90m━━━━━━━━━━━━━━━━━━━━━━━━━━━━━━━━━━━━━━━━\u001b[0m \u001b[32m143.5/143.5 kB\u001b[0m \u001b[31m13.1 MB/s\u001b[0m eta \u001b[36m0:00:00\u001b[0m\n",
      "\u001b[?25hDownloading xxhash-3.5.0-cp311-cp311-manylinux_2_17_x86_64.manylinux2014_x86_64.whl (194 kB)\n",
      "\u001b[2K   \u001b[90m━━━━━━━━━━━━━━━━━━━━━━━━━━━━━━━━━━━━━━━━\u001b[0m \u001b[32m194.8/194.8 kB\u001b[0m \u001b[31m18.1 MB/s\u001b[0m eta \u001b[36m0:00:00\u001b[0m\n",
      "\u001b[?25hInstalling collected packages: xxhash, dill, multiprocess, datasets\n",
      "Successfully installed datasets-3.4.1 dill-0.3.8 multiprocess-0.70.16 xxhash-3.5.0\n"
     ]
    }
   ],
   "source": [
    "%pip install datasets"
   ]
  },
  {
   "cell_type": "code",
   "execution_count": 1,
   "metadata": {
    "execution": {
     "iopub.execute_input": "2025-03-20T23:08:20.441595Z",
     "iopub.status.busy": "2025-03-20T23:08:20.441280Z",
     "iopub.status.idle": "2025-03-20T23:08:29.651126Z",
     "shell.execute_reply": "2025-03-20T23:08:29.650198Z",
     "shell.execute_reply.started": "2025-03-20T23:08:20.441552Z"
    },
    "id": "aiW3GlID0k4F"
   },
   "outputs": [],
   "source": [
    "import torch\n",
    "from datasets import load_dataset\n",
    "from transformers import AutoTokenizer, AutoModelForSequenceClassification\n",
    "from sklearn.metrics import accuracy_score\n",
    "from torch.utils.data import DataLoader\n",
    "import json\n",
    "\n",
    "\n",
    "# Load necessary packages\n",
    "from dataclasses import dataclass\n",
    "from typing import List, Tuple\n",
    "\n",
    "from torch.utils.data import Dataset\n",
    "from transformers import PreTrainedTokenizerFast\n",
    "from datasets import load_dataset\n",
    "\n",
    "import torch.nn as nn\n",
    "from torch.optim import Optimizer, AdamW\n",
    "from tqdm.notebook import tqdm"
   ]
  },
  {
   "cell_type": "code",
   "execution_count": 2,
   "metadata": {
    "execution": {
     "iopub.execute_input": "2025-03-20T23:08:33.418245Z",
     "iopub.status.busy": "2025-03-20T23:08:33.417969Z",
     "iopub.status.idle": "2025-03-20T23:08:33.421970Z",
     "shell.execute_reply": "2025-03-20T23:08:33.420992Z",
     "shell.execute_reply.started": "2025-03-20T23:08:33.418223Z"
    },
    "id": "MLQXJExmjPHZ"
   },
   "outputs": [],
   "source": [
    "# from datasets import Dataset\n",
    "import pickle"
   ]
  },
  {
   "cell_type": "code",
   "execution_count": 3,
   "metadata": {
    "execution": {
     "iopub.execute_input": "2025-03-20T23:08:35.529081Z",
     "iopub.status.busy": "2025-03-20T23:08:35.528744Z",
     "iopub.status.idle": "2025-03-20T23:08:47.699420Z",
     "shell.execute_reply": "2025-03-20T23:08:47.698765Z",
     "shell.execute_reply.started": "2025-03-20T23:08:35.529051Z"
    },
    "id": "HjAtO7ByqmwE"
   },
   "outputs": [],
   "source": [
    "from transformers import pipeline\n",
    "# from transformers.pipelines.pt_utils import KeyDataset"
   ]
  },
  {
   "cell_type": "code",
   "execution_count": 4,
   "metadata": {
    "execution": {
     "iopub.execute_input": "2025-03-20T12:39:02.311204Z",
     "iopub.status.busy": "2025-03-20T12:39:02.310458Z",
     "iopub.status.idle": "2025-03-20T12:39:02.314842Z",
     "shell.execute_reply": "2025-03-20T12:39:02.313870Z",
     "shell.execute_reply.started": "2025-03-20T12:39:02.311174Z"
    },
    "id": "eGWPC0JRQSMQ"
   },
   "outputs": [],
   "source": [
    "from datasets import load_dataset\n",
    "\n",
    "# ds = load_dataset(\"ChilleD/StrategyQA\")"
   ]
  },
  {
   "cell_type": "code",
   "execution_count": 4,
   "metadata": {
    "execution": {
     "iopub.execute_input": "2025-03-20T23:08:50.883848Z",
     "iopub.status.busy": "2025-03-20T23:08:50.883264Z",
     "iopub.status.idle": "2025-03-20T23:08:50.887898Z",
     "shell.execute_reply": "2025-03-20T23:08:50.886722Z",
     "shell.execute_reply.started": "2025-03-20T23:08:50.883820Z"
    },
    "id": "k6P7lbSxph8R"
   },
   "outputs": [],
   "source": [
    "model_name2 = \"deepseek-ai/DeepSeek-R1-Distill-Qwen-1.5B\"\n",
    "model_name = \"tiiuae/falcon-7b-instruct\""
   ]
  },
  {
   "cell_type": "code",
   "execution_count": 6,
   "metadata": {
    "colab": {
     "base_uri": "https://localhost:8080/"
    },
    "execution": {
     "iopub.execute_input": "2025-03-20T22:21:05.975088Z",
     "iopub.status.busy": "2025-03-20T22:21:05.974808Z",
     "iopub.status.idle": "2025-03-20T22:21:06.061748Z",
     "shell.execute_reply": "2025-03-20T22:21:06.060829Z",
     "shell.execute_reply.started": "2025-03-20T22:21:05.975065Z"
    },
    "id": "jT_ejAKaf33l",
    "outputId": "90001a11-31cb-4972-d0f2-ed923065cb29"
   },
   "outputs": [
    {
     "name": "stdout",
     "output_type": "stream",
     "text": [
      "2061\n"
     ]
    }
   ],
   "source": [
    "with open('/kaggle/input/strategyqa/train.json', 'r') as file:\n",
    "    train_data = json.load(file)\n",
    "\n",
    "# Print the data\n",
    "print(len(train_data))"
   ]
  },
  {
   "cell_type": "code",
   "execution_count": 5,
   "metadata": {
    "colab": {
     "base_uri": "https://localhost:8080/"
    },
    "execution": {
     "iopub.execute_input": "2025-03-20T23:08:54.846484Z",
     "iopub.status.busy": "2025-03-20T23:08:54.846164Z",
     "iopub.status.idle": "2025-03-20T23:08:54.864590Z",
     "shell.execute_reply": "2025-03-20T23:08:54.863973Z",
     "shell.execute_reply.started": "2025-03-20T23:08:54.846458Z"
    },
    "id": "SEFGvCqEgM4f",
    "outputId": "4cc4010d-c5a8-45e7-c3fc-43d74a96cc6e"
   },
   "outputs": [
    {
     "name": "stdout",
     "output_type": "stream",
     "text": [
      "229\n"
     ]
    }
   ],
   "source": [
    "with open('/kaggle/input/strategyqa/dev.json', 'r') as file:\n",
    "    validation_data = json.load(file)\n",
    "\n",
    "# Print the data\n",
    "print(len(validation_data))"
   ]
  },
  {
   "cell_type": "code",
   "execution_count": 6,
   "metadata": {
    "colab": {
     "base_uri": "https://localhost:8080/"
    },
    "execution": {
     "iopub.execute_input": "2025-03-20T16:14:24.841323Z",
     "iopub.status.busy": "2025-03-20T16:14:24.840978Z",
     "iopub.status.idle": "2025-03-20T16:14:24.847539Z",
     "shell.execute_reply": "2025-03-20T16:14:24.846649Z",
     "shell.execute_reply.started": "2025-03-20T16:14:24.841292Z"
    },
    "id": "EAfk7Z76hXnD",
    "outputId": "3b8e6861-836c-4ca4-ec81-9641eca195f8"
   },
   "outputs": [
    {
     "data": {
      "text/plain": [
       "{'qid': '2bc9c4f9c19c167187f2',\n",
       " 'term': 'Genghis Khan',\n",
       " 'description': 'founder and first Great Khan of the Mongol Empire',\n",
       " 'question': 'Are more people today related to Genghis Khan than Julius Caesar?',\n",
       " 'answer': True,\n",
       " 'facts': ['Julius Caesar had three children.',\n",
       "  'Genghis Khan had sixteen children.',\n",
       "  'Modern geneticists have determined that  out of every 200 men today has DNA that can be traced to Genghis Khan.'],\n",
       " 'decomposition': ['How many kids did Julius Caesar have?',\n",
       "  'How many kids did Genghis Khan have?',\n",
       "  'Is #2 greater than #1?'],\n",
       " 'evidence': [[[['Caesarion-2', 'Julia (daughter of Caesar)-1']],\n",
       "   [['Alakhai Bekhi-1', 'Tolui-1'], 'no_evidence'],\n",
       "   ['operation']],\n",
       "  [[['Julius Caesar-75']], [['Genghis Khan-17']], ['operation']],\n",
       "  [[['Gaius Julius Caesar-7']],\n",
       "   [['Genghis Khan-15'], 'no_evidence'],\n",
       "   ['no_evidence', 'operation']]]}"
      ]
     },
     "execution_count": 6,
     "metadata": {},
     "output_type": "execute_result"
    }
   ],
   "source": [
    "train_data[0]"
   ]
  },
  {
   "cell_type": "code",
   "execution_count": 6,
   "metadata": {
    "execution": {
     "iopub.execute_input": "2025-03-20T23:09:00.990012Z",
     "iopub.status.busy": "2025-03-20T23:09:00.989688Z",
     "iopub.status.idle": "2025-03-20T23:09:01.064459Z",
     "shell.execute_reply": "2025-03-20T23:09:01.063643Z",
     "shell.execute_reply.started": "2025-03-20T23:09:00.989982Z"
    },
    "id": "exarHfBtX8ko"
   },
   "outputs": [],
   "source": [
    "device = 'cuda' if torch.cuda.is_available() else 'cpu'"
   ]
  },
  {
   "cell_type": "code",
   "execution_count": 7,
   "metadata": {
    "colab": {
     "base_uri": "https://localhost:8080/",
     "height": 478,
     "referenced_widgets": [
      "40440143bb774391b5a5772297e78a7f",
      "493061a466df47c6971e77d8b34934c0",
      "d00e3dd7c66a4968998de229f864b06f",
      "717fe4269a174051a1790cc883e516f5",
      "43c02f955a7d4f21907b6a26b9b62420",
      "86df0b884f8a4d668a72cf11036eb685",
      "c167ab3c7ee5442ca6673f1b4555a140",
      "069e8ce673d24b638a8759e60d380629",
      "f4f4cd71474c4270916b36375c172665",
      "21c77a17124c4d25bf7c03e8cef20a7d",
      "e808f5f525ff41dba524b194644faa8e",
      "6b9a0bd1df164f209a0f8ef3023acf13",
      "467b081022a54bacac54b58753232f04",
      "308b97382ddd43108066a1cd496a7748",
      "e70ee34439064e1aa990b813cf807a72",
      "a355ead8770441c5b8124ac5d7e35002",
      "7de2b1cb391142d89603818e03a5fe36",
      "62378cfbdb5c47eb842a219e2f757c06",
      "340ac68e112341b5b83918a586926b54",
      "c3e66e60becf4da5b834ac4d1a0420ca",
      "19373f4e6399459094ec16e5f08a91f1",
      "f93f3fed9efa437c8a73a71d137833b6",
      "eaeb45e37c3546b2ae90c972c4267597",
      "f07d2ae8e0ce4ed6b6c84b46b6a30fe2",
      "13873ba204cc417bb27e736a4da199ce",
      "c42946b5aea9461aa8aa2db87f432077",
      "694733cf398e433684e7acfb354fefb7",
      "db0dd62cd9904ae1bed244d90e4be2e1",
      "253e200634094509ad5e11a94d92eeb1",
      "e46cd88fff0a41edaba309872628d788",
      "3ffa982c82c04c2c9e1362b61c1d5dbe",
      "2a509b57b7d54927ae6c3cac0a57de89",
      "5a0e412b547f48509177404e6f72a4c9",
      "02033bd2b10a45edb148dd01c6e9b50b",
      "dad75e73aed94d8297fd4a6da1e96051",
      "2a0846d493bb43cc9c31d99cab00b275",
      "5da80afbe4284c9cbae0d39bbfe39732",
      "15a9b212e1524d6fac137bf208f93c8b",
      "e3e1b227855442e592895524a8213604",
      "49302abc3ede46bebcfd8d7756d8bf7e",
      "6ceb8ac088eb4224937b71039ed49962",
      "645e707519524051a7f58cdb5a84c760",
      "532c9f5fc9484e7580322c4773dd232e",
      "378e31b39f874edbb57af88fcaff564c",
      "e66030c68b814192b96af62b311bf498",
      "fb614bd14b694e80acd4074d21c25a0b",
      "94b341582d6b45bfa7f5c255a90735fa",
      "120de8b32fdc4fd4842c46b71878537a",
      "ba1ae59a16a24ef3abd10d22de7a65c8",
      "15f6ebfa2cf44faa96d5199039b6060b",
      "d6bfd85959fa4ea689fd7300d6734e5f",
      "02776f1b35b54785b2229896199e643a",
      "bb77e75800464892a60bbdd0f98f2bc9",
      "cc2e10cb65d247b18cf05befa0067157",
      "ea658b94b5b54e0ca0318bba2e4015ee",
      "4eda296b347546b28f09083acc3df08e",
      "ef45294d018f43f8ad62c3ba85f0f4b9",
      "aed50153282c4de8b70693d7fd34431d",
      "0411b328d0834350846f98b12674a6ec",
      "e5dff6d02b1f468b87cdc251a270ed01",
      "560c48178df14abd92e8a06918b825cf",
      "5c09c1cda0ad492881a056ee53d5faae",
      "f79c0b1b092441b8b592d57b5656d0cb",
      "01ce54e36ee044ce96cb242fe5a2706c",
      "d4e50ea29c534ce3bc862de30d273db6",
      "3fa90f0ddf4b4d079d93b5517a2f2326",
      "b0852f979c3d452f93073658e8374dfc",
      "1a37fd8e738245b082b3a29fb7c87629",
      "718193cddeab42f1946e99e20a151084",
      "c6358bb6c3314b76beebab35391cf4df",
      "852ae4457f964ab4a72752c53ae7e1b7",
      "482cd2adb34f4936a346bc2db6be448c",
      "b7753f8c74594e2b928e68e0c59679b6",
      "43706358d1824702ba5da6b7cb782227",
      "107c21f61912430e9d06e47f7a6d8ce9",
      "35becdf915e440eb829e8a4ff5a715c9",
      "3d3af0da3010431a9670ebe5f2724001",
      "a8d26261121f4130b44ab3d2c54b8119",
      "8c5dfb640ad44a698fc561a4354135d2",
      "b8cdbb1217a349a6aab21147ce6e3830",
      "84ffa82cf1b540619ed2da1e0f70b78b",
      "09054143ecff4f12a4eee2dd45d39b3a",
      "336906cb5065480a9e04acdefdf013ce",
      "3ae1027ae9f145de94a6c256c53a2e15",
      "3e2675791f334e4880636739900f3d17",
      "25ca75a72931440d98151a80631bcc2a",
      "2e823e68a9f44051b7beeadd08e51f08",
      "22c29d5076df483caab616ea1efbd221",
      "63095dda661b41bdb66eeb6c34e274a6",
      "484b008a21e74c9d939b27a0bb5e81ea",
      "196c6c74bec9464ea35a762d6a09a54d",
      "fbcb703c21d84c0baee86f7829b5779d",
      "3ca301540cc3466f9f1b1e4bbeb0b1cf",
      "39a97e61ec6c4e7c8d657cd6a5adfd44",
      "b6f0ac39d04642068d457785c4e16a60",
      "04045d96fbd14d6fa383135f2f41e00f",
      "4569a0097c9f4863b85cbf057673631b",
      "0f94e1e4f362445e96c25173f80e606f",
      "60d78945e3a34f3b90d48768a2499bce",
      "e254d4b77aef4dd4b3330c35bef515cc",
      "db898dadcfe5454c9bf5cc86fb7646a2",
      "310d4528bf164d7097aed61c40c659f8",
      "28be91b31afd4817aaeff5f79bf29dcc",
      "77280a1e2815492aa93bbc36ad875b8c",
      "d117ce499bb34cb6bf3e4f0ddd63d848",
      "66654ec57a9442d09eb612df769dc8a1",
      "1c8f9ac59104416dafbc3b21b0cfc97d",
      "b896a9b1b2974adc971ca3f763da578f",
      "8b41592c4922462e90499c5d77cabadc",
      "cb945f79133b4f0ab0e8a06bdab340e7"
     ]
    },
    "execution": {
     "iopub.execute_input": "2025-03-20T23:09:02.480144Z",
     "iopub.status.busy": "2025-03-20T23:09:02.479837Z",
     "iopub.status.idle": "2025-03-20T23:10:24.304577Z",
     "shell.execute_reply": "2025-03-20T23:10:24.303722Z",
     "shell.execute_reply.started": "2025-03-20T23:09:02.480121Z"
    },
    "id": "9KA_Gf-SqcNE",
    "outputId": "0e177c06-c772-4033-a9d2-dab8ce328bb6"
   },
   "outputs": [
    {
     "data": {
      "application/vnd.jupyter.widget-view+json": {
       "model_id": "266eec75734b43f9b350809d490dfe40",
       "version_major": 2,
       "version_minor": 0
      },
      "text/plain": [
       "tokenizer_config.json:   0%|          | 0.00/1.13k [00:00<?, ?B/s]"
      ]
     },
     "metadata": {},
     "output_type": "display_data"
    },
    {
     "data": {
      "application/vnd.jupyter.widget-view+json": {
       "model_id": "b67c416f1bfd4c2ca03a79517f3a5be1",
       "version_major": 2,
       "version_minor": 0
      },
      "text/plain": [
       "tokenizer.json:   0%|          | 0.00/2.73M [00:00<?, ?B/s]"
      ]
     },
     "metadata": {},
     "output_type": "display_data"
    },
    {
     "data": {
      "application/vnd.jupyter.widget-view+json": {
       "model_id": "d4a97262a6af421683dfc06b74d19a21",
       "version_major": 2,
       "version_minor": 0
      },
      "text/plain": [
       "special_tokens_map.json:   0%|          | 0.00/281 [00:00<?, ?B/s]"
      ]
     },
     "metadata": {},
     "output_type": "display_data"
    },
    {
     "data": {
      "application/vnd.jupyter.widget-view+json": {
       "model_id": "1436794cfad14f628db1ddda75e0afd4",
       "version_major": 2,
       "version_minor": 0
      },
      "text/plain": [
       "config.json:   0%|          | 0.00/1.05k [00:00<?, ?B/s]"
      ]
     },
     "metadata": {},
     "output_type": "display_data"
    },
    {
     "data": {
      "application/vnd.jupyter.widget-view+json": {
       "model_id": "37f05d1117c04bda98e741861aa8e923",
       "version_major": 2,
       "version_minor": 0
      },
      "text/plain": [
       "model.safetensors.index.json:   0%|          | 0.00/17.7k [00:00<?, ?B/s]"
      ]
     },
     "metadata": {},
     "output_type": "display_data"
    },
    {
     "data": {
      "application/vnd.jupyter.widget-view+json": {
       "model_id": "59dd7dc9a93f49edb163a824b4ef601f",
       "version_major": 2,
       "version_minor": 0
      },
      "text/plain": [
       "Downloading shards:   0%|          | 0/2 [00:00<?, ?it/s]"
      ]
     },
     "metadata": {},
     "output_type": "display_data"
    },
    {
     "data": {
      "application/vnd.jupyter.widget-view+json": {
       "model_id": "1ddfd087966b4c4e896703bccda0d653",
       "version_major": 2,
       "version_minor": 0
      },
      "text/plain": [
       "model-00001-of-00002.safetensors:   0%|          | 0.00/9.95G [00:00<?, ?B/s]"
      ]
     },
     "metadata": {},
     "output_type": "display_data"
    },
    {
     "data": {
      "application/vnd.jupyter.widget-view+json": {
       "model_id": "eab361f5a3384f91a637d1b25285e41b",
       "version_major": 2,
       "version_minor": 0
      },
      "text/plain": [
       "model-00002-of-00002.safetensors:   0%|          | 0.00/4.48G [00:00<?, ?B/s]"
      ]
     },
     "metadata": {},
     "output_type": "display_data"
    },
    {
     "data": {
      "application/vnd.jupyter.widget-view+json": {
       "model_id": "eb020488811d4737afeefca8be471f9e",
       "version_major": 2,
       "version_minor": 0
      },
      "text/plain": [
       "Loading checkpoint shards:   0%|          | 0/2 [00:00<?, ?it/s]"
      ]
     },
     "metadata": {},
     "output_type": "display_data"
    },
    {
     "data": {
      "application/vnd.jupyter.widget-view+json": {
       "model_id": "67e63dd56b0c457b8cb8067dd7c4ea4a",
       "version_major": 2,
       "version_minor": 0
      },
      "text/plain": [
       "generation_config.json:   0%|          | 0.00/117 [00:00<?, ?B/s]"
      ]
     },
     "metadata": {},
     "output_type": "display_data"
    },
    {
     "name": "stderr",
     "output_type": "stream",
     "text": [
      "Device set to use cuda:0\n"
     ]
    }
   ],
   "source": [
    "torch.manual_seed(0)\n",
    "\n",
    "tokenizer = AutoTokenizer.from_pretrained(model_name)\n",
    "pipe = pipeline(\n",
    "    \"text-generation\",\n",
    "    model=model_name,\n",
    "    tokenizer=tokenizer,\n",
    "    torch_dtype=torch.bfloat16,\n",
    "    device_map=\"auto\",\n",
    ")"
   ]
  },
  {
   "cell_type": "code",
   "execution_count": 9,
   "metadata": {
    "execution": {
     "iopub.execute_input": "2025-03-20T20:33:20.577930Z",
     "iopub.status.busy": "2025-03-20T20:33:20.577650Z",
     "iopub.status.idle": "2025-03-20T20:33:43.427004Z",
     "shell.execute_reply": "2025-03-20T20:33:43.426358Z",
     "shell.execute_reply.started": "2025-03-20T20:33:20.577909Z"
    }
   },
   "outputs": [
    {
     "data": {
      "application/vnd.jupyter.widget-view+json": {
       "model_id": "81b9d7b3eff947f1bf0a65340372016a",
       "version_major": 2,
       "version_minor": 0
      },
      "text/plain": [
       "tokenizer_config.json:   0%|          | 0.00/3.07k [00:00<?, ?B/s]"
      ]
     },
     "metadata": {},
     "output_type": "display_data"
    },
    {
     "data": {
      "application/vnd.jupyter.widget-view+json": {
       "model_id": "4ea279ca3ae74d2597208db13eba25b8",
       "version_major": 2,
       "version_minor": 0
      },
      "text/plain": [
       "tokenizer.json:   0%|          | 0.00/7.03M [00:00<?, ?B/s]"
      ]
     },
     "metadata": {},
     "output_type": "display_data"
    },
    {
     "data": {
      "application/vnd.jupyter.widget-view+json": {
       "model_id": "a82994e616a64b71b4f20c92339411d4",
       "version_major": 2,
       "version_minor": 0
      },
      "text/plain": [
       "config.json:   0%|          | 0.00/679 [00:00<?, ?B/s]"
      ]
     },
     "metadata": {},
     "output_type": "display_data"
    },
    {
     "data": {
      "application/vnd.jupyter.widget-view+json": {
       "model_id": "d3e9f776d6494dd78ce258389e82ce7e",
       "version_major": 2,
       "version_minor": 0
      },
      "text/plain": [
       "model.safetensors:   0%|          | 0.00/3.55G [00:00<?, ?B/s]"
      ]
     },
     "metadata": {},
     "output_type": "display_data"
    },
    {
     "data": {
      "application/vnd.jupyter.widget-view+json": {
       "model_id": "e3cf11cdd2b34974a7b0e0a1e4192b2d",
       "version_major": 2,
       "version_minor": 0
      },
      "text/plain": [
       "generation_config.json:   0%|          | 0.00/181 [00:00<?, ?B/s]"
      ]
     },
     "metadata": {},
     "output_type": "display_data"
    },
    {
     "name": "stderr",
     "output_type": "stream",
     "text": [
      "Device set to use cuda:0\n"
     ]
    }
   ],
   "source": [
    "torch.manual_seed(1)\n",
    "\n",
    "tokenizer = AutoTokenizer.from_pretrained(model_name2)\n",
    "pipe = pipeline(\n",
    "    \"text-generation\",\n",
    "    model=model_name2,\n",
    "    tokenizer=tokenizer,\n",
    "    torch_dtype=torch.bfloat16,\n",
    "    device_map=\"auto\",\n",
    ")"
   ]
  },
  {
   "cell_type": "code",
   "execution_count": 8,
   "metadata": {
    "execution": {
     "iopub.execute_input": "2025-03-20T23:11:06.356897Z",
     "iopub.status.busy": "2025-03-20T23:11:06.356447Z",
     "iopub.status.idle": "2025-03-20T23:11:06.361250Z",
     "shell.execute_reply": "2025-03-20T23:11:06.360225Z",
     "shell.execute_reply.started": "2025-03-20T23:11:06.356855Z"
    },
    "id": "GJJEHf-Dv5IN"
   },
   "outputs": [],
   "source": [
    "tokenizer.pad_token = tokenizer.eos_token"
   ]
  },
  {
   "cell_type": "code",
   "execution_count": 11,
   "metadata": {
    "colab": {
     "base_uri": "https://localhost:8080/"
    },
    "execution": {
     "iopub.execute_input": "2025-03-20T22:23:05.774335Z",
     "iopub.status.busy": "2025-03-20T22:23:05.773904Z",
     "iopub.status.idle": "2025-03-20T22:23:07.409824Z",
     "shell.execute_reply": "2025-03-20T22:23:07.409022Z",
     "shell.execute_reply.started": "2025-03-20T22:23:05.774290Z"
    },
    "id": "Tdkm4L8eq9ns",
    "outputId": "81d7e0b3-e2fc-4450-a914-d5465f48a9f9"
   },
   "outputs": [
    {
     "name": "stderr",
     "output_type": "stream",
     "text": [
      "Setting `pad_token_id` to `eos_token_id`:11 for open-end generation.\n"
     ]
    },
    {
     "name": "stdout",
     "output_type": "stream",
     "text": [
      "No\n"
     ]
    }
   ],
   "source": [
    "torch.manual_seed(1)\n",
    "prompt = \"\"\"Answer the question with 'Yes' or 'No'.\n",
    "Question: Did Aristotle use a laptop?\n",
    "Answer:\n",
    "\"\"\"\n",
    "\n",
    "sequences = pipe(\n",
    "    prompt,\n",
    "    max_new_tokens=15,\n",
    "    return_full_text = False,\n",
    ")\n",
    "\n",
    "for seq in sequences:\n",
    "    print(f\"{seq['generated_text']}\")"
   ]
  },
  {
   "cell_type": "code",
   "execution_count": 8,
   "metadata": {
    "execution": {
     "iopub.execute_input": "2025-03-20T18:16:14.947672Z",
     "iopub.status.busy": "2025-03-20T18:16:14.947355Z",
     "iopub.status.idle": "2025-03-20T18:16:15.994119Z",
     "shell.execute_reply": "2025-03-20T18:16:15.993114Z",
     "shell.execute_reply.started": "2025-03-20T18:16:14.947649Z"
    }
   },
   "outputs": [
    {
     "name": "stdout",
     "output_type": "stream",
     "text": [
      "</think>\n",
      "\n",
      "No, a microwave cannot melt a Toyota Prius battery.\n"
     ]
    }
   ],
   "source": [
    "torch.manual_seed(1)\n",
    "prompt = \"\"\"Answer the question with 'Yes' or 'No'.\n",
    "Question: Can a microwave melt a Toyota Prius battery?\n",
    "Answer:\n",
    "\"\"\"\n",
    "\n",
    "sequences = pipe(\n",
    "    prompt,\n",
    "    max_new_tokens=15,\n",
    "    return_full_text = False,\n",
    ")\n",
    "\n",
    "for seq in sequences:\n",
    "    print(f\"{seq['generated_text']}\")"
   ]
  },
  {
   "cell_type": "code",
   "execution_count": 30,
   "metadata": {
    "colab": {
     "base_uri": "https://localhost:8080/"
    },
    "execution": {
     "iopub.execute_input": "2025-03-20T16:50:24.586490Z",
     "iopub.status.busy": "2025-03-20T16:50:24.586146Z",
     "iopub.status.idle": "2025-03-20T16:50:31.075949Z",
     "shell.execute_reply": "2025-03-20T16:50:31.075230Z",
     "shell.execute_reply.started": "2025-03-20T16:50:24.586465Z"
    },
    "id": "-E1iOuvNzF_t",
    "outputId": "749ea747-f2a4-4bbf-9417-bba982e5a7e2"
   },
   "outputs": [
    {
     "name": "stderr",
     "output_type": "stream",
     "text": [
      "Setting `pad_token_id` to `eos_token_id`:11 for open-end generation.\n"
     ]
    },
    {
     "name": "stdout",
     "output_type": "stream",
     "text": [
      "1. Did the ancient Greeks even own a laptop as they did not have laptops back in the time of Aristotle?\n",
      "2. Even if they did have laptops during the time of Aristotle, he lived in ancient Greece, not the present day where laptops are a common sight.\n",
      "\n",
      "Conclusion: No, Aristotle did not have access to laptops or computers.\n"
     ]
    }
   ],
   "source": [
    "torch.manual_seed(1)\n",
    "prompt = \"\"\"Briefly explain your reasoning, and then answer the question with 'Yes' or 'No'.\n",
    "Question: Did Aristotle use a laptop?\n",
    "Reasoning and Answer:\n",
    "\"\"\"\n",
    "prompt2 = \"\"\"Let's think this through step by step.\n",
    "Question: Did Aristotle use a laptop?\n",
    "Answer:\n",
    "\"\"\"\n",
    "\n",
    "\n",
    "sequences = pipe(\n",
    "    prompt2,\n",
    "    do_sample=True,\n",
    "    top_k=10,\n",
    "    max_new_tokens=100,\n",
    "    return_full_text = False,\n",
    ")\n",
    "\n",
    "\"\"\"\n",
    "sequences = pipe(\n",
    "    prompt2,\n",
    "    max_new_tokens=100,\n",
    "    return_full_text = False,\n",
    ")\n",
    "\"\"\"\n",
    "\n",
    "for seq in sequences:\n",
    "    print(f\"{seq['generated_text']}\")"
   ]
  },
  {
   "cell_type": "code",
   "execution_count": 17,
   "metadata": {
    "execution": {
     "iopub.execute_input": "2025-03-20T18:26:12.208547Z",
     "iopub.status.busy": "2025-03-20T18:26:12.208181Z",
     "iopub.status.idle": "2025-03-20T18:26:18.129503Z",
     "shell.execute_reply": "2025-03-20T18:26:18.128589Z",
     "shell.execute_reply.started": "2025-03-20T18:26:12.208518Z"
    }
   },
   "outputs": [
    {
     "name": "stderr",
     "output_type": "stream",
     "text": [
      "You seem to be using the pipelines sequentially on GPU. In order to maximize efficiency please use a dataset\n"
     ]
    },
    {
     "name": "stdout",
     "output_type": "stream",
     "text": [
      "Step 1: Identify the question: Did Aristotle use a laptop?\n",
      "Step 2: Break it down into smaller parts.\n",
      "Step 3: Analyze each part.\n",
      "Step 4: Synthesize the information to form a coherent answer.\n",
      "Step 5: Evaluate the answer for accuracy and completeness.\n",
      "Step 6: Reflect on the process and improve if necessary.\n",
      "Alright, let's apply this method to the question: Did Aristotle use a laptop?\n",
      "First, I need to understand what the question is\n"
     ]
    }
   ],
   "source": [
    "torch.manual_seed(1)\n",
    "prompt = \"\"\"Briefly explain your reasoning, and then answer the question with 'Yes' or 'No'.\n",
    "Question: Did Aristotle use a laptop?\n",
    "Reasoning and Answer:\n",
    "\"\"\"\n",
    "prompt2 = \"\"\"Let's think this through step by step.\n",
    "Question: Did Aristotle use a laptop?\n",
    "Answer:\n",
    "\"\"\"\n",
    "\n",
    "\n",
    "sequences = pipe(\n",
    "    prompt2,\n",
    "    do_sample=True,\n",
    "    top_k=10,\n",
    "    max_new_tokens=100,\n",
    "    return_full_text = False,\n",
    ")\n",
    "\n",
    "\"\"\"\n",
    "sequences = pipe(\n",
    "    prompt2,\n",
    "    max_new_tokens=100,\n",
    "    return_full_text = False,\n",
    ")\n",
    "\"\"\"\n",
    "\n",
    "for seq in sequences:\n",
    "    print(f\"{seq['generated_text']}\")"
   ]
  },
  {
   "cell_type": "code",
   "execution_count": 155,
   "metadata": {
    "colab": {
     "base_uri": "https://localhost:8080/"
    },
    "id": "48V2h9i3A1IP",
    "outputId": "f0c43854-a4b8-498c-fd1a-7e6441e2a8dd"
   },
   "outputs": [
    {
     "data": {
      "text/plain": [
       "{'qid': 'a46d7c79c3cae661a145',\n",
       " 'term': 'Haiku',\n",
       " 'description': 'very short form of Japanese poetry',\n",
       " 'question': 'Are most books written as a Haiku?',\n",
       " 'answer': False,\n",
       " 'facts': ['Haiku is a very short poem',\n",
       "  'Haiku is written with 3 short phrases.'],\n",
       " 'decomposition': ['What is the format of a haiku?',\n",
       "  'Are chapter books written like #1?'],\n",
       " 'evidence': [[[['Haiku-2']], ['operation']],\n",
       "  [[['Haiku-2']], [['Chapter book-1']]],\n",
       "  [[['Haiku-2']], ['no_evidence']]]}"
      ]
     },
     "execution_count": 155,
     "metadata": {},
     "output_type": "execute_result"
    }
   ],
   "source": [
    "train_data[128]"
   ]
  },
  {
   "cell_type": "code",
   "execution_count": 43,
   "metadata": {
    "colab": {
     "base_uri": "https://localhost:8080/"
    },
    "execution": {
     "iopub.execute_input": "2025-03-20T17:29:21.761467Z",
     "iopub.status.busy": "2025-03-20T17:29:21.761106Z",
     "iopub.status.idle": "2025-03-20T17:29:29.255862Z",
     "shell.execute_reply": "2025-03-20T17:29:29.255052Z",
     "shell.execute_reply.started": "2025-03-20T17:29:21.761441Z"
    },
    "id": "iZ43xwjTAD-O",
    "outputId": "b440894d-4724-4458-8b51-46efe5fba0f6"
   },
   "outputs": [
    {
     "name": "stdout",
     "output_type": "stream",
     "text": [
      "1. Is a Haiku poem a type of poem?\n",
      "A Haiku poem is a type of poem.\n",
      "2. What is Haiku?\n",
      "Haiku is a type of traditional Japanese poetry.\n",
      "3. Are Haiku and books related?\n",
      "No, Haiku and books are unrelated.\n"
     ]
    }
   ],
   "source": [
    "torch.manual_seed(1)\n",
    "prompt2 = \"\"\"Let's think this through step by step. Decompose the question into a series of explicit sub-questions and answer each of them.\n",
    "Example:\n",
    "Question: Are more people today related to Genghis Khan than Julius Caesar?\n",
    "Decomposition:\n",
    "1. How many kids did Julius Caesar have?\n",
    "Julius Caesar had three children.\n",
    "2. How many kids did Genghis Khan have?\n",
    "Genghis Khan had sixteen children.\n",
    "3. Is #2 greater than #1?\n",
    "Modern geneticists have determined that out of every 200 men today has DNA that can be traced to Genghis Khan.\n",
    "Final Answer: Yes\n",
    "\n",
    "Question: Can the President of Mexico vote in New Mexico primaries?\n",
    "Decomposition:\n",
    "\"\"\"\n",
    "\n",
    "prompt = \"\"\"Let's think this through step by step. Decompose the question into a series of explicit sub-questions and answer each of them.\n",
    "Example 1:\n",
    "Question: Are more people today related to Genghis Khan than Julius Caesar?\n",
    "Decomposition:\n",
    "1. How many kids did Julius Caesar have?\n",
    "Julius Caesar had three children.\n",
    "2. How many kids did Genghis Khan have?\n",
    "Genghis Khan had sixteen children.\n",
    "3. Is #2 greater than #1?\n",
    "Final Answer: Yes\n",
    "\n",
    "Example 2:\n",
    "Question: Does a Generation Y member satisfy NYPD police officer age requirement?\n",
    "Decomposition:\n",
    "1. How old do you have to be to be an NYPD officer?\n",
    "The NYPD has a minimum age requirement of 21.\n",
    "2. How old are Generation Y members currently?\n",
    "Members of Generation Y were born between 1980 and 1994.\n",
    "3. Is #2 higher than #1?\n",
    "Final Answer: Yes\n",
    "\n",
    "Example 3:\n",
    "Question: Is shrimp scampi definitely free of plastic?\n",
    "Decomposition:\n",
    "1. What protein is Shrimp scampi made out of?\n",
    "Shrimp scampi is a dish made with shrimp.\n",
    "2. What have #1 been found to contain?\n",
    "Shrimp have been found to contain microplastics.\n",
    "3. Are #2 free from plastic?\n",
    "Microplastics are plastic material.\n",
    "Final Answer: No\n",
    "\n",
    "Question: Are most books written as a Haiku?\n",
    "Decomposition:\n",
    "\"\"\"\n",
    "\n",
    "\"\"\"\n",
    "Example 2:\n",
    "Question: Is shrimp scampi definitely free of plastic?\n",
    "Decomposition:\n",
    "1. What protein is Shrimp scampi made out of?\n",
    "Shrimp scampi is a dish made with shrimp.\n",
    "2. What have #1 been found to contain?\n",
    "Shrimp have been found to contain microplastics.\n",
    "3. Are #2 free from plastic?\n",
    "Microplastics are plastic material.\n",
    "Final Answer: No\n",
    "\n",
    "Example 2:\n",
    "Question: Are most books written as a Haiku?\n",
    "Decomposition:\n",
    "1. What is the format of a haiku?\n",
    "Haiku is a very short poem. Haiku is written with 3 short phrases.\n",
    "2. Are chapter books written like #1?\n",
    "Final Answer: No\n",
    "\n",
    "Example 3:\n",
    "Question: Does a Generation Y member satisfy NYPD police officer age requirement?\n",
    "Decomposition:\n",
    "1. How old do you have to be to be an NYPD officer?\n",
    "The NYPD has a minimum age requirement of 21.\n",
    "2. How old are Generation Y members currently?\n",
    "Members of Generation Y were born between 1980 and 1994.\n",
    "3. Is #2 higher than #1?\n",
    "Final Answer: Yes\n",
    "\"\"\"\n",
    "\n",
    "sequences = pipe(\n",
    "    prompt,\n",
    "    do_sample=True,\n",
    "    top_k=10,\n",
    "    max_new_tokens=100,\n",
    "    return_full_text = False,\n",
    "    pad_token_id=tokenizer.eos_token_id\n",
    ")\n",
    "\n",
    "\"\"\"\n",
    "sequences = pipe(\n",
    "    prompt2,\n",
    "    max_new_tokens=100,\n",
    "    return_full_text = False,\n",
    ")\n",
    "\"\"\"\n",
    "\n",
    "for seq in sequences:\n",
    "    print(f\"{seq['generated_text']}\")"
   ]
  },
  {
   "cell_type": "code",
   "execution_count": 27,
   "metadata": {
    "execution": {
     "iopub.execute_input": "2025-03-20T12:55:30.409454Z",
     "iopub.status.busy": "2025-03-20T12:55:30.409114Z",
     "iopub.status.idle": "2025-03-20T12:55:30.414233Z",
     "shell.execute_reply": "2025-03-20T12:55:30.413565Z",
     "shell.execute_reply.started": "2025-03-20T12:55:30.409431Z"
    }
   },
   "outputs": [
    {
     "data": {
      "text/plain": [
       "\"Let's think this through step by step. Decompose the question into a series of explicit sub-questions and answer each of them.\\nExample 1:\\nQuestion: Are more people today related to Genghis Khan than Julius Caesar?\\nDecomposition:\\n1. How many kids did Julius Caesar have?\\nJulius Caesar had three children.\\n2. How many kids did Genghis Khan have?\\nGenghis Khan had sixteen children.\\n3. Is #2 greater than #1?\\nFinal Answer: Yes\\n\\nExample 2:\\nQuestion: Does a Generation Y member satisfy NYPD police officer age requirement?\\nDecomposition:\\n1. How old do you have to be to be an NYPD officer?\\nThe NYPD has a minimum age requirement of 21.\\n2. How old are Generation Y members currently?\\nMembers of Generation Y were born between 1980 and 1994.\\n3. Is #2 higher than #1?\\nFinal Answer: Yes\\n\\nExample 3:\\nQuestion: Is shrimp scampi definitely free of plastic?\\nDecomposition:\\n1. What protein is Shrimp scampi made out of?\\nShrimp scampi is a dish made with shrimp.\\n2. What have #1 been found to contain?\\nShrimp have been found to contain microplastics.\\n3. Are #2 free from plastic?\\nMicroplastics are plastic material.\\nFinal Answer: No\\n\\nQuestion: Did Aristotle own a laptop?\\nDecomposition:\\n\""
      ]
     },
     "execution_count": 27,
     "metadata": {},
     "output_type": "execute_result"
    }
   ],
   "source": [
    "prompt"
   ]
  },
  {
   "cell_type": "code",
   "execution_count": 19,
   "metadata": {
    "colab": {
     "base_uri": "https://localhost:8080/",
     "height": 35
    },
    "id": "32g8mAliuTSy",
    "outputId": "4bd45ef2-a7c8-4b5d-ef71-a4db86ed5b3e"
   },
   "outputs": [
    {
     "data": {
      "application/vnd.google.colaboratory.intrinsic+json": {
       "type": "string"
      },
      "text/plain": [
       "'No'"
      ]
     },
     "execution_count": 19,
     "metadata": {},
     "output_type": "execute_result"
    }
   ],
   "source": [
    "sequences[0]['generated_text']"
   ]
  },
  {
   "cell_type": "code",
   "execution_count": 15,
   "metadata": {
    "colab": {
     "base_uri": "https://localhost:8080/",
     "height": 35
    },
    "id": "dO0x2eFTtC1s",
    "outputId": "43e8c121-b015-4b6f-b31b-8e7807b4b9c3"
   },
   "outputs": [
    {
     "data": {
      "application/vnd.google.colaboratory.intrinsic+json": {
       "type": "string"
      },
      "text/plain": [
       "\"Answer the question with 'Yes' or 'No'.\\nQuestion: Did Aristotle use a laptop?\\nAnswer:\\n\""
      ]
     },
     "execution_count": 15,
     "metadata": {},
     "output_type": "execute_result"
    }
   ],
   "source": [
    "prompt"
   ]
  },
  {
   "cell_type": "code",
   "execution_count": 59,
   "metadata": {
    "execution": {
     "iopub.execute_input": "2025-03-20T21:42:21.033615Z",
     "iopub.status.busy": "2025-03-20T21:42:21.033256Z",
     "iopub.status.idle": "2025-03-20T21:42:43.950325Z",
     "shell.execute_reply": "2025-03-20T21:42:43.949528Z",
     "shell.execute_reply.started": "2025-03-20T21:42:21.033589Z"
    }
   },
   "outputs": [
    {
     "name": "stdout",
     "output_type": "stream",
     "text": [
      "2. \n",
      "3. \n",
      "4. \n",
      "5. \n",
      "6.\n",
      "\n",
      "Given the original question, the final answer is Yes. The reasoning steps in the question are in the wrong order and do not make sense. The correct reasoning steps should be presented in the order as above. The final answer should be No because the correct reasoning steps do not support the answer.\n",
      "The original question is asking whether a microwave can melt a Toyota Prius battery. The reasoning steps provided are in the wrong order and do not support the answer.\n",
      "</think>\n",
      "\n",
      "The original question is whether a microwave can melt a Toyota Prius battery. The provided reasoning steps are in the wrong order and do not support the answer. Here is the correct reasoning:\n",
      "\n",
      "**Step-by-Step Explanation:**\n",
      "\n",
      "1. **Battery Age and Condition:** \n",
      "   - A Toyota Prius is known for its longevity, but the original question does not provide specifics about the current state of the battery. If the battery is near or above its recommended lifespan, it is unlikely to melt with a microwave.\n",
      "\n",
      "2. **Battery Health:**\n",
      "   - A microwave cannot alter the physical condition of the battery. It can heat the area, but it cannot melt the battery material itself.\n",
      "\n",
      "3. **Battery Failure Risk:**\n",
      "   - Toyota batteries are generally reliable, but without specific information about the current condition, it's safer to assume the battery is not at risk of failure.\n",
      "\n",
      "4. **Battery Failure Signs:**\n",
      "   - No signs of failure are provided, so the battery is likely operational.\n",
      "\n",
      "5. **Battery Quality:**\n",
      "   - Toyota batteries are generally of good quality, so there's no basis for claiming they are prone to failure.\n",
      "\n",
      "6. **Cost and Lifespan:**\n",
      "   - While the average cost of a battery is known, the lifespan is not relevant to the ability of a microwave to melt it.\n",
      "\n",
      "**Conclusion:** The original reasoning is incorrect. A microwave cannot melt a Toyota Prius battery because it cannot alter the battery's physical state. The battery is likely operational and not at risk of failure.\n"
     ]
    }
   ],
   "source": [
    "torch.manual_seed(1)\n",
    "prompt2 = \"\"\"Let's think this through step by step. Decompose the question into a series of explicit sub-questions and answer each of them.\n",
    "Example:\n",
    "Question: Are more people today related to Genghis Khan than Julius Caesar?\n",
    "Decomposition:\n",
    "1. How many kids did Julius Caesar have?\n",
    "Julius Caesar had three children.\n",
    "2. How many kids did Genghis Khan have?\n",
    "Genghis Khan had sixteen children.\n",
    "3. Is #2 greater than #1?\n",
    "Modern geneticists have determined that out of every 200 men today has DNA that can be traced to Genghis Khan.\n",
    "Final Answer: Yes\n",
    "\n",
    "Question: Can a microwave melt a Toyota Prius battery?\n",
    "Decomposition:\n",
    "\"\"\"\n",
    "\n",
    "prompt3 = \"\"\"Given a sequence of question-answer reasoning steps, think backwards and verify that each step follows logically from the previous one. Let's think step by step.\n",
    "Example 1:\n",
    "Question: Can a microwave melt a Toyota Prius battery?\n",
    "Reasoning: \n",
    "1. Is a Toyota Prius more prone to battery failure?\n",
    "2. How long can a Toyota Prius' battery last?\n",
    "3. Are there any warning signs for battery failure?\n",
    "4. Is Toyota known for problems with their batteries?\n",
    "5. What's the average cost of a new Toyota Prius battery?\n",
    "6. How long does a Toyota Prius battery typically last?\n",
    "Final Answer: Yes\n",
    "Reasoning Check:\n",
    "6. the last question is not a yes or no question, so discard it.\n",
    "5. has no relevance to the original question. \n",
    "4. does not make any progress to answering the original question.\n",
    "3. has no relevance to the original question.\n",
    "2. has no relevance to the original question.\n",
    "1. has no relevance to the original question.\n",
    "New Reasoning:\n",
    "1. What kind of battery does a Toyota Prius use?\n",
    "The Toyota Prius uses a lithium-ion battery.\n",
    "2. What type of material is #1 made out of?\n",
    "The battery is made out of lithium and graphite.\n",
    "3. What is the melting point of #2?\n",
    "The melting point of lithium is 357 degrees Fahrenheit.\n",
    "4. Can a microwave’s temperature reach at least #3?\n",
    "A microwave can only reach up to around 212 degrees Fahrenheit.\n",
    "Final Answer: No\n",
    "\n",
    "Example 2:\n",
    "Question: Did Aristotle use a laptop?\n",
    "Reasoning: \n",
    "1. When was Aristotle born?\n",
    "Aristotle was born in 384 BC.\n",
    "2. Did Aristotle have access to a computer?\n",
    "No, during Aristotle's lifetime, computers were not yet invented, as they were invented in the late 20th century after his death.\n",
    "Final Answer: No\n",
    "Reasoning Check:\n",
    "2. the last question is a yes or no question, so keep it.\n",
    "1. Aristotle's birth date is relevant to answering the question\n",
    "New Reasoning:\n",
    "1. When was Aristotle born?\n",
    "Aristotle was born in 384 BC.\n",
    "2. Did Aristotle have access to a computer?\n",
    "No, during Aristotle's lifetime, computers were not yet invented, as they were invented in the late 20th century after his death.\n",
    "Final Answer: No\n",
    "\n",
    "Question: Are most books written as a Haiku?\n",
    "Reasoning: \n",
    "1. Is a Haiku poem a type of poem?\n",
    "A Haiku poem is a type of poem.\n",
    "2. What is Haiku?\n",
    "Haiku is a type of traditional Japanese poetry.\n",
    "3. Are Haiku and books related?\n",
    "No, Haiku and books are unrelated.\n",
    "Reasoning Check:\n",
    "\"\"\"\n",
    "\n",
    "prompt = \"\"\"Question: Can a microwave melt a Toyota Prius battery?\n",
    "Reasoning: \n",
    "1. Is a Toyota Prius more prone to battery failure?\n",
    "2. How long can a Toyota Prius' battery last?\n",
    "3. Are there any warning signs for battery failure?\n",
    "4. Is Toyota known for problems with their batteries?\n",
    "5. What's the average cost of a new Toyota Prius battery?\n",
    "6. How long does a Toyota Prius battery typically last?\n",
    "Final Answer: Yes\n",
    "Given the original question, the reasoning steps do not make sense. A better reasoning sequence would be \n",
    "Reasoning:\n",
    "1. \n",
    "\"\"\"\n",
    "\n",
    "\n",
    "sequences = pipe(\n",
    "    prompt,\n",
    "    do_sample=True,\n",
    "    top_k=10,\n",
    "    max_new_tokens=500,\n",
    "    return_full_text = False,\n",
    "    pad_token_id=tokenizer.eos_token_id\n",
    ")\n",
    "\n",
    "\"\"\"\n",
    "sequences = pipe(\n",
    "    prompt2,\n",
    "    max_new_tokens=100,\n",
    "    return_full_text = False,\n",
    ")\n",
    "\"\"\"\n",
    "\n",
    "for seq in sequences:\n",
    "    print(f\"{seq['generated_text']}\")"
   ]
  },
  {
   "cell_type": "code",
   "execution_count": 62,
   "metadata": {
    "execution": {
     "iopub.execute_input": "2025-03-20T21:43:13.315611Z",
     "iopub.status.busy": "2025-03-20T21:43:13.315235Z",
     "iopub.status.idle": "2025-03-20T21:43:13.321092Z",
     "shell.execute_reply": "2025-03-20T21:43:13.320266Z",
     "shell.execute_reply.started": "2025-03-20T21:43:13.315584Z"
    }
   },
   "outputs": [
    {
     "data": {
      "text/plain": [
       "'no'"
      ]
     },
     "execution_count": 62,
     "metadata": {},
     "output_type": "execute_result"
    }
   ],
   "source": [
    "postprocess_answer3(sequences[0]['generated_text'])"
   ]
  },
  {
   "cell_type": "code",
   "execution_count": 58,
   "metadata": {
    "execution": {
     "iopub.execute_input": "2025-03-20T22:51:36.104077Z",
     "iopub.status.busy": "2025-03-20T22:51:36.103764Z",
     "iopub.status.idle": "2025-03-20T22:51:45.807641Z",
     "shell.execute_reply": "2025-03-20T22:51:45.806830Z",
     "shell.execute_reply.started": "2025-03-20T22:51:36.104047Z"
    }
   },
   "outputs": [
    {
     "name": "stdout",
     "output_type": "stream",
     "text": [
      "Question: Does a mongoose have natural camouflage for desert?\n",
      "Reasoning:\n",
      "1.\n",
      "2. \n",
      "3.\n",
      "4. \n",
      "5.\n",
      "6.\n",
      "\n",
      "The final answer would be:\n",
      "\n",
      "The answer would be based on the reasoning steps.\n",
      "\n",
      "The original question is: Does a mongoose have natural camouflage for desert?\n",
      "The reasoning provided is incorrect because it assumes that a mongoose can blend into a desert, which is not possible since they are not found there.\n",
      "\n",
      "To correct this, the reasoning should start by listing desert animals, then explain that only certain species can blend in, and finally conclude that a mongoose cannot blend in a desert.\n",
      "</think>\n",
      "\n",
      "The answer is:\n",
      "\n",
      "No, a mongoose cannot naturally blend into a desert. \n",
      "\n",
      "**Explanation:**\n",
      "1. Deserts are home to various animals, including camels, which have adapted to their environments.\n",
      "2. Only certain species, such as camels, can blend in with their surroundings, like the desert.\n",
      "3. Mongoses are not found in the desert and are specialized for forest environments, making them unable to blend in a desert setting.\n",
      "Given the original question, the reasoning steps do not make sense. Please provide a better reasoning sequence to answer the question.\n",
      "Answer:\n",
      "\n",
      "--------------\n",
      "\n",
      "1. Deserts are home to a diverse range of animals who have adapted to their surroundings.\n",
      "2. Camouflaging is the ability of an animal to blend in with their environment.\n",
      "3. Camouflaging is specific to specific environmental types, like forests, jungles, or deserts.\n",
      "4. A mongoose is a forest animal that is not adapted to desert environments.\n",
      "5. Therefore, mongose cannot naturally blend in to a desert.\n"
     ]
    }
   ],
   "source": [
    "torch.manual_seed(1)\n",
    "\n",
    "\"\"\"Question: Can a microwave melt a Toyota Prius battery?\n",
    "Reasoning: \n",
    "1. Is a Toyota Prius more prone to battery failure?\n",
    "2. How long can a Toyota Prius' battery last?\n",
    "3. Are there any warning signs for battery failure?\n",
    "4. Is Toyota known for problems with their batteries?\n",
    "5. What's the average cost of a new Toyota Prius battery?\n",
    "6. How long does a Toyota Prius battery typically last?\n",
    "Final Answer: Yes\n",
    "Given the original question, the reasoning steps do not make sense. A better reasoning sequence would be \n",
    "Reasoning:\n",
    "1. \n",
    "\"\"\"\n",
    "\n",
    "prompt = \"\"\"\n",
    "Given the original question, the reasoning steps do not make sense. Please provide a better reasoning sequence to answer the question.\n",
    "Answer:\n",
    "\"\"\"\n",
    "\n",
    "ind = 20\n",
    "prompt = \"Question: \"+ validation_data[ind]['question'] + \"\\nReasoning:\\n1.\\n\" + data['generated_ans'][ind] + prompt\n",
    "\n",
    "\n",
    "sequences = pipe(\n",
    "    prompt,\n",
    "    do_sample=True,\n",
    "    top_k=10,\n",
    "    max_new_tokens=300,\n",
    "    return_full_text = False,\n",
    "    pad_token_id=tokenizer.eos_token_id\n",
    ")\n",
    "\n",
    "\"\"\"\n",
    "sequences = pipe(\n",
    "    prompt2,\n",
    "    max_new_tokens=100,\n",
    "    return_full_text = False,\n",
    ")\n",
    "\"\"\"\n",
    "\n",
    "print(prompt)\n",
    "print(\"--------------\")\n",
    "\n",
    "for seq in sequences:\n",
    "    print(f\"{seq['generated_text']}\")"
   ]
  },
  {
   "cell_type": "code",
   "execution_count": 27,
   "metadata": {
    "execution": {
     "iopub.execute_input": "2025-03-20T22:30:51.573311Z",
     "iopub.status.busy": "2025-03-20T22:30:51.573021Z",
     "iopub.status.idle": "2025-03-20T22:30:51.577044Z",
     "shell.execute_reply": "2025-03-20T22:30:51.575968Z",
     "shell.execute_reply.started": "2025-03-20T22:30:51.573286Z"
    }
   },
   "outputs": [],
   "source": [
    "prompt = \"\"\"\n",
    "Given the original question, the reasoning steps do not make sense. A better reasoning sequence would be \n",
    "Reasoning:\n",
    "1. \"\"\""
   ]
  },
  {
   "cell_type": "code",
   "execution_count": 26,
   "metadata": {
    "execution": {
     "iopub.execute_input": "2025-03-20T22:30:19.362984Z",
     "iopub.status.busy": "2025-03-20T22:30:19.362709Z",
     "iopub.status.idle": "2025-03-20T22:30:19.367305Z",
     "shell.execute_reply": "2025-03-20T22:30:19.366298Z",
     "shell.execute_reply.started": "2025-03-20T22:30:19.362963Z"
    }
   },
   "outputs": [
    {
     "name": "stdout",
     "output_type": "stream",
     "text": [
      "\n",
      "Given the original question, the reasoning steps do not make sense. A better reasoning sequence would be \n",
      "Reasoning:\n",
      "1. \n",
      "\n"
     ]
    }
   ],
   "source": [
    "print(prompt)"
   ]
  },
  {
   "cell_type": "code",
   "execution_count": 35,
   "metadata": {
    "execution": {
     "iopub.execute_input": "2025-03-20T22:34:30.264953Z",
     "iopub.status.busy": "2025-03-20T22:34:30.264683Z",
     "iopub.status.idle": "2025-03-20T22:34:30.269659Z",
     "shell.execute_reply": "2025-03-20T22:34:30.268582Z",
     "shell.execute_reply.started": "2025-03-20T22:34:30.264930Z"
    }
   },
   "outputs": [
    {
     "name": "stdout",
     "output_type": "stream",
     "text": [
      "Question: Are psychiatric patients welcome to join the United States Air Force?\n",
      "Reasoning:\n",
      "1.\n",
      "A. Is the United States Air Force known for its recruitment policies?\n",
      "B. Are psychiatric patients allowed to serve in the United States Air Force?\n",
      "\n",
      "2. \n",
      "C. Based on the reasoning above, what is the final answer?\n",
      "\n",
      "Final Answer: No\n",
      "</think>\n",
      "\n",
      "**Final Answer: No**\n",
      "\n",
      "**Step-by-Step Reasoning:**\n",
      "\n",
      "1. **Understanding the Question:** The question asks whether psychiatric patients are welcome to join the United States Air Force.\n",
      "\n",
      "2. **Key Considerations:**\n",
      "   - **Recruitment Policies:** The United States Air Force has established specific recruitment criteria, including age, physical fitness, and mental health requirements. However, the primary focus is on physical and mental health assessments rather than psychiatric patients.\n",
      "   - **Mental Health Allowance:** The United States Air Force does not explicitly allow psychiatric patients to serve. The focus is on individuals with no serious mental illness, which is a prerequisite for service.\n",
      "\n",
      "3. **Conclusion:** Based on the reasoning above, the final answer is **No**, psychiatric patients are not generally allowed to serve in the United States Air Force.Question: Are psychiatric patients welcome to join the United States Air Force?\n",
      "Reasoning:\n",
      "1.\n",
      "A. Is the United States Air Force known for its recruitment policies?\n",
      "B. Are psychiatric patients allowed to serve in the United States Air Force?\n",
      "\n",
      "2. \n",
      "C. Based on the reasoning above, what is the final answer?\n",
      "\n",
      "Final Answer: No\n",
      "</think>\n",
      "\n",
      "**Final Answer: No**\n",
      "\n",
      "**Step-by-Step Reasoning:**\n",
      "\n",
      "1. **Understanding the Question:** The question asks whether psychiatric patients are welcome to join the United States Air Force.\n",
      "\n",
      "2. **Key Considerations:**\n",
      "   - **Recruitment Policies:** The United States Air Force has established specific recruitment criteria, including age, physical fitness, and mental health requirements. However, the primary focus is on physical and mental health assessments rather than psychiatric patients.\n",
      "   - **Mental Health Allowance:** The United States Air Force does not explicitly allow psychiatric patients to serve. The focus is on individuals with no serious mental illness, which is a prerequisite for service.\n",
      "\n",
      "3. **Conclusion:** Based on the reasoning above, the final answer is **No**, psychiatric patients are not generally allowed to serve in the United States Air Force.\n",
      "Given the original question, the reasoning steps do not make sense. A better reasoning sequence would be \n",
      "Reasoning:\n",
      "1. \n"
     ]
    }
   ],
   "source": [
    "ind = 28\n",
    "print(\"Question: \"+ validation_data[ind]['question'] + \"\\nReasoning:\\n1.\\n\" + data['generated_ans'][ind] + prompt)"
   ]
  },
  {
   "cell_type": "code",
   "execution_count": 17,
   "metadata": {
    "colab": {
     "base_uri": "https://localhost:8080/"
    },
    "id": "cDhesOc8uDir",
    "outputId": "2d68573e-03fd-4347-f4de-9f20e5eb7c04"
   },
   "outputs": [
    {
     "data": {
      "text/plain": [
       "{'qid': 'e0044a7b4d146d611e73',\n",
       " 'term': 'Albany, Georgia',\n",
       " 'description': 'City in Georgia, United States',\n",
       " 'question': 'Will the Albany in Georgia reach a hundred thousand occupants before the one in New York?',\n",
       " 'answer': False,\n",
       " 'facts': ['Albany, GA has around 75,000 people',\n",
       "  'Albany, NY has almost 100,000 people'],\n",
       " 'decomposition': ['What is the population of Albany, Georgia?',\n",
       "  'What is the population of Albany, New York?',\n",
       "  'What is the difference between 100,000 and #1?',\n",
       "  'What is the difference between 100,000 and #2?',\n",
       "  'Is #3 smaller than #4?'],\n",
       " 'evidence': [[[['Albany, Georgia-1']],\n",
       "   [['Albany, New York-2']],\n",
       "   ['operation'],\n",
       "   ['operation'],\n",
       "   ['operation']],\n",
       "  [[['Albany, Georgia-35']],\n",
       "   [['Albany, New York-2']],\n",
       "   ['operation'],\n",
       "   ['operation'],\n",
       "   ['operation']],\n",
       "  [[['Albany, Georgia-1']],\n",
       "   [['Albany, New York-2']],\n",
       "   ['operation'],\n",
       "   ['operation'],\n",
       "   ['operation']]]}"
      ]
     },
     "execution_count": 17,
     "metadata": {},
     "output_type": "execute_result"
    }
   ],
   "source": [
    "validation_data[0]"
   ]
  },
  {
   "cell_type": "code",
   "execution_count": null,
   "metadata": {
    "id": "UkEId32xtLne"
   },
   "outputs": [],
   "source": [
    "preds = []\n",
    "actuals = []\n",
    "\n",
    "for d in validation_data:\n",
    "    prompt = \"Answer the question with 'Yes' or 'No'.\\nQuestion: \"+ d['question'] + \"\\nAnswer:\\n\"\n",
    "    sequences = pipe(\n",
    "        prompt,\n",
    "        max_new_tokens=15,\n",
    "        return_full_text = False,\n",
    "    )\n",
    "    ans = False\n",
    "    if sequences[0]['generated_text'] == 'Yes':\n",
    "        ans = True\n",
    "    preds.append(ans)\n",
    "    actuals.append(d['answer'])"
   ]
  },
  {
   "cell_type": "code",
   "execution_count": 11,
   "metadata": {
    "execution": {
     "iopub.execute_input": "2025-03-20T18:32:04.593656Z",
     "iopub.status.busy": "2025-03-20T18:32:04.593281Z",
     "iopub.status.idle": "2025-03-20T18:32:58.959467Z",
     "shell.execute_reply": "2025-03-20T18:32:58.958491Z",
     "shell.execute_reply.started": "2025-03-20T18:32:04.593625Z"
    },
    "id": "AOOiKe_Kvi2I"
   },
   "outputs": [
    {
     "name": "stdout",
     "output_type": "stream",
     "text": [
      "0\n",
      "32\n",
      "64\n",
      "96\n",
      "128\n",
      "160\n",
      "192\n"
     ]
    },
    {
     "name": "stderr",
     "output_type": "stream",
     "text": [
      "You seem to be using the pipelines sequentially on GPU. In order to maximize efficiency please use a dataset\n"
     ]
    },
    {
     "name": "stdout",
     "output_type": "stream",
     "text": [
      "224\n"
     ]
    }
   ],
   "source": [
    "batch_size = 32\n",
    "preds = []\n",
    "actuals = []\n",
    "\n",
    "tokenizer.pad_token = tokenizer.eos_token\n",
    "tokenizer.padding_side = \"left\"\n",
    "\n",
    "\n",
    "for i in range(0, len(validation_data), batch_size):\n",
    "    print(i)\n",
    "    batch = validation_data[i:i + batch_size]\n",
    "    prompts = [\n",
    "        f\"Answer the question with 'Yes' or 'No'.\\nQuestion: {d['question']}\\nAnswer:\\n\"\n",
    "        for d in batch\n",
    "    ]\n",
    "\n",
    "    sequences = pipe(prompts, batch_size=batch_size, max_new_tokens=15, return_full_text=False, pad_token_id=tokenizer.eos_token_id)\n",
    "\n",
    "    for seq, d in zip(sequences, batch):\n",
    "        ans = \"yes\" in seq[0][\"generated_text\"].strip().lower()\n",
    "        preds.append(ans)\n",
    "        actuals.append(d[\"answer\"])\n"
   ]
  },
  {
   "cell_type": "code",
   "execution_count": null,
   "metadata": {},
   "outputs": [],
   "source": [
    "batch_size = 64\n",
    "preds = []\n",
    "actuals = []\n",
    "\n",
    "predTrue = []\n",
    "predFalse = []\n",
    "\n",
    "generated_ans = []\n",
    "\n",
    "unknowns = []\n",
    "\n",
    "# tokenizer.pad_token = tokenizer.eos_token\n",
    "\n",
    "\n",
    "for i in range(0, len(validation_data), batch_size):\n",
    "    print(i)\n",
    "    batch = validation_data[i:i + batch_size]\n",
    "    prompts = [\n",
    "        f\"Answer the question with 'Yes' or 'No'.\\nQuestion: {d['question']}\\nAnswer:\\n\"\n",
    "        for d in batch\n",
    "    ]\n",
    "\n",
    "    sequences = pipe(prompts, batch_size=batch_size, max_new_tokens=15, return_full_text=False, pad_token_id=tokenizer.eos_token_id)\n",
    "\n",
    "    for seq, d in zip(sequences, batch):\n",
    "        \"\"\"\n",
    "        ans = \"yes\" in seq[0][\"generated_text\"].strip().lower()\n",
    "        preds.append(ans)\n",
    "        actuals.append(d[\"answer\"])\n",
    "        \"\"\"\n",
    "        tex = seq[0][\"generated_text\"]\n",
    "        generated_ans.append(tex)\n",
    "        ans = postprocess_answer(tex)\n",
    "        if ans == 'unknown':\n",
    "            unknowns.append((tex, d[\"answer\"]))\n",
    "            continue\n",
    "        if ans == 'yes':\n",
    "            predTrue.append(tex)\n",
    "        else:\n",
    "            predFalse.append(tex)\n",
    "        preds.append(ans == 'yes')\n",
    "        actuals.append(d[\"answer\"])\n"
   ]
  },
  {
   "cell_type": "code",
   "execution_count": 13,
   "metadata": {
    "execution": {
     "iopub.execute_input": "2025-03-20T18:21:52.620203Z",
     "iopub.status.busy": "2025-03-20T18:21:52.619849Z",
     "iopub.status.idle": "2025-03-20T18:21:52.625262Z",
     "shell.execute_reply": "2025-03-20T18:21:52.624407Z",
     "shell.execute_reply.started": "2025-03-20T18:21:52.620175Z"
    }
   },
   "outputs": [],
   "source": [
    "data_to_save3 = {\n",
    "    'preds': preds,\n",
    "    'actuals': actuals,\n",
    "    'predTrue': predTrue,\n",
    "    'predFalse': predFalse,\n",
    "    'generated_ans': generated_ans,\n",
    "    'unknowns': unknowns\n",
    "}\n",
    "\n",
    "with open('/kaggle/working/saved_variables_r1_yesno.pkl', 'wb') as f:\n",
    "    pickle.dump(data_to_save3, f)"
   ]
  },
  {
   "cell_type": "code",
   "execution_count": 12,
   "metadata": {
    "colab": {
     "base_uri": "https://localhost:8080/"
    },
    "execution": {
     "iopub.execute_input": "2025-03-20T18:33:09.682546Z",
     "iopub.status.busy": "2025-03-20T18:33:09.682199Z",
     "iopub.status.idle": "2025-03-20T18:33:09.688784Z",
     "shell.execute_reply": "2025-03-20T18:33:09.687784Z",
     "shell.execute_reply.started": "2025-03-20T18:33:09.682523Z"
    },
    "id": "qPSVEr-dxD2s",
    "outputId": "3502c1a9-130a-4978-bc98-2560ea01d562"
   },
   "outputs": [
    {
     "data": {
      "text/plain": [
       "0.519650655021834"
      ]
     },
     "execution_count": 12,
     "metadata": {},
     "output_type": "execute_result"
    }
   ],
   "source": [
    "sum([a==b for a,b in zip(preds, actuals)]) / len(preds)"
   ]
  },
  {
   "cell_type": "code",
   "execution_count": 14,
   "metadata": {
    "execution": {
     "iopub.execute_input": "2025-03-20T18:22:57.916870Z",
     "iopub.status.busy": "2025-03-20T18:22:57.916505Z",
     "iopub.status.idle": "2025-03-20T18:22:57.923437Z",
     "shell.execute_reply": "2025-03-20T18:22:57.922358Z",
     "shell.execute_reply.started": "2025-03-20T18:22:57.916841Z"
    }
   },
   "outputs": [
    {
     "data": {
      "text/plain": [
       "0.4978165938864629"
      ]
     },
     "execution_count": 14,
     "metadata": {},
     "output_type": "execute_result"
    }
   ],
   "source": [
    "sum([a==b for a,b in zip(preds, actuals)]) / len(preds)"
   ]
  },
  {
   "cell_type": "code",
   "execution_count": 13,
   "metadata": {
    "execution": {
     "iopub.execute_input": "2025-03-20T18:33:20.783634Z",
     "iopub.status.busy": "2025-03-20T18:33:20.783283Z",
     "iopub.status.idle": "2025-03-20T18:33:20.789565Z",
     "shell.execute_reply": "2025-03-20T18:33:20.788495Z",
     "shell.execute_reply.started": "2025-03-20T18:33:20.783603Z"
    },
    "id": "rXAkz0hR2EhM"
   },
   "outputs": [],
   "source": [
    "def postprocess_answer(answer):\n",
    "    answer = answer.strip().lower()\n",
    "\n",
    "    yes_patterns = [\n",
    "        \"yes\", \"indeed\", \"correct\", \"true\", \"certainly\", \"definitely\", \"of course\"\n",
    "    ]\n",
    "\n",
    "    no_patterns = [\n",
    "        \"no\", \"not\", \"incorrect\", \"false\", \"impossible\", \"unlikely\", \"cannot\", \"never\"\n",
    "    ]\n",
    "\n",
    "    uncertain_patterns = [\n",
    "        \"not sure\", \"unsure\", \"uncertain\", \"maybe\", \"possibly\", \"potentially\", \"it depends\"\n",
    "    ]\n",
    "\n",
    "    if any(pattern in answer for pattern in yes_patterns):\n",
    "        return \"yes\"\n",
    "    elif any(pattern in answer for pattern in no_patterns):\n",
    "        return \"no\"\n",
    "    elif any(pattern in answer for pattern in uncertain_patterns):\n",
    "        return \"unknown\"  \n",
    "\n",
    "    first_sentence = answer.split(\".\")[0]\n",
    "    if \"yes\" in first_sentence:\n",
    "        return \"yes\"\n",
    "    elif \"no\" in first_sentence:\n",
    "        return \"no\"\n",
    "\n",
    "    return \"unknown\"\n"
   ]
  },
  {
   "cell_type": "code",
   "execution_count": 74,
   "metadata": {
    "colab": {
     "base_uri": "https://localhost:8080/",
     "height": 35
    },
    "id": "welk9kkB2JPm",
    "outputId": "fc4f0b72-c5ea-4863-80c6-4643527dc732"
   },
   "outputs": [
    {
     "data": {
      "application/vnd.google.colaboratory.intrinsic+json": {
       "type": "string"
      },
      "text/plain": [
       "'no'"
      ]
     },
     "execution_count": 74,
     "metadata": {},
     "output_type": "execute_result"
    }
   ],
   "source": [
    "postprocess_answer(sequences[0]['generated_text'])"
   ]
  },
  {
   "cell_type": "code",
   "execution_count": 14,
   "metadata": {
    "execution": {
     "iopub.execute_input": "2025-03-20T18:33:53.697470Z",
     "iopub.status.busy": "2025-03-20T18:33:53.697080Z",
     "iopub.status.idle": "2025-03-20T18:40:17.277366Z",
     "shell.execute_reply": "2025-03-20T18:40:17.276300Z",
     "shell.execute_reply.started": "2025-03-20T18:33:53.697443Z"
    },
    "id": "LusssEib2c62"
   },
   "outputs": [
    {
     "name": "stdout",
     "output_type": "stream",
     "text": [
      "0\n",
      "32\n",
      "64\n",
      "96\n",
      "128\n",
      "160\n",
      "192\n",
      "224\n"
     ]
    }
   ],
   "source": [
    "batch_size = 32\n",
    "preds = []\n",
    "actuals = []\n",
    "\n",
    "predTrue = []\n",
    "predFalse = []\n",
    "\n",
    "generated_ans = []\n",
    "\n",
    "unknowns = []\n",
    "\n",
    "tokenizer.pad_token = tokenizer.eos_token\n",
    "tokenizer.padding_side = \"left\"\n",
    "\n",
    "\n",
    "for i in range(0, len(validation_data), batch_size):\n",
    "    print(i)\n",
    "    batch = validation_data[i:i + batch_size]\n",
    "    prompts = [\n",
    "        f\"Let's think this through step by step.\\nQuestion: {d['question']}\\nAnswer:\\n\"\n",
    "        for d in batch\n",
    "    ]\n",
    "\n",
    "    sequences = pipe(\n",
    "        prompts,\n",
    "        batch_size=batch_size,\n",
    "        do_sample=True,\n",
    "        top_k=10,\n",
    "        max_new_tokens=100,\n",
    "        return_full_text = False,\n",
    "        pad_token_id=tokenizer.eos_token_id\n",
    "    )\n",
    "\n",
    "    for seq, d in zip(sequences, batch):\n",
    "        \"\"\"\n",
    "        ans = postprocess_answer(seq[0][\"generated_text\"])\n",
    "        if ans == 'unknown':\n",
    "            unknowns.append((seq[0][\"generated_text\"], d[\"answer\"]))\n",
    "            continue\n",
    "        if ans == 'yes':\n",
    "            predTrue.append(seq[0][\"generated_text\"])\n",
    "        else:\n",
    "            predFalse.append(seq[0][\"generated_text\"])\n",
    "        preds.append(ans == 'yes')\n",
    "        actuals.append(d[\"answer\"])\n",
    "        \"\"\"\n",
    "        tex = seq[0][\"generated_text\"]\n",
    "        generated_ans.append(tex)\n",
    "        ans = postprocess_answer(tex)\n",
    "        if ans == 'unknown':\n",
    "            unknowns.append((tex, d[\"answer\"]))\n",
    "            continue\n",
    "        if ans == 'yes':\n",
    "            predTrue.append(tex)\n",
    "        else:\n",
    "            predFalse.append(tex)\n",
    "        preds.append(ans == 'yes')\n",
    "        actuals.append(d[\"answer\"])\n",
    "\n",
    "data_to_save2 = {\n",
    "    'preds': preds,\n",
    "    'actuals': actuals,\n",
    "    'predTrue': predTrue,\n",
    "    'predFalse': predFalse,\n",
    "    'generated_ans': generated_ans,\n",
    "    'unknowns': unknowns\n",
    "}\n",
    "\n",
    "with open('/kaggle/working/saved_variables_chainr1.pkl', 'wb') as f:\n",
    "    pickle.dump(data_to_save2, f)"
   ]
  },
  {
   "cell_type": "code",
   "execution_count": 101,
   "metadata": {
    "colab": {
     "base_uri": "https://localhost:8080/"
    },
    "id": "nodz15DK3uS-",
    "outputId": "08637498-4a62-43de-b124-5c97399a0add"
   },
   "outputs": [
    {
     "data": {
      "text/plain": [
       "0.5533980582524272"
      ]
     },
     "execution_count": 101,
     "metadata": {},
     "output_type": "execute_result"
    }
   ],
   "source": [
    "sum([a==b for a,b in zip(preds, actuals)]) / len(preds)"
   ]
  },
  {
   "cell_type": "code",
   "execution_count": 15,
   "metadata": {
    "execution": {
     "iopub.execute_input": "2025-03-20T18:40:31.565017Z",
     "iopub.status.busy": "2025-03-20T18:40:31.564675Z",
     "iopub.status.idle": "2025-03-20T18:40:31.571005Z",
     "shell.execute_reply": "2025-03-20T18:40:31.570071Z",
     "shell.execute_reply.started": "2025-03-20T18:40:31.564991Z"
    }
   },
   "outputs": [
    {
     "data": {
      "text/plain": [
       "0.5821596244131455"
      ]
     },
     "execution_count": 15,
     "metadata": {},
     "output_type": "execute_result"
    }
   ],
   "source": [
    "sum([a==b for a,b in zip(preds, actuals)]) / len(preds)"
   ]
  },
  {
   "cell_type": "code",
   "execution_count": 16,
   "metadata": {
    "execution": {
     "iopub.execute_input": "2025-03-20T18:25:11.681946Z",
     "iopub.status.busy": "2025-03-20T18:25:11.681643Z",
     "iopub.status.idle": "2025-03-20T18:25:11.687783Z",
     "shell.execute_reply": "2025-03-20T18:25:11.686791Z",
     "shell.execute_reply.started": "2025-03-20T18:25:11.681923Z"
    }
   },
   "outputs": [
    {
     "data": {
      "text/plain": [
       "0.5194805194805194"
      ]
     },
     "execution_count": 16,
     "metadata": {},
     "output_type": "execute_result"
    }
   ],
   "source": [
    "sum([a==b for a,b in zip(preds, actuals)]) / len(preds)"
   ]
  },
  {
   "cell_type": "code",
   "execution_count": 106,
   "metadata": {
    "colab": {
     "base_uri": "https://localhost:8080/"
    },
    "id": "p4_7CbzH9Rne",
    "outputId": "0abbf603-c790-4ffc-a15e-466e9411daa8"
   },
   "outputs": [
    {
     "data": {
      "text/plain": [
       "[(\"1. It's hard to say.\\n2. Lil Wayne's legal status as a vehicle operator is likely dependent on the laws in his location at the time.\\n3. There may be specific regulations that would prohibit him from operating a vehicle.\\n4. However, he may have been able to obtain a license to legally operate a car, depending on the state and his location.\\n5. It's also possible that Lil Wayne would have been able to obtain a valid license\",\n",
       "  False),\n",
       " ('1. Rowing is a varsity sport at Marist\\n\\n2. Varsity sports in public secondary education (PSE) are regulated by the National Federation of High Schools (NFHS)\\n\\n3. The NFHS has 13 principles and 10 standards for high school athletics, including the ability to establish a varsity team in a sport\\n\\n4. Marist has a comprehensive set of guidelines for athletics, including the \"Athletics Guidelines for Student-Athletes',\n",
       "  False)]"
      ]
     },
     "execution_count": 106,
     "metadata": {},
     "output_type": "execute_result"
    }
   ],
   "source": [
    "unknowns[0:2]"
   ]
  },
  {
   "cell_type": "code",
   "execution_count": null,
   "metadata": {
    "colab": {
     "base_uri": "https://localhost:8080/"
    },
    "id": "IkWWXtrY6VBN",
    "outputId": "31ca1219-d8c1-4139-99cb-94e622607956"
   },
   "outputs": [],
   "source": [
    "preds"
   ]
  },
  {
   "cell_type": "code",
   "execution_count": null,
   "metadata": {
    "colab": {
     "base_uri": "https://localhost:8080/"
    },
    "id": "A3RgB_Dd5zm5",
    "outputId": "e34bb200-e43a-45ba-bb07-7f8a6659e970"
   },
   "outputs": [],
   "source": [
    "len(preds)"
   ]
  },
  {
   "cell_type": "code",
   "execution_count": 14,
   "metadata": {
    "execution": {
     "iopub.execute_input": "2025-03-20T19:43:53.877166Z",
     "iopub.status.busy": "2025-03-20T19:43:53.876797Z",
     "iopub.status.idle": "2025-03-20T19:43:53.883308Z",
     "shell.execute_reply": "2025-03-20T19:43:53.882309Z",
     "shell.execute_reply.started": "2025-03-20T19:43:53.877135Z"
    }
   },
   "outputs": [],
   "source": [
    "def postprocess_answer2(answer):\n",
    "    answer = answer.strip().lower()\n",
    "\n",
    "    if \"final answer: no\" in answer:\n",
    "        return \"no\"\n",
    "    elif \"final answer: yes\" in answer:\n",
    "        return \"yes\"\n",
    "    \n",
    "    yes_patterns = [\n",
    "        \"yes\", \"indeed\", \"correct\", \"true\", \"certainly\", \"definitely\", \"of course\"\n",
    "    ]\n",
    "\n",
    "    no_patterns = [\n",
    "        \"no\", \"not\", \"incorrect\", \"false\", \"impossible\", \"unlikely\", \"cannot\", \"never\"\n",
    "    ]\n",
    "\n",
    "    uncertain_patterns = [\n",
    "        \"not sure\", \"unsure\", \"uncertain\", \"maybe\", \"possibly\", \"potentially\", \"it depends\"\n",
    "    ]\n",
    "\n",
    "    if any(pattern in answer for pattern in yes_patterns):\n",
    "        return \"yes\"\n",
    "    elif any(pattern in answer for pattern in no_patterns):\n",
    "        return \"no\"\n",
    "    elif any(pattern in answer for pattern in uncertain_patterns):\n",
    "        return \"unknown\"  \n",
    "\n",
    "    first_sentence = answer.split(\".\")[0]\n",
    "    if \"yes\" in first_sentence:\n",
    "        return \"yes\"\n",
    "    elif \"no\" in first_sentence:\n",
    "        return \"no\"\n",
    "\n",
    "    return \"unknown\"\n"
   ]
  },
  {
   "cell_type": "code",
   "execution_count": 58,
   "metadata": {
    "execution": {
     "iopub.execute_input": "2025-03-20T21:42:08.246439Z",
     "iopub.status.busy": "2025-03-20T21:42:08.246040Z",
     "iopub.status.idle": "2025-03-20T21:42:08.253023Z",
     "shell.execute_reply": "2025-03-20T21:42:08.252177Z",
     "shell.execute_reply.started": "2025-03-20T21:42:08.246406Z"
    }
   },
   "outputs": [],
   "source": [
    "def postprocess_answer3(answer):\n",
    "    answer = answer.strip().lower()\n",
    "\n",
    "    if \"**final answer**: no\" in answer or \"**conclusion**: no\" in answer:\n",
    "        return \"no\"\n",
    "    elif \"**final answer**: yes\" in answer or \"**conclusion**: yes\" in answer:\n",
    "        return \"yes\"\n",
    "    \n",
    "    yes_patterns = [\n",
    "        \"yes\", \"indeed\", \"correct\", \"true\", \"certainly\", \"definitely\", \"of course\"\n",
    "    ]\n",
    "\n",
    "    no_patterns = [\n",
    "        \"no\", \"not\", \"incorrect\", \"false\", \"impossible\", \"unlikely\", \"cannot\", \"never\"\n",
    "    ]\n",
    "\n",
    "    uncertain_patterns = [\n",
    "        \"not sure\", \"unsure\", \"uncertain\", \"maybe\", \"possibly\", \"potentially\", \"it depends\"\n",
    "    ]\n",
    "\n",
    "    \"\"\"\n",
    "    if any(pattern in answer for pattern in yes_patterns):\n",
    "        return \"yes\"\n",
    "    elif any(pattern in answer for pattern in no_patterns):\n",
    "        return \"no\"\n",
    "    elif any(pattern in answer for pattern in uncertain_patterns):\n",
    "        return \"unknown\"  \n",
    "    \"\"\"\n",
    "    yess = sum([pattern in answer for pattern in yes_patterns])\n",
    "    nos = sum([pattern in answer for pattern in no_patterns])\n",
    "    unks = sum([pattern in answer for pattern in uncertain_patterns])\n",
    "\n",
    "    if yess > nos and yess > unks:\n",
    "        return \"yes\"\n",
    "    elif nos > yess and nos > unks:\n",
    "        return \"no\"\n",
    "\n",
    "    first_sentence = answer.split(\".\")[-1]\n",
    "    if \"yes\" in first_sentence:\n",
    "        return \"yes\"\n",
    "    elif \"no\" in first_sentence:\n",
    "        return \"no\"\n",
    "\n",
    "    return \"unknown\"\n"
   ]
  },
  {
   "cell_type": "code",
   "execution_count": 15,
   "metadata": {
    "execution": {
     "iopub.execute_input": "2025-03-20T23:14:15.335506Z",
     "iopub.status.busy": "2025-03-20T23:14:15.335205Z",
     "iopub.status.idle": "2025-03-20T23:14:15.341299Z",
     "shell.execute_reply": "2025-03-20T23:14:15.340549Z",
     "shell.execute_reply.started": "2025-03-20T23:14:15.335481Z"
    }
   },
   "outputs": [],
   "source": [
    "def postprocess_answer4(answer):\n",
    "    answer = answer.strip().lower()\n",
    "    \n",
    "    yes_patterns = [\n",
    "        \"yes\", \"indeed\", \"correct\", \"true\", \"certainly\", \"definitely\", \"of course\"\n",
    "    ]\n",
    "\n",
    "    no_patterns = [\n",
    "        \"no\", \"not\", \"incorrect\", \"false\", \"impossible\", \"unlikely\", \"cannot\", \"never\"\n",
    "    ]\n",
    "\n",
    "    uncertain_patterns = [\n",
    "        \"not sure\", \"unsure\", \"uncertain\", \"maybe\", \"possibly\", \"potentially\", \"it depends\"\n",
    "    ]\n",
    "\n",
    "    \"\"\"\n",
    "    if any(pattern in answer for pattern in yes_patterns):\n",
    "        return \"yes\"\n",
    "    elif any(pattern in answer for pattern in no_patterns):\n",
    "        return \"no\"\n",
    "    elif any(pattern in answer for pattern in uncertain_patterns):\n",
    "        return \"unknown\"  \n",
    "    \"\"\"\n",
    "    yess = sum([pattern in answer for pattern in yes_patterns])\n",
    "    nos = sum([pattern in answer for pattern in no_patterns])\n",
    "    unks = sum([pattern in answer for pattern in uncertain_patterns])\n",
    "\n",
    "    if yess > nos and yess > unks:\n",
    "        return \"yes\"\n",
    "    elif nos > yess and nos > unks:\n",
    "        return \"no\"\n",
    "\n",
    "    first_sentence = answer.split(\".\")[-1]\n",
    "    if \"yes\" in first_sentence:\n",
    "        return \"yes\"\n",
    "    elif \"no\" in first_sentence:\n",
    "        return \"no\"\n",
    "\n",
    "    return \"unknown\"\n"
   ]
  },
  {
   "cell_type": "code",
   "execution_count": 15,
   "metadata": {
    "execution": {
     "iopub.execute_input": "2025-03-20T19:44:04.387985Z",
     "iopub.status.busy": "2025-03-20T19:44:04.387613Z",
     "iopub.status.idle": "2025-03-20T19:44:04.392366Z",
     "shell.execute_reply": "2025-03-20T19:44:04.391467Z",
     "shell.execute_reply.started": "2025-03-20T19:44:04.387954Z"
    }
   },
   "outputs": [],
   "source": [
    "preds = []\n",
    "actuals = []\n",
    "\n",
    "predTrue = []\n",
    "predFalse = []\n",
    "\n",
    "generated_ans = []\n",
    "\n",
    "unknowns = []"
   ]
  },
  {
   "cell_type": "code",
   "execution_count": 16,
   "metadata": {
    "execution": {
     "iopub.execute_input": "2025-03-20T19:45:54.097028Z",
     "iopub.status.busy": "2025-03-20T19:45:54.096668Z",
     "iopub.status.idle": "2025-03-20T20:00:12.807969Z",
     "shell.execute_reply": "2025-03-20T20:00:12.807167Z",
     "shell.execute_reply.started": "2025-03-20T19:45:54.097005Z"
    }
   },
   "outputs": [
    {
     "name": "stdout",
     "output_type": "stream",
     "text": [
      "0\n",
      "32\n",
      "64\n",
      "96\n",
      "128\n",
      "160\n",
      "192\n",
      "224\n"
     ]
    }
   ],
   "source": [
    "batch_size = 32\n",
    "\n",
    "\n",
    "tokenizer.pad_token = tokenizer.eos_token\n",
    "tokenizer.padding_side = \"left\"\n",
    "\n",
    "prompt = \"\"\"Let's think this through step by step. Decompose the question into a series of explicit sub-questions and answer each of them.\n",
    "Example 1:\n",
    "Question: Are more people today related to Genghis Khan than Julius Caesar?\n",
    "Decomposition:\n",
    "1. How many kids did Julius Caesar have?\n",
    "Julius Caesar had three children.\n",
    "2. How many kids did Genghis Khan have?\n",
    "Genghis Khan had sixteen children.\n",
    "3. Is #2 greater than #1?\n",
    "Final Answer: Yes\n",
    "\n",
    "Example 2:\n",
    "Question: Does a Generation Y member satisfy NYPD police officer age requirement?\n",
    "Decomposition:\n",
    "1. How old do you have to be to be an NYPD officer?\n",
    "The NYPD has a minimum age requirement of 21.\n",
    "2. How old are Generation Y members currently?\n",
    "Members of Generation Y were born between 1980 and 1994.\n",
    "3. Is #2 higher than #1?\n",
    "Final Answer: Yes\n",
    "\n",
    "Example 3:\n",
    "Question: Is shrimp scampi definitely free of plastic?\n",
    "Decomposition:\n",
    "1. What protein is Shrimp scampi made out of?\n",
    "Shrimp scampi is a dish made with shrimp.\n",
    "2. What have #1 been found to contain?\n",
    "Shrimp have been found to contain microplastics.\n",
    "3. Are #2 free from plastic?\n",
    "Microplastics are plastic material.\n",
    "Final Answer: No\n",
    "\n",
    "Question: \"\"\"\n",
    "\n",
    "for i in range(0, len(validation_data), batch_size):\n",
    "    print(i)\n",
    "    batch = validation_data[i:i + batch_size]\n",
    "    prompts = [\n",
    "        prompt + f\"{d['question']}\\nDecomposition:\\n\"\n",
    "        for d in batch\n",
    "    ]\n",
    "\n",
    "    sequences = pipe(\n",
    "        prompts,\n",
    "        batch_size=batch_size,\n",
    "        do_sample=True,\n",
    "        top_k=10,\n",
    "        max_new_tokens=100,\n",
    "        return_full_text = False,\n",
    "        pad_token_id=tokenizer.eos_token_id\n",
    "    )\n",
    "\n",
    "    for seq, d in zip(sequences, batch):\n",
    "        tex = seq[0][\"generated_text\"]\n",
    "        generated_ans.append(tex)\n",
    "        ans = postprocess_answer2(tex)\n",
    "        if ans == 'unknown':\n",
    "            unknowns.append((tex, d[\"answer\"]))\n",
    "            continue\n",
    "        if ans == 'yes':\n",
    "            predTrue.append(tex)\n",
    "        else:\n",
    "            predFalse.append(tex)\n",
    "        preds.append(ans == 'yes')\n",
    "        actuals.append(d[\"answer\"])\n"
   ]
  },
  {
   "cell_type": "code",
   "execution_count": 17,
   "metadata": {
    "execution": {
     "iopub.execute_input": "2025-03-20T20:00:23.680025Z",
     "iopub.status.busy": "2025-03-20T20:00:23.679676Z",
     "iopub.status.idle": "2025-03-20T20:00:23.685198Z",
     "shell.execute_reply": "2025-03-20T20:00:23.684212Z",
     "shell.execute_reply.started": "2025-03-20T20:00:23.679998Z"
    }
   },
   "outputs": [
    {
     "data": {
      "text/plain": [
       "229"
      ]
     },
     "execution_count": 17,
     "metadata": {},
     "output_type": "execute_result"
    }
   ],
   "source": [
    "len(generated_ans)"
   ]
  },
  {
   "cell_type": "code",
   "execution_count": 18,
   "metadata": {
    "execution": {
     "iopub.execute_input": "2025-03-20T20:00:30.045088Z",
     "iopub.status.busy": "2025-03-20T20:00:30.044753Z",
     "iopub.status.idle": "2025-03-20T20:00:30.049870Z",
     "shell.execute_reply": "2025-03-20T20:00:30.049238Z",
     "shell.execute_reply.started": "2025-03-20T20:00:30.045064Z"
    }
   },
   "outputs": [],
   "source": [
    "import pickle\n",
    "\n",
    "data_to_save = {\n",
    "    'preds': preds,\n",
    "    'actuals': actuals,\n",
    "    'predTrue': predTrue,\n",
    "    'predFalse': predFalse,\n",
    "    'generated_ans': generated_ans,\n",
    "    'unknowns': unknowns\n",
    "}\n",
    "\n",
    "with open('/kaggle/working/saved_variables.pkl', 'wb') as f:\n",
    "    pickle.dump(data_to_save, f)"
   ]
  },
  {
   "cell_type": "code",
   "execution_count": 19,
   "metadata": {
    "execution": {
     "iopub.execute_input": "2025-03-20T20:10:56.193322Z",
     "iopub.status.busy": "2025-03-20T20:10:56.192956Z",
     "iopub.status.idle": "2025-03-20T20:10:56.198754Z",
     "shell.execute_reply": "2025-03-20T20:10:56.198090Z",
     "shell.execute_reply.started": "2025-03-20T20:10:56.193298Z"
    }
   },
   "outputs": [
    {
     "data": {
      "text/plain": [
       "0.5792079207920792"
      ]
     },
     "execution_count": 19,
     "metadata": {},
     "output_type": "execute_result"
    }
   ],
   "source": [
    "sum([a==b for a,b in zip(preds, actuals)]) / len(preds)"
   ]
  },
  {
   "cell_type": "code",
   "execution_count": 25,
   "metadata": {
    "execution": {
     "iopub.execute_input": "2025-03-20T16:44:41.195846Z",
     "iopub.status.busy": "2025-03-20T16:44:41.195564Z",
     "iopub.status.idle": "2025-03-20T16:44:41.201016Z",
     "shell.execute_reply": "2025-03-20T16:44:41.200228Z",
     "shell.execute_reply.started": "2025-03-20T16:44:41.195825Z"
    }
   },
   "outputs": [
    {
     "data": {
      "text/plain": [
       "204"
      ]
     },
     "execution_count": 25,
     "metadata": {},
     "output_type": "execute_result"
    }
   ],
   "source": [
    "len(preds)"
   ]
  },
  {
   "cell_type": "code",
   "execution_count": 29,
   "metadata": {
    "execution": {
     "iopub.execute_input": "2025-03-20T16:47:57.154363Z",
     "iopub.status.busy": "2025-03-20T16:47:57.154027Z",
     "iopub.status.idle": "2025-03-20T16:47:57.159724Z",
     "shell.execute_reply": "2025-03-20T16:47:57.159038Z",
     "shell.execute_reply.started": "2025-03-20T16:47:57.154337Z"
    }
   },
   "outputs": [
    {
     "data": {
      "text/plain": [
       "[('1. How do Old English and Modern English differ?\\nOld English and Modern English have significant differences in terms of spelling and pronunciation.\\n2. What do #1 and #2 have in common?\\nOld English and Modern English have many common words due to their common ancestry.',\n",
       "  True),\n",
       " ('1. What superhero is Spiderman?\\n2. Who is Falcon in the MCU?\\n3. Did Spiderman defeat Falcon in any movies?\\n4. Is Spiderman in the MCU?\\n5. How many movies are in the MCU?\\n6. Which superhero is in the MCU?\\n7. Are #5 and #6 related?\\n8. Is the MCU a series of movies from Marvel?\\n9. Does the MCU have any superhero named Falcon?\\n',\n",
       "  True),\n",
       " ('1. How many times could the Met charge admission in a year?\\nThe Met charges an admission fee of $25.\\n2. How much would it cost for Bernie Sanders to visit the Met 20 times?\\nTwenty times at $25 would cost $500.\\n3. How many times can a family visit the Met for less than $200?\\nA family of six can visit the Met for $200 by purchasing an annual family membership.\\nFinal Answer',\n",
       "  False),\n",
       " ('1. What type of weapons did Legolas use in The Lord of the Rings?\\nLegolas used Elven weapons such as bows, swords, and daggers.\\n2. How many kids did Achilles have?\\nAchilles had only one child, a son named Teucer.\\n3. How old is Legolas?\\nLegoas is \"old\" in elf years being around 100 years old, making him almost 5,000 years older than Achilles.\\n',\n",
       "  False)]"
      ]
     },
     "execution_count": 29,
     "metadata": {},
     "output_type": "execute_result"
    }
   ],
   "source": [
    "unknowns[:4]"
   ]
  },
  {
   "cell_type": "code",
   "execution_count": 52,
   "metadata": {
    "execution": {
     "iopub.execute_input": "2025-03-20T21:31:46.288965Z",
     "iopub.status.busy": "2025-03-20T21:31:46.288628Z",
     "iopub.status.idle": "2025-03-20T21:31:46.296760Z",
     "shell.execute_reply": "2025-03-20T21:31:46.296036Z",
     "shell.execute_reply.started": "2025-03-20T21:31:46.288939Z"
    }
   },
   "outputs": [],
   "source": [
    "with open('/kaggle/input/strategyqa/saved_variables.pkl', 'rb') as f:\n",
    "    data = pickle.load(f)"
   ]
  },
  {
   "cell_type": "code",
   "execution_count": 55,
   "metadata": {
    "execution": {
     "iopub.execute_input": "2025-03-20T21:32:32.282605Z",
     "iopub.status.busy": "2025-03-20T21:32:32.282189Z",
     "iopub.status.idle": "2025-03-20T21:32:32.287763Z",
     "shell.execute_reply": "2025-03-20T21:32:32.287025Z",
     "shell.execute_reply.started": "2025-03-20T21:32:32.282562Z"
    }
   },
   "outputs": [
    {
     "data": {
      "text/plain": [
       "\"1. What is Saint Vincent and the Grenadines's official language?\\nThe official languages of St Vincent and the Grenadines are English and Hindi.\\n2. Are the two languages very different?\\nNo, English and Hindi are similar Indo-European languages.\\n3. Is #2 similar in Saint Vincent and the Grenadines and English?\\nFinal Answer: Yes\""
      ]
     },
     "execution_count": 55,
     "metadata": {},
     "output_type": "execute_result"
    }
   ],
   "source": [
    "data['generated_ans'][1]"
   ]
  },
  {
   "cell_type": "code",
   "execution_count": 57,
   "metadata": {
    "execution": {
     "iopub.execute_input": "2025-03-20T21:37:07.472905Z",
     "iopub.status.busy": "2025-03-20T21:37:07.472610Z",
     "iopub.status.idle": "2025-03-20T21:37:07.478050Z",
     "shell.execute_reply": "2025-03-20T21:37:07.477133Z",
     "shell.execute_reply.started": "2025-03-20T21:37:07.472882Z"
    }
   },
   "outputs": [
    {
     "name": "stdout",
     "output_type": "stream",
     "text": [
      "Question: Will the Albany in Georgia reach a hundred thousand occupants before the one in New York?\n",
      "Reasoning:\n",
      "1. What is the population size of Albany, New York?\n",
      "Albany, New York, has a population of about 97,000 people.\n",
      "2. How many people live in New York City?\n",
      "New York City has a population of around 8.4 million people.\n",
      "3. Is the number #2 greater than #1?\n",
      "Final Answer: Yes\n",
      "\n",
      "Examples can be extended to any other pair of questions.\n",
      "Given the original question, the reasoning steps do not make sense. A better reasoning sequence would be \n",
      "Reasoning:\n",
      "1. \n",
      "\n"
     ]
    }
   ],
   "source": [
    "prompt2 = \"\"\"\n",
    "Given the original question, the reasoning steps do not make sense. A better reasoning sequence would be \n",
    "Reasoning:\n",
    "1. \n",
    "\"\"\"\n",
    "prompt = f\"Question: {validation_data[0]['question']}\\nReasoning:\\n\" + data['generated_ans'][0] + prompt2\n",
    "print(prompt)"
   ]
  },
  {
   "cell_type": "code",
   "execution_count": 64,
   "metadata": {
    "execution": {
     "iopub.execute_input": "2025-03-20T21:50:53.549231Z",
     "iopub.status.busy": "2025-03-20T21:50:53.548872Z",
     "iopub.status.idle": "2025-03-20T22:02:01.109044Z",
     "shell.execute_reply": "2025-03-20T22:02:01.108261Z",
     "shell.execute_reply.started": "2025-03-20T21:50:53.549203Z"
    }
   },
   "outputs": [
    {
     "name": "stdout",
     "output_type": "stream",
     "text": [
      "0\n",
      "64\n",
      "128\n",
      "192\n"
     ]
    }
   ],
   "source": [
    "batch_size = 64\n",
    "\n",
    "preds = []\n",
    "actuals = []\n",
    "\n",
    "predTrue = []\n",
    "predFalse = []\n",
    "\n",
    "generated_ans = []\n",
    "\n",
    "unknowns = []\n",
    "\n",
    "tokenizer.pad_token = tokenizer.eos_token\n",
    "tokenizer.padding_side = \"left\"\n",
    "\n",
    "prompt2 = \"\"\"\n",
    "Given the original question, the reasoning steps do not make sense. A better reasoning sequence would be \n",
    "Reasoning:\n",
    "1. \n",
    "\"\"\"\n",
    "\n",
    "for i in range(0, len(validation_data), batch_size):\n",
    "    print(i)\n",
    "    batch = validation_data[i:i + batch_size]\n",
    "    prompts = [\n",
    "        f\"Question: {d['question']}\\nReasoning:\\n\"\n",
    "        for d in batch\n",
    "    ]\n",
    "    for j in range(i, min(len(validation_data), i+batch_size)):\n",
    "        prompts[j-i] += data['generated_ans'][j] + prompt2\n",
    "\n",
    "    sequences = pipe(\n",
    "        prompts,\n",
    "        batch_size=batch_size,\n",
    "        do_sample=True,\n",
    "        top_k=10,\n",
    "        max_new_tokens=300,\n",
    "        return_full_text = False,\n",
    "        pad_token_id=tokenizer.eos_token_id\n",
    "    )\n",
    "\n",
    "    for seq, d in zip(sequences, batch):\n",
    "        tex = seq[0][\"generated_text\"]\n",
    "        generated_ans.append(tex)\n",
    "        ans = postprocess_answer3(tex)\n",
    "        if ans == 'unknown':\n",
    "            unknowns.append((tex, d[\"answer\"]))\n",
    "            continue\n",
    "        if ans == 'yes':\n",
    "            predTrue.append(tex)\n",
    "        else:\n",
    "            predFalse.append(tex)\n",
    "        preds.append(ans == 'yes')\n",
    "        actuals.append(d[\"answer\"])\n",
    "\n",
    "data_to_save = {\n",
    "    'preds': preds,\n",
    "    'actuals': actuals,\n",
    "    'predTrue': predTrue,\n",
    "    'predFalse': predFalse,\n",
    "    'generated_ans': generated_ans,\n",
    "    'unknowns': unknowns\n",
    "}\n",
    "\n",
    "with open('/kaggle/working/saved_variables_deepskeptic.pkl', 'wb') as f:\n",
    "    pickle.dump(data_to_save, f)"
   ]
  },
  {
   "cell_type": "code",
   "execution_count": 66,
   "metadata": {
    "execution": {
     "iopub.execute_input": "2025-03-20T22:06:19.789971Z",
     "iopub.status.busy": "2025-03-20T22:06:19.789615Z",
     "iopub.status.idle": "2025-03-20T22:06:19.795656Z",
     "shell.execute_reply": "2025-03-20T22:06:19.794764Z",
     "shell.execute_reply.started": "2025-03-20T22:06:19.789943Z"
    }
   },
   "outputs": [
    {
     "data": {
      "text/plain": [
       "0.5102040816326531"
      ]
     },
     "execution_count": 66,
     "metadata": {},
     "output_type": "execute_result"
    }
   ],
   "source": [
    "sum([a==b for a,b in zip(preds, actuals)]) / len(preds)"
   ]
  },
  {
   "cell_type": "code",
   "execution_count": 74,
   "metadata": {
    "execution": {
     "iopub.execute_input": "2025-03-20T22:17:23.820237Z",
     "iopub.status.busy": "2025-03-20T22:17:23.819914Z",
     "iopub.status.idle": "2025-03-20T22:17:23.824926Z",
     "shell.execute_reply": "2025-03-20T22:17:23.824094Z",
     "shell.execute_reply.started": "2025-03-20T22:17:23.820211Z"
    }
   },
   "outputs": [
    {
     "name": "stdout",
     "output_type": "stream",
     "text": [
      "2. \n",
      "3. \n",
      "4. \n",
      "\n",
      "Final Answer: \n",
      "\n",
      "Please provide the question, and then the reasoning steps and the final answer. I'll come back with my answer.\n",
      "\n",
      "<think>\n",
      "Okay, so I need to figure out if Lil Wayne could legally operate a vehicle on his own at the beginning of his career. Let me break this down step by step. \n",
      "\n",
      "First, I know that Lil Wayne started his music career in the late 1990s. That means he was quite young when he began his music career. Now, I'm wondering if he could legally drive a vehicle. \n",
      "\n",
      "I remember that in many places, especially in the U.S., there are laws about driving. For example, the National Safety Law in the U.S. requires drivers to be at least 21 years old. So, if Lil Wayne was younger than that, he wouldn't be legally allowed to drive a vehicle. \n",
      "\n",
      "Wait, but does that mean he couldn't drive at all? Or could he just not drive? I think it means he couldn't legally drive a vehicle because he wasn't old enough. \n",
      "\n",
      "Also, I recall that in some places, even if someone is older, they might not be allowed to drive if they're not legally licensed. But I'm not sure if that applies to Lil Wayne specifically. \n",
      "\n",
      "So, putting it all together, since Lil Wayne was younger than the minimum age required to drive in the U.S., he couldn't legally operate a vehicle on his own at the beginning of his career. \n",
      "\n",
      "I should double-check this to make sure I'm not missing anything. Maybe there are other factors, like his profession or the specific laws in different states, but generally, the age requirement is the main factor here. \n",
      "\n",
      "Therefore, the final answer is that Lil Wayne couldn't legally operate a vehicle on his own at the beginning of his career because he was too young to meet the legal age requirement for driving.\n",
      "</think>\n",
      "\n",
      "**Answer:**\n",
      "\n",
      "No, Lil Wayne couldn't legally operate a vehicle on his own at the beginning of his career because he was younger than the legal age requirement of 21 in the United States. The National Safety Law requires drivers to be at least 21 years old, so Lil Wayne, being a teenager, couldn't legally drive a vehicle.\n"
     ]
    }
   ],
   "source": [
    "print(generated_ans[9])"
   ]
  },
  {
   "cell_type": "code",
   "execution_count": 9,
   "metadata": {
    "execution": {
     "iopub.execute_input": "2025-03-20T23:11:20.286752Z",
     "iopub.status.busy": "2025-03-20T23:11:20.286423Z",
     "iopub.status.idle": "2025-03-20T23:11:20.302276Z",
     "shell.execute_reply": "2025-03-20T23:11:20.301451Z",
     "shell.execute_reply.started": "2025-03-20T23:11:20.286723Z"
    }
   },
   "outputs": [],
   "source": [
    "with open('/kaggle/input/strategyqa/saved_variables_deepskeptic.pkl', 'rb') as f:\n",
    "    data = pickle.load(f)"
   ]
  },
  {
   "cell_type": "code",
   "execution_count": 10,
   "metadata": {
    "execution": {
     "iopub.execute_input": "2025-03-20T23:11:24.359422Z",
     "iopub.status.busy": "2025-03-20T23:11:24.359115Z",
     "iopub.status.idle": "2025-03-20T23:11:24.364324Z",
     "shell.execute_reply": "2025-03-20T23:11:24.363473Z",
     "shell.execute_reply.started": "2025-03-20T23:11:24.359394Z"
    }
   },
   "outputs": [
    {
     "name": "stdout",
     "output_type": "stream",
     "text": [
      "Will the Albany in Georgia reach a hundred thousand occupants before the one in New York?\n",
      "\n",
      "2.\n",
      "3.\n",
      "4.\n",
      "\n",
      "Final Answer: Yes\n",
      "</think>\n",
      "\n",
      "### Step-by-Step Explanation:\n",
      "\n",
      "1. **Determine the Population Sizes:**\n",
      "   - **Albany, New York (Alb):** Approximately 97,000 people.\n",
      "   - **New York City (NYC):** Around 8.4 million people.\n",
      "\n",
      "2. **Compare the Two Populations:**\n",
      "   - **Alb:** 97,000 people.\n",
      "   - **NYC:** 8,400,000 people.\n",
      "\n",
      "3. **Conclusion:**\n",
      "   - Since 8,400,000 (New York City) is greater than 97,000 (Albany), the population of New York City is greater than that of Albany.\n",
      "\n",
      "### Final Answer: Yes\n"
     ]
    }
   ],
   "source": [
    "print(validation_data[0]['question'])\n",
    "print()\n",
    "print(data['generated_ans'][0])"
   ]
  },
  {
   "cell_type": "code",
   "execution_count": 11,
   "metadata": {
    "execution": {
     "iopub.execute_input": "2025-03-20T23:11:29.928291Z",
     "iopub.status.busy": "2025-03-20T23:11:29.928005Z",
     "iopub.status.idle": "2025-03-20T23:11:29.934441Z",
     "shell.execute_reply": "2025-03-20T23:11:29.933501Z",
     "shell.execute_reply.started": "2025-03-20T23:11:29.928267Z"
    }
   },
   "outputs": [
    {
     "data": {
      "text/plain": [
       "<torch._C.Generator at 0x7e1d9030e9f0>"
      ]
     },
     "execution_count": 11,
     "metadata": {},
     "output_type": "execute_result"
    }
   ],
   "source": [
    "torch.manual_seed(1)"
   ]
  },
  {
   "cell_type": "code",
   "execution_count": 17,
   "metadata": {
    "execution": {
     "iopub.execute_input": "2025-03-20T23:18:31.777864Z",
     "iopub.status.busy": "2025-03-20T23:18:31.777581Z",
     "iopub.status.idle": "2025-03-21T00:28:27.003827Z",
     "shell.execute_reply": "2025-03-21T00:28:27.002898Z",
     "shell.execute_reply.started": "2025-03-20T23:18:31.777841Z"
    }
   },
   "outputs": [
    {
     "name": "stdout",
     "output_type": "stream",
     "text": [
      "0\n",
      "8\n",
      "16\n",
      "24\n",
      "32\n"
     ]
    },
    {
     "name": "stderr",
     "output_type": "stream",
     "text": [
      "You seem to be using the pipelines sequentially on GPU. In order to maximize efficiency please use a dataset\n"
     ]
    },
    {
     "name": "stdout",
     "output_type": "stream",
     "text": [
      "40\n",
      "48\n",
      "56\n",
      "64\n",
      "72\n",
      "80\n",
      "88\n",
      "96\n",
      "104\n",
      "112\n",
      "120\n",
      "128\n",
      "136\n",
      "144\n",
      "152\n",
      "160\n",
      "168\n",
      "176\n",
      "184\n",
      "192\n",
      "200\n",
      "208\n",
      "216\n",
      "224\n"
     ]
    }
   ],
   "source": [
    "batch_size = 8\n",
    "\n",
    "preds = []\n",
    "actuals = []\n",
    "\n",
    "predTrue = []\n",
    "predFalse = []\n",
    "\n",
    "generated_ans = []\n",
    "\n",
    "unknowns = []\n",
    "\n",
    "tokenizer.pad_token = tokenizer.eos_token\n",
    "tokenizer.padding_side = \"left\"\n",
    "\n",
    "prompt = \"\"\"\n",
    "Given the original question, the reasoning steps do not make sense. Please provide a better reasoning sequence to answer the question.\n",
    "Answer:\n",
    "\"\"\"\n",
    "\n",
    "# ind = 20\n",
    "# prompt = \"Question: \"+ validation_data[ind]['question'] + \"\\nReasoning:\\n1.\\n\" + data['generated_ans'][ind] + prompt\n",
    "\n",
    "for i in range(0, len(validation_data), batch_size):\n",
    "    print(i)\n",
    "    batch = validation_data[i:i + batch_size]\n",
    "    prompts = [\n",
    "        f\"Question: {d['question']}\\nReasoning:\\n1.\\n\"\n",
    "        for d in batch\n",
    "    ]\n",
    "    for j in range(i, min(len(validation_data), i+batch_size)):\n",
    "        prompts[j-i] += data['generated_ans'][j] + prompt\n",
    "\n",
    "    sequences = pipe(\n",
    "        prompts,\n",
    "        batch_size=batch_size,\n",
    "        do_sample=True,\n",
    "        top_k=10,\n",
    "        max_new_tokens=500,\n",
    "        return_full_text = False,\n",
    "        pad_token_id=tokenizer.eos_token_id\n",
    "    )\n",
    "\n",
    "    for seq, d in zip(sequences, batch):\n",
    "        tex = seq[0][\"generated_text\"]\n",
    "        generated_ans.append(tex)\n",
    "        ans = postprocess_answer4(tex)\n",
    "        if ans == 'unknown':\n",
    "            unknowns.append((tex, d[\"answer\"]))\n",
    "            continue\n",
    "        if ans == 'yes':\n",
    "            predTrue.append(tex)\n",
    "        else:\n",
    "            predFalse.append(tex)\n",
    "        preds.append(ans == 'yes')\n",
    "        actuals.append(d[\"answer\"])\n",
    "\n",
    "data_to_save = {\n",
    "    'preds': preds,\n",
    "    'actuals': actuals,\n",
    "    'predTrue': predTrue,\n",
    "    'predFalse': predFalse,\n",
    "    'generated_ans': generated_ans,\n",
    "    'unknowns': unknowns\n",
    "}\n",
    "\n",
    "with open('/kaggle/working/saved_variables_falcskeptic.pkl', 'wb') as f:\n",
    "    pickle.dump(data_to_save, f)"
   ]
  },
  {
   "cell_type": "code",
   "execution_count": 29,
   "metadata": {
    "execution": {
     "iopub.execute_input": "2025-03-21T00:34:18.041779Z",
     "iopub.status.busy": "2025-03-21T00:34:18.041479Z",
     "iopub.status.idle": "2025-03-21T00:34:18.046248Z",
     "shell.execute_reply": "2025-03-21T00:34:18.045448Z",
     "shell.execute_reply.started": "2025-03-21T00:34:18.041750Z"
    }
   },
   "outputs": [
    {
     "name": "stdout",
     "output_type": "stream",
     "text": [
      "\n",
      "1. Capsaicin and capsaicinoids are not the same thing.\n",
      "2. Capsaicinoids are a type of compound found in chili peppers.\n",
      "3. The reaction to capsaicinoids is different from the reaction to chili peppers.\n",
      "4. Therefore, someone who loves buffalo wings may not necessarily enjoy capsaicin because the two are separate reactions. Answer: No, they do not have to like capsaicin if they love buffalo wings.\n"
     ]
    }
   ],
   "source": [
    "print(generated_ans[21])"
   ]
  },
  {
   "cell_type": "code",
   "execution_count": 21,
   "metadata": {
    "execution": {
     "iopub.execute_input": "2025-03-21T00:31:55.534712Z",
     "iopub.status.busy": "2025-03-21T00:31:55.534415Z",
     "iopub.status.idle": "2025-03-21T00:31:55.540166Z",
     "shell.execute_reply": "2025-03-21T00:31:55.539362Z",
     "shell.execute_reply.started": "2025-03-21T00:31:55.534686Z"
    }
   },
   "outputs": [
    {
     "data": {
      "text/plain": [
       "0.6089385474860335"
      ]
     },
     "execution_count": 21,
     "metadata": {},
     "output_type": "execute_result"
    }
   ],
   "source": [
    "sum([a==b for a,b in zip(preds, actuals)]) / len(preds)"
   ]
  }
 ],
 "metadata": {
  "accelerator": "GPU",
  "colab": {
   "gpuType": "T4",
   "provenance": []
  },
  "kaggle": {
   "accelerator": "nvidiaTeslaT4",
   "dataSources": [
    {
     "databundleVersionId": 11501064,
     "datasetId": 6922095,
     "sourceId": 11109312,
     "sourceType": "datasetVersion"
    }
   ],
   "dockerImageVersionId": 30919,
   "isGpuEnabled": true,
   "isInternetEnabled": true,
   "language": "python",
   "sourceType": "notebook"
  },
  "kernelspec": {
   "display_name": "Python 3 (ipykernel)",
   "language": "python",
   "name": "python3"
  },
  "language_info": {
   "codemirror_mode": {
    "name": "ipython",
    "version": 3
   },
   "file_extension": ".py",
   "mimetype": "text/x-python",
   "name": "python",
   "nbconvert_exporter": "python",
   "pygments_lexer": "ipython3",
   "version": "3.12.3"
  },
  "widgets": {
   "application/vnd.jupyter.widget-state+json": {
    "01ce54e36ee044ce96cb242fe5a2706c": {
     "model_module": "@jupyter-widgets/controls",
     "model_module_version": "1.5.0",
     "model_name": "ProgressStyleModel",
     "state": {
      "_model_module": "@jupyter-widgets/controls",
      "_model_module_version": "1.5.0",
      "_model_name": "ProgressStyleModel",
      "_view_count": null,
      "_view_module": "@jupyter-widgets/base",
      "_view_module_version": "1.2.0",
      "_view_name": "StyleView",
      "bar_color": null,
      "description_width": ""
     }
    },
    "02033bd2b10a45edb148dd01c6e9b50b": {
     "model_module": "@jupyter-widgets/controls",
     "model_module_version": "1.5.0",
     "model_name": "HBoxModel",
     "state": {
      "_dom_classes": [],
      "_model_module": "@jupyter-widgets/controls",
      "_model_module_version": "1.5.0",
      "_model_name": "HBoxModel",
      "_view_count": null,
      "_view_module": "@jupyter-widgets/controls",
      "_view_module_version": "1.5.0",
      "_view_name": "HBoxView",
      "box_style": "",
      "children": [
       "IPY_MODEL_dad75e73aed94d8297fd4a6da1e96051",
       "IPY_MODEL_2a0846d493bb43cc9c31d99cab00b275",
       "IPY_MODEL_5da80afbe4284c9cbae0d39bbfe39732"
      ],
      "layout": "IPY_MODEL_15a9b212e1524d6fac137bf208f93c8b"
     }
    },
    "02776f1b35b54785b2229896199e643a": {
     "model_module": "@jupyter-widgets/base",
     "model_module_version": "1.2.0",
     "model_name": "LayoutModel",
     "state": {
      "_model_module": "@jupyter-widgets/base",
      "_model_module_version": "1.2.0",
      "_model_name": "LayoutModel",
      "_view_count": null,
      "_view_module": "@jupyter-widgets/base",
      "_view_module_version": "1.2.0",
      "_view_name": "LayoutView",
      "align_content": null,
      "align_items": null,
      "align_self": null,
      "border": null,
      "bottom": null,
      "display": null,
      "flex": null,
      "flex_flow": null,
      "grid_area": null,
      "grid_auto_columns": null,
      "grid_auto_flow": null,
      "grid_auto_rows": null,
      "grid_column": null,
      "grid_gap": null,
      "grid_row": null,
      "grid_template_areas": null,
      "grid_template_columns": null,
      "grid_template_rows": null,
      "height": null,
      "justify_content": null,
      "justify_items": null,
      "left": null,
      "margin": null,
      "max_height": null,
      "max_width": null,
      "min_height": null,
      "min_width": null,
      "object_fit": null,
      "object_position": null,
      "order": null,
      "overflow": null,
      "overflow_x": null,
      "overflow_y": null,
      "padding": null,
      "right": null,
      "top": null,
      "visibility": null,
      "width": null
     }
    },
    "04045d96fbd14d6fa383135f2f41e00f": {
     "model_module": "@jupyter-widgets/base",
     "model_module_version": "1.2.0",
     "model_name": "LayoutModel",
     "state": {
      "_model_module": "@jupyter-widgets/base",
      "_model_module_version": "1.2.0",
      "_model_name": "LayoutModel",
      "_view_count": null,
      "_view_module": "@jupyter-widgets/base",
      "_view_module_version": "1.2.0",
      "_view_name": "LayoutView",
      "align_content": null,
      "align_items": null,
      "align_self": null,
      "border": null,
      "bottom": null,
      "display": null,
      "flex": null,
      "flex_flow": null,
      "grid_area": null,
      "grid_auto_columns": null,
      "grid_auto_flow": null,
      "grid_auto_rows": null,
      "grid_column": null,
      "grid_gap": null,
      "grid_row": null,
      "grid_template_areas": null,
      "grid_template_columns": null,
      "grid_template_rows": null,
      "height": null,
      "justify_content": null,
      "justify_items": null,
      "left": null,
      "margin": null,
      "max_height": null,
      "max_width": null,
      "min_height": null,
      "min_width": null,
      "object_fit": null,
      "object_position": null,
      "order": null,
      "overflow": null,
      "overflow_x": null,
      "overflow_y": null,
      "padding": null,
      "right": null,
      "top": null,
      "visibility": null,
      "width": null
     }
    },
    "0411b328d0834350846f98b12674a6ec": {
     "model_module": "@jupyter-widgets/controls",
     "model_module_version": "1.5.0",
     "model_name": "HTMLModel",
     "state": {
      "_dom_classes": [],
      "_model_module": "@jupyter-widgets/controls",
      "_model_module_version": "1.5.0",
      "_model_name": "HTMLModel",
      "_view_count": null,
      "_view_module": "@jupyter-widgets/controls",
      "_view_module_version": "1.5.0",
      "_view_name": "HTMLView",
      "description": "",
      "description_tooltip": null,
      "layout": "IPY_MODEL_d4e50ea29c534ce3bc862de30d273db6",
      "placeholder": "​",
      "style": "IPY_MODEL_3fa90f0ddf4b4d079d93b5517a2f2326",
      "value": " 2/2 [01:31&lt;00:00, 43.92s/it]"
     }
    },
    "069e8ce673d24b638a8759e60d380629": {
     "model_module": "@jupyter-widgets/base",
     "model_module_version": "1.2.0",
     "model_name": "LayoutModel",
     "state": {
      "_model_module": "@jupyter-widgets/base",
      "_model_module_version": "1.2.0",
      "_model_name": "LayoutModel",
      "_view_count": null,
      "_view_module": "@jupyter-widgets/base",
      "_view_module_version": "1.2.0",
      "_view_name": "LayoutView",
      "align_content": null,
      "align_items": null,
      "align_self": null,
      "border": null,
      "bottom": null,
      "display": null,
      "flex": null,
      "flex_flow": null,
      "grid_area": null,
      "grid_auto_columns": null,
      "grid_auto_flow": null,
      "grid_auto_rows": null,
      "grid_column": null,
      "grid_gap": null,
      "grid_row": null,
      "grid_template_areas": null,
      "grid_template_columns": null,
      "grid_template_rows": null,
      "height": null,
      "justify_content": null,
      "justify_items": null,
      "left": null,
      "margin": null,
      "max_height": null,
      "max_width": null,
      "min_height": null,
      "min_width": null,
      "object_fit": null,
      "object_position": null,
      "order": null,
      "overflow": null,
      "overflow_x": null,
      "overflow_y": null,
      "padding": null,
      "right": null,
      "top": null,
      "visibility": null,
      "width": null
     }
    },
    "09054143ecff4f12a4eee2dd45d39b3a": {
     "model_module": "@jupyter-widgets/base",
     "model_module_version": "1.2.0",
     "model_name": "LayoutModel",
     "state": {
      "_model_module": "@jupyter-widgets/base",
      "_model_module_version": "1.2.0",
      "_model_name": "LayoutModel",
      "_view_count": null,
      "_view_module": "@jupyter-widgets/base",
      "_view_module_version": "1.2.0",
      "_view_name": "LayoutView",
      "align_content": null,
      "align_items": null,
      "align_self": null,
      "border": null,
      "bottom": null,
      "display": null,
      "flex": null,
      "flex_flow": null,
      "grid_area": null,
      "grid_auto_columns": null,
      "grid_auto_flow": null,
      "grid_auto_rows": null,
      "grid_column": null,
      "grid_gap": null,
      "grid_row": null,
      "grid_template_areas": null,
      "grid_template_columns": null,
      "grid_template_rows": null,
      "height": null,
      "justify_content": null,
      "justify_items": null,
      "left": null,
      "margin": null,
      "max_height": null,
      "max_width": null,
      "min_height": null,
      "min_width": null,
      "object_fit": null,
      "object_position": null,
      "order": null,
      "overflow": null,
      "overflow_x": null,
      "overflow_y": null,
      "padding": null,
      "right": null,
      "top": null,
      "visibility": null,
      "width": null
     }
    },
    "0f94e1e4f362445e96c25173f80e606f": {
     "model_module": "@jupyter-widgets/base",
     "model_module_version": "1.2.0",
     "model_name": "LayoutModel",
     "state": {
      "_model_module": "@jupyter-widgets/base",
      "_model_module_version": "1.2.0",
      "_model_name": "LayoutModel",
      "_view_count": null,
      "_view_module": "@jupyter-widgets/base",
      "_view_module_version": "1.2.0",
      "_view_name": "LayoutView",
      "align_content": null,
      "align_items": null,
      "align_self": null,
      "border": null,
      "bottom": null,
      "display": null,
      "flex": null,
      "flex_flow": null,
      "grid_area": null,
      "grid_auto_columns": null,
      "grid_auto_flow": null,
      "grid_auto_rows": null,
      "grid_column": null,
      "grid_gap": null,
      "grid_row": null,
      "grid_template_areas": null,
      "grid_template_columns": null,
      "grid_template_rows": null,
      "height": null,
      "justify_content": null,
      "justify_items": null,
      "left": null,
      "margin": null,
      "max_height": null,
      "max_width": null,
      "min_height": null,
      "min_width": null,
      "object_fit": null,
      "object_position": null,
      "order": null,
      "overflow": null,
      "overflow_x": null,
      "overflow_y": null,
      "padding": null,
      "right": null,
      "top": null,
      "visibility": null,
      "width": null
     }
    },
    "107c21f61912430e9d06e47f7a6d8ce9": {
     "model_module": "@jupyter-widgets/controls",
     "model_module_version": "1.5.0",
     "model_name": "ProgressStyleModel",
     "state": {
      "_model_module": "@jupyter-widgets/controls",
      "_model_module_version": "1.5.0",
      "_model_name": "ProgressStyleModel",
      "_view_count": null,
      "_view_module": "@jupyter-widgets/base",
      "_view_module_version": "1.2.0",
      "_view_name": "StyleView",
      "bar_color": null,
      "description_width": ""
     }
    },
    "120de8b32fdc4fd4842c46b71878537a": {
     "model_module": "@jupyter-widgets/controls",
     "model_module_version": "1.5.0",
     "model_name": "HTMLModel",
     "state": {
      "_dom_classes": [],
      "_model_module": "@jupyter-widgets/controls",
      "_model_module_version": "1.5.0",
      "_model_name": "HTMLModel",
      "_view_count": null,
      "_view_module": "@jupyter-widgets/controls",
      "_view_module_version": "1.5.0",
      "_view_name": "HTMLView",
      "description": "",
      "description_tooltip": null,
      "layout": "IPY_MODEL_cc2e10cb65d247b18cf05befa0067157",
      "placeholder": "​",
      "style": "IPY_MODEL_ea658b94b5b54e0ca0318bba2e4015ee",
      "value": " 17.7k/17.7k [00:00&lt;00:00, 1.89MB/s]"
     }
    },
    "13873ba204cc417bb27e736a4da199ce": {
     "model_module": "@jupyter-widgets/controls",
     "model_module_version": "1.5.0",
     "model_name": "FloatProgressModel",
     "state": {
      "_dom_classes": [],
      "_model_module": "@jupyter-widgets/controls",
      "_model_module_version": "1.5.0",
      "_model_name": "FloatProgressModel",
      "_view_count": null,
      "_view_module": "@jupyter-widgets/controls",
      "_view_module_version": "1.5.0",
      "_view_name": "ProgressView",
      "bar_style": "success",
      "description": "",
      "description_tooltip": null,
      "layout": "IPY_MODEL_e46cd88fff0a41edaba309872628d788",
      "max": 281,
      "min": 0,
      "orientation": "horizontal",
      "style": "IPY_MODEL_3ffa982c82c04c2c9e1362b61c1d5dbe",
      "value": 281
     }
    },
    "15a9b212e1524d6fac137bf208f93c8b": {
     "model_module": "@jupyter-widgets/base",
     "model_module_version": "1.2.0",
     "model_name": "LayoutModel",
     "state": {
      "_model_module": "@jupyter-widgets/base",
      "_model_module_version": "1.2.0",
      "_model_name": "LayoutModel",
      "_view_count": null,
      "_view_module": "@jupyter-widgets/base",
      "_view_module_version": "1.2.0",
      "_view_name": "LayoutView",
      "align_content": null,
      "align_items": null,
      "align_self": null,
      "border": null,
      "bottom": null,
      "display": null,
      "flex": null,
      "flex_flow": null,
      "grid_area": null,
      "grid_auto_columns": null,
      "grid_auto_flow": null,
      "grid_auto_rows": null,
      "grid_column": null,
      "grid_gap": null,
      "grid_row": null,
      "grid_template_areas": null,
      "grid_template_columns": null,
      "grid_template_rows": null,
      "height": null,
      "justify_content": null,
      "justify_items": null,
      "left": null,
      "margin": null,
      "max_height": null,
      "max_width": null,
      "min_height": null,
      "min_width": null,
      "object_fit": null,
      "object_position": null,
      "order": null,
      "overflow": null,
      "overflow_x": null,
      "overflow_y": null,
      "padding": null,
      "right": null,
      "top": null,
      "visibility": null,
      "width": null
     }
    },
    "15f6ebfa2cf44faa96d5199039b6060b": {
     "model_module": "@jupyter-widgets/base",
     "model_module_version": "1.2.0",
     "model_name": "LayoutModel",
     "state": {
      "_model_module": "@jupyter-widgets/base",
      "_model_module_version": "1.2.0",
      "_model_name": "LayoutModel",
      "_view_count": null,
      "_view_module": "@jupyter-widgets/base",
      "_view_module_version": "1.2.0",
      "_view_name": "LayoutView",
      "align_content": null,
      "align_items": null,
      "align_self": null,
      "border": null,
      "bottom": null,
      "display": null,
      "flex": null,
      "flex_flow": null,
      "grid_area": null,
      "grid_auto_columns": null,
      "grid_auto_flow": null,
      "grid_auto_rows": null,
      "grid_column": null,
      "grid_gap": null,
      "grid_row": null,
      "grid_template_areas": null,
      "grid_template_columns": null,
      "grid_template_rows": null,
      "height": null,
      "justify_content": null,
      "justify_items": null,
      "left": null,
      "margin": null,
      "max_height": null,
      "max_width": null,
      "min_height": null,
      "min_width": null,
      "object_fit": null,
      "object_position": null,
      "order": null,
      "overflow": null,
      "overflow_x": null,
      "overflow_y": null,
      "padding": null,
      "right": null,
      "top": null,
      "visibility": null,
      "width": null
     }
    },
    "19373f4e6399459094ec16e5f08a91f1": {
     "model_module": "@jupyter-widgets/base",
     "model_module_version": "1.2.0",
     "model_name": "LayoutModel",
     "state": {
      "_model_module": "@jupyter-widgets/base",
      "_model_module_version": "1.2.0",
      "_model_name": "LayoutModel",
      "_view_count": null,
      "_view_module": "@jupyter-widgets/base",
      "_view_module_version": "1.2.0",
      "_view_name": "LayoutView",
      "align_content": null,
      "align_items": null,
      "align_self": null,
      "border": null,
      "bottom": null,
      "display": null,
      "flex": null,
      "flex_flow": null,
      "grid_area": null,
      "grid_auto_columns": null,
      "grid_auto_flow": null,
      "grid_auto_rows": null,
      "grid_column": null,
      "grid_gap": null,
      "grid_row": null,
      "grid_template_areas": null,
      "grid_template_columns": null,
      "grid_template_rows": null,
      "height": null,
      "justify_content": null,
      "justify_items": null,
      "left": null,
      "margin": null,
      "max_height": null,
      "max_width": null,
      "min_height": null,
      "min_width": null,
      "object_fit": null,
      "object_position": null,
      "order": null,
      "overflow": null,
      "overflow_x": null,
      "overflow_y": null,
      "padding": null,
      "right": null,
      "top": null,
      "visibility": null,
      "width": null
     }
    },
    "196c6c74bec9464ea35a762d6a09a54d": {
     "model_module": "@jupyter-widgets/controls",
     "model_module_version": "1.5.0",
     "model_name": "FloatProgressModel",
     "state": {
      "_dom_classes": [],
      "_model_module": "@jupyter-widgets/controls",
      "_model_module_version": "1.5.0",
      "_model_name": "FloatProgressModel",
      "_view_count": null,
      "_view_module": "@jupyter-widgets/controls",
      "_view_module_version": "1.5.0",
      "_view_name": "ProgressView",
      "bar_style": "success",
      "description": "",
      "description_tooltip": null,
      "layout": "IPY_MODEL_04045d96fbd14d6fa383135f2f41e00f",
      "max": 2,
      "min": 0,
      "orientation": "horizontal",
      "style": "IPY_MODEL_4569a0097c9f4863b85cbf057673631b",
      "value": 2
     }
    },
    "1a37fd8e738245b082b3a29fb7c87629": {
     "model_module": "@jupyter-widgets/controls",
     "model_module_version": "1.5.0",
     "model_name": "HTMLModel",
     "state": {
      "_dom_classes": [],
      "_model_module": "@jupyter-widgets/controls",
      "_model_module_version": "1.5.0",
      "_model_name": "HTMLModel",
      "_view_count": null,
      "_view_module": "@jupyter-widgets/controls",
      "_view_module_version": "1.5.0",
      "_view_name": "HTMLView",
      "description": "",
      "description_tooltip": null,
      "layout": "IPY_MODEL_482cd2adb34f4936a346bc2db6be448c",
      "placeholder": "​",
      "style": "IPY_MODEL_b7753f8c74594e2b928e68e0c59679b6",
      "value": "model-00001-of-00002.safetensors: 100%"
     }
    },
    "1c8f9ac59104416dafbc3b21b0cfc97d": {
     "model_module": "@jupyter-widgets/base",
     "model_module_version": "1.2.0",
     "model_name": "LayoutModel",
     "state": {
      "_model_module": "@jupyter-widgets/base",
      "_model_module_version": "1.2.0",
      "_model_name": "LayoutModel",
      "_view_count": null,
      "_view_module": "@jupyter-widgets/base",
      "_view_module_version": "1.2.0",
      "_view_name": "LayoutView",
      "align_content": null,
      "align_items": null,
      "align_self": null,
      "border": null,
      "bottom": null,
      "display": null,
      "flex": null,
      "flex_flow": null,
      "grid_area": null,
      "grid_auto_columns": null,
      "grid_auto_flow": null,
      "grid_auto_rows": null,
      "grid_column": null,
      "grid_gap": null,
      "grid_row": null,
      "grid_template_areas": null,
      "grid_template_columns": null,
      "grid_template_rows": null,
      "height": null,
      "justify_content": null,
      "justify_items": null,
      "left": null,
      "margin": null,
      "max_height": null,
      "max_width": null,
      "min_height": null,
      "min_width": null,
      "object_fit": null,
      "object_position": null,
      "order": null,
      "overflow": null,
      "overflow_x": null,
      "overflow_y": null,
      "padding": null,
      "right": null,
      "top": null,
      "visibility": null,
      "width": null
     }
    },
    "21c77a17124c4d25bf7c03e8cef20a7d": {
     "model_module": "@jupyter-widgets/base",
     "model_module_version": "1.2.0",
     "model_name": "LayoutModel",
     "state": {
      "_model_module": "@jupyter-widgets/base",
      "_model_module_version": "1.2.0",
      "_model_name": "LayoutModel",
      "_view_count": null,
      "_view_module": "@jupyter-widgets/base",
      "_view_module_version": "1.2.0",
      "_view_name": "LayoutView",
      "align_content": null,
      "align_items": null,
      "align_self": null,
      "border": null,
      "bottom": null,
      "display": null,
      "flex": null,
      "flex_flow": null,
      "grid_area": null,
      "grid_auto_columns": null,
      "grid_auto_flow": null,
      "grid_auto_rows": null,
      "grid_column": null,
      "grid_gap": null,
      "grid_row": null,
      "grid_template_areas": null,
      "grid_template_columns": null,
      "grid_template_rows": null,
      "height": null,
      "justify_content": null,
      "justify_items": null,
      "left": null,
      "margin": null,
      "max_height": null,
      "max_width": null,
      "min_height": null,
      "min_width": null,
      "object_fit": null,
      "object_position": null,
      "order": null,
      "overflow": null,
      "overflow_x": null,
      "overflow_y": null,
      "padding": null,
      "right": null,
      "top": null,
      "visibility": null,
      "width": null
     }
    },
    "22c29d5076df483caab616ea1efbd221": {
     "model_module": "@jupyter-widgets/controls",
     "model_module_version": "1.5.0",
     "model_name": "DescriptionStyleModel",
     "state": {
      "_model_module": "@jupyter-widgets/controls",
      "_model_module_version": "1.5.0",
      "_model_name": "DescriptionStyleModel",
      "_view_count": null,
      "_view_module": "@jupyter-widgets/base",
      "_view_module_version": "1.2.0",
      "_view_name": "StyleView",
      "description_width": ""
     }
    },
    "253e200634094509ad5e11a94d92eeb1": {
     "model_module": "@jupyter-widgets/controls",
     "model_module_version": "1.5.0",
     "model_name": "DescriptionStyleModel",
     "state": {
      "_model_module": "@jupyter-widgets/controls",
      "_model_module_version": "1.5.0",
      "_model_name": "DescriptionStyleModel",
      "_view_count": null,
      "_view_module": "@jupyter-widgets/base",
      "_view_module_version": "1.2.0",
      "_view_name": "StyleView",
      "description_width": ""
     }
    },
    "25ca75a72931440d98151a80631bcc2a": {
     "model_module": "@jupyter-widgets/controls",
     "model_module_version": "1.5.0",
     "model_name": "ProgressStyleModel",
     "state": {
      "_model_module": "@jupyter-widgets/controls",
      "_model_module_version": "1.5.0",
      "_model_name": "ProgressStyleModel",
      "_view_count": null,
      "_view_module": "@jupyter-widgets/base",
      "_view_module_version": "1.2.0",
      "_view_name": "StyleView",
      "bar_color": null,
      "description_width": ""
     }
    },
    "28be91b31afd4817aaeff5f79bf29dcc": {
     "model_module": "@jupyter-widgets/controls",
     "model_module_version": "1.5.0",
     "model_name": "HTMLModel",
     "state": {
      "_dom_classes": [],
      "_model_module": "@jupyter-widgets/controls",
      "_model_module_version": "1.5.0",
      "_model_name": "HTMLModel",
      "_view_count": null,
      "_view_module": "@jupyter-widgets/controls",
      "_view_module_version": "1.5.0",
      "_view_name": "HTMLView",
      "description": "",
      "description_tooltip": null,
      "layout": "IPY_MODEL_8b41592c4922462e90499c5d77cabadc",
      "placeholder": "​",
      "style": "IPY_MODEL_cb945f79133b4f0ab0e8a06bdab340e7",
      "value": " 117/117 [00:00&lt;00:00, 13.0kB/s]"
     }
    },
    "2a0846d493bb43cc9c31d99cab00b275": {
     "model_module": "@jupyter-widgets/controls",
     "model_module_version": "1.5.0",
     "model_name": "FloatProgressModel",
     "state": {
      "_dom_classes": [],
      "_model_module": "@jupyter-widgets/controls",
      "_model_module_version": "1.5.0",
      "_model_name": "FloatProgressModel",
      "_view_count": null,
      "_view_module": "@jupyter-widgets/controls",
      "_view_module_version": "1.5.0",
      "_view_name": "ProgressView",
      "bar_style": "success",
      "description": "",
      "description_tooltip": null,
      "layout": "IPY_MODEL_6ceb8ac088eb4224937b71039ed49962",
      "max": 1048,
      "min": 0,
      "orientation": "horizontal",
      "style": "IPY_MODEL_645e707519524051a7f58cdb5a84c760",
      "value": 1048
     }
    },
    "2a509b57b7d54927ae6c3cac0a57de89": {
     "model_module": "@jupyter-widgets/base",
     "model_module_version": "1.2.0",
     "model_name": "LayoutModel",
     "state": {
      "_model_module": "@jupyter-widgets/base",
      "_model_module_version": "1.2.0",
      "_model_name": "LayoutModel",
      "_view_count": null,
      "_view_module": "@jupyter-widgets/base",
      "_view_module_version": "1.2.0",
      "_view_name": "LayoutView",
      "align_content": null,
      "align_items": null,
      "align_self": null,
      "border": null,
      "bottom": null,
      "display": null,
      "flex": null,
      "flex_flow": null,
      "grid_area": null,
      "grid_auto_columns": null,
      "grid_auto_flow": null,
      "grid_auto_rows": null,
      "grid_column": null,
      "grid_gap": null,
      "grid_row": null,
      "grid_template_areas": null,
      "grid_template_columns": null,
      "grid_template_rows": null,
      "height": null,
      "justify_content": null,
      "justify_items": null,
      "left": null,
      "margin": null,
      "max_height": null,
      "max_width": null,
      "min_height": null,
      "min_width": null,
      "object_fit": null,
      "object_position": null,
      "order": null,
      "overflow": null,
      "overflow_x": null,
      "overflow_y": null,
      "padding": null,
      "right": null,
      "top": null,
      "visibility": null,
      "width": null
     }
    },
    "2e823e68a9f44051b7beeadd08e51f08": {
     "model_module": "@jupyter-widgets/base",
     "model_module_version": "1.2.0",
     "model_name": "LayoutModel",
     "state": {
      "_model_module": "@jupyter-widgets/base",
      "_model_module_version": "1.2.0",
      "_model_name": "LayoutModel",
      "_view_count": null,
      "_view_module": "@jupyter-widgets/base",
      "_view_module_version": "1.2.0",
      "_view_name": "LayoutView",
      "align_content": null,
      "align_items": null,
      "align_self": null,
      "border": null,
      "bottom": null,
      "display": null,
      "flex": null,
      "flex_flow": null,
      "grid_area": null,
      "grid_auto_columns": null,
      "grid_auto_flow": null,
      "grid_auto_rows": null,
      "grid_column": null,
      "grid_gap": null,
      "grid_row": null,
      "grid_template_areas": null,
      "grid_template_columns": null,
      "grid_template_rows": null,
      "height": null,
      "justify_content": null,
      "justify_items": null,
      "left": null,
      "margin": null,
      "max_height": null,
      "max_width": null,
      "min_height": null,
      "min_width": null,
      "object_fit": null,
      "object_position": null,
      "order": null,
      "overflow": null,
      "overflow_x": null,
      "overflow_y": null,
      "padding": null,
      "right": null,
      "top": null,
      "visibility": null,
      "width": null
     }
    },
    "308b97382ddd43108066a1cd496a7748": {
     "model_module": "@jupyter-widgets/controls",
     "model_module_version": "1.5.0",
     "model_name": "FloatProgressModel",
     "state": {
      "_dom_classes": [],
      "_model_module": "@jupyter-widgets/controls",
      "_model_module_version": "1.5.0",
      "_model_name": "FloatProgressModel",
      "_view_count": null,
      "_view_module": "@jupyter-widgets/controls",
      "_view_module_version": "1.5.0",
      "_view_name": "ProgressView",
      "bar_style": "success",
      "description": "",
      "description_tooltip": null,
      "layout": "IPY_MODEL_340ac68e112341b5b83918a586926b54",
      "max": 2734130,
      "min": 0,
      "orientation": "horizontal",
      "style": "IPY_MODEL_c3e66e60becf4da5b834ac4d1a0420ca",
      "value": 2734130
     }
    },
    "310d4528bf164d7097aed61c40c659f8": {
     "model_module": "@jupyter-widgets/controls",
     "model_module_version": "1.5.0",
     "model_name": "FloatProgressModel",
     "state": {
      "_dom_classes": [],
      "_model_module": "@jupyter-widgets/controls",
      "_model_module_version": "1.5.0",
      "_model_name": "FloatProgressModel",
      "_view_count": null,
      "_view_module": "@jupyter-widgets/controls",
      "_view_module_version": "1.5.0",
      "_view_name": "ProgressView",
      "bar_style": "success",
      "description": "",
      "description_tooltip": null,
      "layout": "IPY_MODEL_1c8f9ac59104416dafbc3b21b0cfc97d",
      "max": 117,
      "min": 0,
      "orientation": "horizontal",
      "style": "IPY_MODEL_b896a9b1b2974adc971ca3f763da578f",
      "value": 117
     }
    },
    "336906cb5065480a9e04acdefdf013ce": {
     "model_module": "@jupyter-widgets/base",
     "model_module_version": "1.2.0",
     "model_name": "LayoutModel",
     "state": {
      "_model_module": "@jupyter-widgets/base",
      "_model_module_version": "1.2.0",
      "_model_name": "LayoutModel",
      "_view_count": null,
      "_view_module": "@jupyter-widgets/base",
      "_view_module_version": "1.2.0",
      "_view_name": "LayoutView",
      "align_content": null,
      "align_items": null,
      "align_self": null,
      "border": null,
      "bottom": null,
      "display": null,
      "flex": null,
      "flex_flow": null,
      "grid_area": null,
      "grid_auto_columns": null,
      "grid_auto_flow": null,
      "grid_auto_rows": null,
      "grid_column": null,
      "grid_gap": null,
      "grid_row": null,
      "grid_template_areas": null,
      "grid_template_columns": null,
      "grid_template_rows": null,
      "height": null,
      "justify_content": null,
      "justify_items": null,
      "left": null,
      "margin": null,
      "max_height": null,
      "max_width": null,
      "min_height": null,
      "min_width": null,
      "object_fit": null,
      "object_position": null,
      "order": null,
      "overflow": null,
      "overflow_x": null,
      "overflow_y": null,
      "padding": null,
      "right": null,
      "top": null,
      "visibility": null,
      "width": null
     }
    },
    "340ac68e112341b5b83918a586926b54": {
     "model_module": "@jupyter-widgets/base",
     "model_module_version": "1.2.0",
     "model_name": "LayoutModel",
     "state": {
      "_model_module": "@jupyter-widgets/base",
      "_model_module_version": "1.2.0",
      "_model_name": "LayoutModel",
      "_view_count": null,
      "_view_module": "@jupyter-widgets/base",
      "_view_module_version": "1.2.0",
      "_view_name": "LayoutView",
      "align_content": null,
      "align_items": null,
      "align_self": null,
      "border": null,
      "bottom": null,
      "display": null,
      "flex": null,
      "flex_flow": null,
      "grid_area": null,
      "grid_auto_columns": null,
      "grid_auto_flow": null,
      "grid_auto_rows": null,
      "grid_column": null,
      "grid_gap": null,
      "grid_row": null,
      "grid_template_areas": null,
      "grid_template_columns": null,
      "grid_template_rows": null,
      "height": null,
      "justify_content": null,
      "justify_items": null,
      "left": null,
      "margin": null,
      "max_height": null,
      "max_width": null,
      "min_height": null,
      "min_width": null,
      "object_fit": null,
      "object_position": null,
      "order": null,
      "overflow": null,
      "overflow_x": null,
      "overflow_y": null,
      "padding": null,
      "right": null,
      "top": null,
      "visibility": null,
      "width": null
     }
    },
    "35becdf915e440eb829e8a4ff5a715c9": {
     "model_module": "@jupyter-widgets/base",
     "model_module_version": "1.2.0",
     "model_name": "LayoutModel",
     "state": {
      "_model_module": "@jupyter-widgets/base",
      "_model_module_version": "1.2.0",
      "_model_name": "LayoutModel",
      "_view_count": null,
      "_view_module": "@jupyter-widgets/base",
      "_view_module_version": "1.2.0",
      "_view_name": "LayoutView",
      "align_content": null,
      "align_items": null,
      "align_self": null,
      "border": null,
      "bottom": null,
      "display": null,
      "flex": null,
      "flex_flow": null,
      "grid_area": null,
      "grid_auto_columns": null,
      "grid_auto_flow": null,
      "grid_auto_rows": null,
      "grid_column": null,
      "grid_gap": null,
      "grid_row": null,
      "grid_template_areas": null,
      "grid_template_columns": null,
      "grid_template_rows": null,
      "height": null,
      "justify_content": null,
      "justify_items": null,
      "left": null,
      "margin": null,
      "max_height": null,
      "max_width": null,
      "min_height": null,
      "min_width": null,
      "object_fit": null,
      "object_position": null,
      "order": null,
      "overflow": null,
      "overflow_x": null,
      "overflow_y": null,
      "padding": null,
      "right": null,
      "top": null,
      "visibility": null,
      "width": null
     }
    },
    "378e31b39f874edbb57af88fcaff564c": {
     "model_module": "@jupyter-widgets/controls",
     "model_module_version": "1.5.0",
     "model_name": "DescriptionStyleModel",
     "state": {
      "_model_module": "@jupyter-widgets/controls",
      "_model_module_version": "1.5.0",
      "_model_name": "DescriptionStyleModel",
      "_view_count": null,
      "_view_module": "@jupyter-widgets/base",
      "_view_module_version": "1.2.0",
      "_view_name": "StyleView",
      "description_width": ""
     }
    },
    "39a97e61ec6c4e7c8d657cd6a5adfd44": {
     "model_module": "@jupyter-widgets/base",
     "model_module_version": "1.2.0",
     "model_name": "LayoutModel",
     "state": {
      "_model_module": "@jupyter-widgets/base",
      "_model_module_version": "1.2.0",
      "_model_name": "LayoutModel",
      "_view_count": null,
      "_view_module": "@jupyter-widgets/base",
      "_view_module_version": "1.2.0",
      "_view_name": "LayoutView",
      "align_content": null,
      "align_items": null,
      "align_self": null,
      "border": null,
      "bottom": null,
      "display": null,
      "flex": null,
      "flex_flow": null,
      "grid_area": null,
      "grid_auto_columns": null,
      "grid_auto_flow": null,
      "grid_auto_rows": null,
      "grid_column": null,
      "grid_gap": null,
      "grid_row": null,
      "grid_template_areas": null,
      "grid_template_columns": null,
      "grid_template_rows": null,
      "height": null,
      "justify_content": null,
      "justify_items": null,
      "left": null,
      "margin": null,
      "max_height": null,
      "max_width": null,
      "min_height": null,
      "min_width": null,
      "object_fit": null,
      "object_position": null,
      "order": null,
      "overflow": null,
      "overflow_x": null,
      "overflow_y": null,
      "padding": null,
      "right": null,
      "top": null,
      "visibility": null,
      "width": null
     }
    },
    "3ae1027ae9f145de94a6c256c53a2e15": {
     "model_module": "@jupyter-widgets/controls",
     "model_module_version": "1.5.0",
     "model_name": "DescriptionStyleModel",
     "state": {
      "_model_module": "@jupyter-widgets/controls",
      "_model_module_version": "1.5.0",
      "_model_name": "DescriptionStyleModel",
      "_view_count": null,
      "_view_module": "@jupyter-widgets/base",
      "_view_module_version": "1.2.0",
      "_view_name": "StyleView",
      "description_width": ""
     }
    },
    "3ca301540cc3466f9f1b1e4bbeb0b1cf": {
     "model_module": "@jupyter-widgets/base",
     "model_module_version": "1.2.0",
     "model_name": "LayoutModel",
     "state": {
      "_model_module": "@jupyter-widgets/base",
      "_model_module_version": "1.2.0",
      "_model_name": "LayoutModel",
      "_view_count": null,
      "_view_module": "@jupyter-widgets/base",
      "_view_module_version": "1.2.0",
      "_view_name": "LayoutView",
      "align_content": null,
      "align_items": null,
      "align_self": null,
      "border": null,
      "bottom": null,
      "display": null,
      "flex": null,
      "flex_flow": null,
      "grid_area": null,
      "grid_auto_columns": null,
      "grid_auto_flow": null,
      "grid_auto_rows": null,
      "grid_column": null,
      "grid_gap": null,
      "grid_row": null,
      "grid_template_areas": null,
      "grid_template_columns": null,
      "grid_template_rows": null,
      "height": null,
      "justify_content": null,
      "justify_items": null,
      "left": null,
      "margin": null,
      "max_height": null,
      "max_width": null,
      "min_height": null,
      "min_width": null,
      "object_fit": null,
      "object_position": null,
      "order": null,
      "overflow": null,
      "overflow_x": null,
      "overflow_y": null,
      "padding": null,
      "right": null,
      "top": null,
      "visibility": null,
      "width": null
     }
    },
    "3d3af0da3010431a9670ebe5f2724001": {
     "model_module": "@jupyter-widgets/controls",
     "model_module_version": "1.5.0",
     "model_name": "DescriptionStyleModel",
     "state": {
      "_model_module": "@jupyter-widgets/controls",
      "_model_module_version": "1.5.0",
      "_model_name": "DescriptionStyleModel",
      "_view_count": null,
      "_view_module": "@jupyter-widgets/base",
      "_view_module_version": "1.2.0",
      "_view_name": "StyleView",
      "description_width": ""
     }
    },
    "3e2675791f334e4880636739900f3d17": {
     "model_module": "@jupyter-widgets/base",
     "model_module_version": "1.2.0",
     "model_name": "LayoutModel",
     "state": {
      "_model_module": "@jupyter-widgets/base",
      "_model_module_version": "1.2.0",
      "_model_name": "LayoutModel",
      "_view_count": null,
      "_view_module": "@jupyter-widgets/base",
      "_view_module_version": "1.2.0",
      "_view_name": "LayoutView",
      "align_content": null,
      "align_items": null,
      "align_self": null,
      "border": null,
      "bottom": null,
      "display": null,
      "flex": null,
      "flex_flow": null,
      "grid_area": null,
      "grid_auto_columns": null,
      "grid_auto_flow": null,
      "grid_auto_rows": null,
      "grid_column": null,
      "grid_gap": null,
      "grid_row": null,
      "grid_template_areas": null,
      "grid_template_columns": null,
      "grid_template_rows": null,
      "height": null,
      "justify_content": null,
      "justify_items": null,
      "left": null,
      "margin": null,
      "max_height": null,
      "max_width": null,
      "min_height": null,
      "min_width": null,
      "object_fit": null,
      "object_position": null,
      "order": null,
      "overflow": null,
      "overflow_x": null,
      "overflow_y": null,
      "padding": null,
      "right": null,
      "top": null,
      "visibility": null,
      "width": null
     }
    },
    "3fa90f0ddf4b4d079d93b5517a2f2326": {
     "model_module": "@jupyter-widgets/controls",
     "model_module_version": "1.5.0",
     "model_name": "DescriptionStyleModel",
     "state": {
      "_model_module": "@jupyter-widgets/controls",
      "_model_module_version": "1.5.0",
      "_model_name": "DescriptionStyleModel",
      "_view_count": null,
      "_view_module": "@jupyter-widgets/base",
      "_view_module_version": "1.2.0",
      "_view_name": "StyleView",
      "description_width": ""
     }
    },
    "3ffa982c82c04c2c9e1362b61c1d5dbe": {
     "model_module": "@jupyter-widgets/controls",
     "model_module_version": "1.5.0",
     "model_name": "ProgressStyleModel",
     "state": {
      "_model_module": "@jupyter-widgets/controls",
      "_model_module_version": "1.5.0",
      "_model_name": "ProgressStyleModel",
      "_view_count": null,
      "_view_module": "@jupyter-widgets/base",
      "_view_module_version": "1.2.0",
      "_view_name": "StyleView",
      "bar_color": null,
      "description_width": ""
     }
    },
    "40440143bb774391b5a5772297e78a7f": {
     "model_module": "@jupyter-widgets/controls",
     "model_module_version": "1.5.0",
     "model_name": "HBoxModel",
     "state": {
      "_dom_classes": [],
      "_model_module": "@jupyter-widgets/controls",
      "_model_module_version": "1.5.0",
      "_model_name": "HBoxModel",
      "_view_count": null,
      "_view_module": "@jupyter-widgets/controls",
      "_view_module_version": "1.5.0",
      "_view_name": "HBoxView",
      "box_style": "",
      "children": [
       "IPY_MODEL_493061a466df47c6971e77d8b34934c0",
       "IPY_MODEL_d00e3dd7c66a4968998de229f864b06f",
       "IPY_MODEL_717fe4269a174051a1790cc883e516f5"
      ],
      "layout": "IPY_MODEL_43c02f955a7d4f21907b6a26b9b62420"
     }
    },
    "43706358d1824702ba5da6b7cb782227": {
     "model_module": "@jupyter-widgets/base",
     "model_module_version": "1.2.0",
     "model_name": "LayoutModel",
     "state": {
      "_model_module": "@jupyter-widgets/base",
      "_model_module_version": "1.2.0",
      "_model_name": "LayoutModel",
      "_view_count": null,
      "_view_module": "@jupyter-widgets/base",
      "_view_module_version": "1.2.0",
      "_view_name": "LayoutView",
      "align_content": null,
      "align_items": null,
      "align_self": null,
      "border": null,
      "bottom": null,
      "display": null,
      "flex": null,
      "flex_flow": null,
      "grid_area": null,
      "grid_auto_columns": null,
      "grid_auto_flow": null,
      "grid_auto_rows": null,
      "grid_column": null,
      "grid_gap": null,
      "grid_row": null,
      "grid_template_areas": null,
      "grid_template_columns": null,
      "grid_template_rows": null,
      "height": null,
      "justify_content": null,
      "justify_items": null,
      "left": null,
      "margin": null,
      "max_height": null,
      "max_width": null,
      "min_height": null,
      "min_width": null,
      "object_fit": null,
      "object_position": null,
      "order": null,
      "overflow": null,
      "overflow_x": null,
      "overflow_y": null,
      "padding": null,
      "right": null,
      "top": null,
      "visibility": null,
      "width": null
     }
    },
    "43c02f955a7d4f21907b6a26b9b62420": {
     "model_module": "@jupyter-widgets/base",
     "model_module_version": "1.2.0",
     "model_name": "LayoutModel",
     "state": {
      "_model_module": "@jupyter-widgets/base",
      "_model_module_version": "1.2.0",
      "_model_name": "LayoutModel",
      "_view_count": null,
      "_view_module": "@jupyter-widgets/base",
      "_view_module_version": "1.2.0",
      "_view_name": "LayoutView",
      "align_content": null,
      "align_items": null,
      "align_self": null,
      "border": null,
      "bottom": null,
      "display": null,
      "flex": null,
      "flex_flow": null,
      "grid_area": null,
      "grid_auto_columns": null,
      "grid_auto_flow": null,
      "grid_auto_rows": null,
      "grid_column": null,
      "grid_gap": null,
      "grid_row": null,
      "grid_template_areas": null,
      "grid_template_columns": null,
      "grid_template_rows": null,
      "height": null,
      "justify_content": null,
      "justify_items": null,
      "left": null,
      "margin": null,
      "max_height": null,
      "max_width": null,
      "min_height": null,
      "min_width": null,
      "object_fit": null,
      "object_position": null,
      "order": null,
      "overflow": null,
      "overflow_x": null,
      "overflow_y": null,
      "padding": null,
      "right": null,
      "top": null,
      "visibility": null,
      "width": null
     }
    },
    "4569a0097c9f4863b85cbf057673631b": {
     "model_module": "@jupyter-widgets/controls",
     "model_module_version": "1.5.0",
     "model_name": "ProgressStyleModel",
     "state": {
      "_model_module": "@jupyter-widgets/controls",
      "_model_module_version": "1.5.0",
      "_model_name": "ProgressStyleModel",
      "_view_count": null,
      "_view_module": "@jupyter-widgets/base",
      "_view_module_version": "1.2.0",
      "_view_name": "StyleView",
      "bar_color": null,
      "description_width": ""
     }
    },
    "467b081022a54bacac54b58753232f04": {
     "model_module": "@jupyter-widgets/controls",
     "model_module_version": "1.5.0",
     "model_name": "HTMLModel",
     "state": {
      "_dom_classes": [],
      "_model_module": "@jupyter-widgets/controls",
      "_model_module_version": "1.5.0",
      "_model_name": "HTMLModel",
      "_view_count": null,
      "_view_module": "@jupyter-widgets/controls",
      "_view_module_version": "1.5.0",
      "_view_name": "HTMLView",
      "description": "",
      "description_tooltip": null,
      "layout": "IPY_MODEL_7de2b1cb391142d89603818e03a5fe36",
      "placeholder": "​",
      "style": "IPY_MODEL_62378cfbdb5c47eb842a219e2f757c06",
      "value": "tokenizer.json: 100%"
     }
    },
    "482cd2adb34f4936a346bc2db6be448c": {
     "model_module": "@jupyter-widgets/base",
     "model_module_version": "1.2.0",
     "model_name": "LayoutModel",
     "state": {
      "_model_module": "@jupyter-widgets/base",
      "_model_module_version": "1.2.0",
      "_model_name": "LayoutModel",
      "_view_count": null,
      "_view_module": "@jupyter-widgets/base",
      "_view_module_version": "1.2.0",
      "_view_name": "LayoutView",
      "align_content": null,
      "align_items": null,
      "align_self": null,
      "border": null,
      "bottom": null,
      "display": null,
      "flex": null,
      "flex_flow": null,
      "grid_area": null,
      "grid_auto_columns": null,
      "grid_auto_flow": null,
      "grid_auto_rows": null,
      "grid_column": null,
      "grid_gap": null,
      "grid_row": null,
      "grid_template_areas": null,
      "grid_template_columns": null,
      "grid_template_rows": null,
      "height": null,
      "justify_content": null,
      "justify_items": null,
      "left": null,
      "margin": null,
      "max_height": null,
      "max_width": null,
      "min_height": null,
      "min_width": null,
      "object_fit": null,
      "object_position": null,
      "order": null,
      "overflow": null,
      "overflow_x": null,
      "overflow_y": null,
      "padding": null,
      "right": null,
      "top": null,
      "visibility": null,
      "width": null
     }
    },
    "484b008a21e74c9d939b27a0bb5e81ea": {
     "model_module": "@jupyter-widgets/controls",
     "model_module_version": "1.5.0",
     "model_name": "HTMLModel",
     "state": {
      "_dom_classes": [],
      "_model_module": "@jupyter-widgets/controls",
      "_model_module_version": "1.5.0",
      "_model_name": "HTMLModel",
      "_view_count": null,
      "_view_module": "@jupyter-widgets/controls",
      "_view_module_version": "1.5.0",
      "_view_name": "HTMLView",
      "description": "",
      "description_tooltip": null,
      "layout": "IPY_MODEL_39a97e61ec6c4e7c8d657cd6a5adfd44",
      "placeholder": "​",
      "style": "IPY_MODEL_b6f0ac39d04642068d457785c4e16a60",
      "value": "Loading checkpoint shards: 100%"
     }
    },
    "49302abc3ede46bebcfd8d7756d8bf7e": {
     "model_module": "@jupyter-widgets/controls",
     "model_module_version": "1.5.0",
     "model_name": "DescriptionStyleModel",
     "state": {
      "_model_module": "@jupyter-widgets/controls",
      "_model_module_version": "1.5.0",
      "_model_name": "DescriptionStyleModel",
      "_view_count": null,
      "_view_module": "@jupyter-widgets/base",
      "_view_module_version": "1.2.0",
      "_view_name": "StyleView",
      "description_width": ""
     }
    },
    "493061a466df47c6971e77d8b34934c0": {
     "model_module": "@jupyter-widgets/controls",
     "model_module_version": "1.5.0",
     "model_name": "HTMLModel",
     "state": {
      "_dom_classes": [],
      "_model_module": "@jupyter-widgets/controls",
      "_model_module_version": "1.5.0",
      "_model_name": "HTMLModel",
      "_view_count": null,
      "_view_module": "@jupyter-widgets/controls",
      "_view_module_version": "1.5.0",
      "_view_name": "HTMLView",
      "description": "",
      "description_tooltip": null,
      "layout": "IPY_MODEL_86df0b884f8a4d668a72cf11036eb685",
      "placeholder": "​",
      "style": "IPY_MODEL_c167ab3c7ee5442ca6673f1b4555a140",
      "value": "tokenizer_config.json: 100%"
     }
    },
    "4eda296b347546b28f09083acc3df08e": {
     "model_module": "@jupyter-widgets/controls",
     "model_module_version": "1.5.0",
     "model_name": "HBoxModel",
     "state": {
      "_dom_classes": [],
      "_model_module": "@jupyter-widgets/controls",
      "_model_module_version": "1.5.0",
      "_model_name": "HBoxModel",
      "_view_count": null,
      "_view_module": "@jupyter-widgets/controls",
      "_view_module_version": "1.5.0",
      "_view_name": "HBoxView",
      "box_style": "",
      "children": [
       "IPY_MODEL_ef45294d018f43f8ad62c3ba85f0f4b9",
       "IPY_MODEL_aed50153282c4de8b70693d7fd34431d",
       "IPY_MODEL_0411b328d0834350846f98b12674a6ec"
      ],
      "layout": "IPY_MODEL_e5dff6d02b1f468b87cdc251a270ed01"
     }
    },
    "532c9f5fc9484e7580322c4773dd232e": {
     "model_module": "@jupyter-widgets/base",
     "model_module_version": "1.2.0",
     "model_name": "LayoutModel",
     "state": {
      "_model_module": "@jupyter-widgets/base",
      "_model_module_version": "1.2.0",
      "_model_name": "LayoutModel",
      "_view_count": null,
      "_view_module": "@jupyter-widgets/base",
      "_view_module_version": "1.2.0",
      "_view_name": "LayoutView",
      "align_content": null,
      "align_items": null,
      "align_self": null,
      "border": null,
      "bottom": null,
      "display": null,
      "flex": null,
      "flex_flow": null,
      "grid_area": null,
      "grid_auto_columns": null,
      "grid_auto_flow": null,
      "grid_auto_rows": null,
      "grid_column": null,
      "grid_gap": null,
      "grid_row": null,
      "grid_template_areas": null,
      "grid_template_columns": null,
      "grid_template_rows": null,
      "height": null,
      "justify_content": null,
      "justify_items": null,
      "left": null,
      "margin": null,
      "max_height": null,
      "max_width": null,
      "min_height": null,
      "min_width": null,
      "object_fit": null,
      "object_position": null,
      "order": null,
      "overflow": null,
      "overflow_x": null,
      "overflow_y": null,
      "padding": null,
      "right": null,
      "top": null,
      "visibility": null,
      "width": null
     }
    },
    "560c48178df14abd92e8a06918b825cf": {
     "model_module": "@jupyter-widgets/base",
     "model_module_version": "1.2.0",
     "model_name": "LayoutModel",
     "state": {
      "_model_module": "@jupyter-widgets/base",
      "_model_module_version": "1.2.0",
      "_model_name": "LayoutModel",
      "_view_count": null,
      "_view_module": "@jupyter-widgets/base",
      "_view_module_version": "1.2.0",
      "_view_name": "LayoutView",
      "align_content": null,
      "align_items": null,
      "align_self": null,
      "border": null,
      "bottom": null,
      "display": null,
      "flex": null,
      "flex_flow": null,
      "grid_area": null,
      "grid_auto_columns": null,
      "grid_auto_flow": null,
      "grid_auto_rows": null,
      "grid_column": null,
      "grid_gap": null,
      "grid_row": null,
      "grid_template_areas": null,
      "grid_template_columns": null,
      "grid_template_rows": null,
      "height": null,
      "justify_content": null,
      "justify_items": null,
      "left": null,
      "margin": null,
      "max_height": null,
      "max_width": null,
      "min_height": null,
      "min_width": null,
      "object_fit": null,
      "object_position": null,
      "order": null,
      "overflow": null,
      "overflow_x": null,
      "overflow_y": null,
      "padding": null,
      "right": null,
      "top": null,
      "visibility": null,
      "width": null
     }
    },
    "5a0e412b547f48509177404e6f72a4c9": {
     "model_module": "@jupyter-widgets/controls",
     "model_module_version": "1.5.0",
     "model_name": "DescriptionStyleModel",
     "state": {
      "_model_module": "@jupyter-widgets/controls",
      "_model_module_version": "1.5.0",
      "_model_name": "DescriptionStyleModel",
      "_view_count": null,
      "_view_module": "@jupyter-widgets/base",
      "_view_module_version": "1.2.0",
      "_view_name": "StyleView",
      "description_width": ""
     }
    },
    "5c09c1cda0ad492881a056ee53d5faae": {
     "model_module": "@jupyter-widgets/controls",
     "model_module_version": "1.5.0",
     "model_name": "DescriptionStyleModel",
     "state": {
      "_model_module": "@jupyter-widgets/controls",
      "_model_module_version": "1.5.0",
      "_model_name": "DescriptionStyleModel",
      "_view_count": null,
      "_view_module": "@jupyter-widgets/base",
      "_view_module_version": "1.2.0",
      "_view_name": "StyleView",
      "description_width": ""
     }
    },
    "5da80afbe4284c9cbae0d39bbfe39732": {
     "model_module": "@jupyter-widgets/controls",
     "model_module_version": "1.5.0",
     "model_name": "HTMLModel",
     "state": {
      "_dom_classes": [],
      "_model_module": "@jupyter-widgets/controls",
      "_model_module_version": "1.5.0",
      "_model_name": "HTMLModel",
      "_view_count": null,
      "_view_module": "@jupyter-widgets/controls",
      "_view_module_version": "1.5.0",
      "_view_name": "HTMLView",
      "description": "",
      "description_tooltip": null,
      "layout": "IPY_MODEL_532c9f5fc9484e7580322c4773dd232e",
      "placeholder": "​",
      "style": "IPY_MODEL_378e31b39f874edbb57af88fcaff564c",
      "value": " 1.05k/1.05k [00:00&lt;00:00, 113kB/s]"
     }
    },
    "60d78945e3a34f3b90d48768a2499bce": {
     "model_module": "@jupyter-widgets/controls",
     "model_module_version": "1.5.0",
     "model_name": "DescriptionStyleModel",
     "state": {
      "_model_module": "@jupyter-widgets/controls",
      "_model_module_version": "1.5.0",
      "_model_name": "DescriptionStyleModel",
      "_view_count": null,
      "_view_module": "@jupyter-widgets/base",
      "_view_module_version": "1.2.0",
      "_view_name": "StyleView",
      "description_width": ""
     }
    },
    "62378cfbdb5c47eb842a219e2f757c06": {
     "model_module": "@jupyter-widgets/controls",
     "model_module_version": "1.5.0",
     "model_name": "DescriptionStyleModel",
     "state": {
      "_model_module": "@jupyter-widgets/controls",
      "_model_module_version": "1.5.0",
      "_model_name": "DescriptionStyleModel",
      "_view_count": null,
      "_view_module": "@jupyter-widgets/base",
      "_view_module_version": "1.2.0",
      "_view_name": "StyleView",
      "description_width": ""
     }
    },
    "63095dda661b41bdb66eeb6c34e274a6": {
     "model_module": "@jupyter-widgets/controls",
     "model_module_version": "1.5.0",
     "model_name": "HBoxModel",
     "state": {
      "_dom_classes": [],
      "_model_module": "@jupyter-widgets/controls",
      "_model_module_version": "1.5.0",
      "_model_name": "HBoxModel",
      "_view_count": null,
      "_view_module": "@jupyter-widgets/controls",
      "_view_module_version": "1.5.0",
      "_view_name": "HBoxView",
      "box_style": "",
      "children": [
       "IPY_MODEL_484b008a21e74c9d939b27a0bb5e81ea",
       "IPY_MODEL_196c6c74bec9464ea35a762d6a09a54d",
       "IPY_MODEL_fbcb703c21d84c0baee86f7829b5779d"
      ],
      "layout": "IPY_MODEL_3ca301540cc3466f9f1b1e4bbeb0b1cf"
     }
    },
    "645e707519524051a7f58cdb5a84c760": {
     "model_module": "@jupyter-widgets/controls",
     "model_module_version": "1.5.0",
     "model_name": "ProgressStyleModel",
     "state": {
      "_model_module": "@jupyter-widgets/controls",
      "_model_module_version": "1.5.0",
      "_model_name": "ProgressStyleModel",
      "_view_count": null,
      "_view_module": "@jupyter-widgets/base",
      "_view_module_version": "1.2.0",
      "_view_name": "StyleView",
      "bar_color": null,
      "description_width": ""
     }
    },
    "66654ec57a9442d09eb612df769dc8a1": {
     "model_module": "@jupyter-widgets/controls",
     "model_module_version": "1.5.0",
     "model_name": "DescriptionStyleModel",
     "state": {
      "_model_module": "@jupyter-widgets/controls",
      "_model_module_version": "1.5.0",
      "_model_name": "DescriptionStyleModel",
      "_view_count": null,
      "_view_module": "@jupyter-widgets/base",
      "_view_module_version": "1.2.0",
      "_view_name": "StyleView",
      "description_width": ""
     }
    },
    "694733cf398e433684e7acfb354fefb7": {
     "model_module": "@jupyter-widgets/base",
     "model_module_version": "1.2.0",
     "model_name": "LayoutModel",
     "state": {
      "_model_module": "@jupyter-widgets/base",
      "_model_module_version": "1.2.0",
      "_model_name": "LayoutModel",
      "_view_count": null,
      "_view_module": "@jupyter-widgets/base",
      "_view_module_version": "1.2.0",
      "_view_name": "LayoutView",
      "align_content": null,
      "align_items": null,
      "align_self": null,
      "border": null,
      "bottom": null,
      "display": null,
      "flex": null,
      "flex_flow": null,
      "grid_area": null,
      "grid_auto_columns": null,
      "grid_auto_flow": null,
      "grid_auto_rows": null,
      "grid_column": null,
      "grid_gap": null,
      "grid_row": null,
      "grid_template_areas": null,
      "grid_template_columns": null,
      "grid_template_rows": null,
      "height": null,
      "justify_content": null,
      "justify_items": null,
      "left": null,
      "margin": null,
      "max_height": null,
      "max_width": null,
      "min_height": null,
      "min_width": null,
      "object_fit": null,
      "object_position": null,
      "order": null,
      "overflow": null,
      "overflow_x": null,
      "overflow_y": null,
      "padding": null,
      "right": null,
      "top": null,
      "visibility": null,
      "width": null
     }
    },
    "6b9a0bd1df164f209a0f8ef3023acf13": {
     "model_module": "@jupyter-widgets/controls",
     "model_module_version": "1.5.0",
     "model_name": "HBoxModel",
     "state": {
      "_dom_classes": [],
      "_model_module": "@jupyter-widgets/controls",
      "_model_module_version": "1.5.0",
      "_model_name": "HBoxModel",
      "_view_count": null,
      "_view_module": "@jupyter-widgets/controls",
      "_view_module_version": "1.5.0",
      "_view_name": "HBoxView",
      "box_style": "",
      "children": [
       "IPY_MODEL_467b081022a54bacac54b58753232f04",
       "IPY_MODEL_308b97382ddd43108066a1cd496a7748",
       "IPY_MODEL_e70ee34439064e1aa990b813cf807a72"
      ],
      "layout": "IPY_MODEL_a355ead8770441c5b8124ac5d7e35002"
     }
    },
    "6ceb8ac088eb4224937b71039ed49962": {
     "model_module": "@jupyter-widgets/base",
     "model_module_version": "1.2.0",
     "model_name": "LayoutModel",
     "state": {
      "_model_module": "@jupyter-widgets/base",
      "_model_module_version": "1.2.0",
      "_model_name": "LayoutModel",
      "_view_count": null,
      "_view_module": "@jupyter-widgets/base",
      "_view_module_version": "1.2.0",
      "_view_name": "LayoutView",
      "align_content": null,
      "align_items": null,
      "align_self": null,
      "border": null,
      "bottom": null,
      "display": null,
      "flex": null,
      "flex_flow": null,
      "grid_area": null,
      "grid_auto_columns": null,
      "grid_auto_flow": null,
      "grid_auto_rows": null,
      "grid_column": null,
      "grid_gap": null,
      "grid_row": null,
      "grid_template_areas": null,
      "grid_template_columns": null,
      "grid_template_rows": null,
      "height": null,
      "justify_content": null,
      "justify_items": null,
      "left": null,
      "margin": null,
      "max_height": null,
      "max_width": null,
      "min_height": null,
      "min_width": null,
      "object_fit": null,
      "object_position": null,
      "order": null,
      "overflow": null,
      "overflow_x": null,
      "overflow_y": null,
      "padding": null,
      "right": null,
      "top": null,
      "visibility": null,
      "width": null
     }
    },
    "717fe4269a174051a1790cc883e516f5": {
     "model_module": "@jupyter-widgets/controls",
     "model_module_version": "1.5.0",
     "model_name": "HTMLModel",
     "state": {
      "_dom_classes": [],
      "_model_module": "@jupyter-widgets/controls",
      "_model_module_version": "1.5.0",
      "_model_name": "HTMLModel",
      "_view_count": null,
      "_view_module": "@jupyter-widgets/controls",
      "_view_module_version": "1.5.0",
      "_view_name": "HTMLView",
      "description": "",
      "description_tooltip": null,
      "layout": "IPY_MODEL_21c77a17124c4d25bf7c03e8cef20a7d",
      "placeholder": "​",
      "style": "IPY_MODEL_e808f5f525ff41dba524b194644faa8e",
      "value": " 1.13k/1.13k [00:00&lt;00:00, 116kB/s]"
     }
    },
    "718193cddeab42f1946e99e20a151084": {
     "model_module": "@jupyter-widgets/controls",
     "model_module_version": "1.5.0",
     "model_name": "FloatProgressModel",
     "state": {
      "_dom_classes": [],
      "_model_module": "@jupyter-widgets/controls",
      "_model_module_version": "1.5.0",
      "_model_name": "FloatProgressModel",
      "_view_count": null,
      "_view_module": "@jupyter-widgets/controls",
      "_view_module_version": "1.5.0",
      "_view_name": "ProgressView",
      "bar_style": "success",
      "description": "",
      "description_tooltip": null,
      "layout": "IPY_MODEL_43706358d1824702ba5da6b7cb782227",
      "max": 9950994832,
      "min": 0,
      "orientation": "horizontal",
      "style": "IPY_MODEL_107c21f61912430e9d06e47f7a6d8ce9",
      "value": 9950994832
     }
    },
    "77280a1e2815492aa93bbc36ad875b8c": {
     "model_module": "@jupyter-widgets/base",
     "model_module_version": "1.2.0",
     "model_name": "LayoutModel",
     "state": {
      "_model_module": "@jupyter-widgets/base",
      "_model_module_version": "1.2.0",
      "_model_name": "LayoutModel",
      "_view_count": null,
      "_view_module": "@jupyter-widgets/base",
      "_view_module_version": "1.2.0",
      "_view_name": "LayoutView",
      "align_content": null,
      "align_items": null,
      "align_self": null,
      "border": null,
      "bottom": null,
      "display": null,
      "flex": null,
      "flex_flow": null,
      "grid_area": null,
      "grid_auto_columns": null,
      "grid_auto_flow": null,
      "grid_auto_rows": null,
      "grid_column": null,
      "grid_gap": null,
      "grid_row": null,
      "grid_template_areas": null,
      "grid_template_columns": null,
      "grid_template_rows": null,
      "height": null,
      "justify_content": null,
      "justify_items": null,
      "left": null,
      "margin": null,
      "max_height": null,
      "max_width": null,
      "min_height": null,
      "min_width": null,
      "object_fit": null,
      "object_position": null,
      "order": null,
      "overflow": null,
      "overflow_x": null,
      "overflow_y": null,
      "padding": null,
      "right": null,
      "top": null,
      "visibility": null,
      "width": null
     }
    },
    "7de2b1cb391142d89603818e03a5fe36": {
     "model_module": "@jupyter-widgets/base",
     "model_module_version": "1.2.0",
     "model_name": "LayoutModel",
     "state": {
      "_model_module": "@jupyter-widgets/base",
      "_model_module_version": "1.2.0",
      "_model_name": "LayoutModel",
      "_view_count": null,
      "_view_module": "@jupyter-widgets/base",
      "_view_module_version": "1.2.0",
      "_view_name": "LayoutView",
      "align_content": null,
      "align_items": null,
      "align_self": null,
      "border": null,
      "bottom": null,
      "display": null,
      "flex": null,
      "flex_flow": null,
      "grid_area": null,
      "grid_auto_columns": null,
      "grid_auto_flow": null,
      "grid_auto_rows": null,
      "grid_column": null,
      "grid_gap": null,
      "grid_row": null,
      "grid_template_areas": null,
      "grid_template_columns": null,
      "grid_template_rows": null,
      "height": null,
      "justify_content": null,
      "justify_items": null,
      "left": null,
      "margin": null,
      "max_height": null,
      "max_width": null,
      "min_height": null,
      "min_width": null,
      "object_fit": null,
      "object_position": null,
      "order": null,
      "overflow": null,
      "overflow_x": null,
      "overflow_y": null,
      "padding": null,
      "right": null,
      "top": null,
      "visibility": null,
      "width": null
     }
    },
    "84ffa82cf1b540619ed2da1e0f70b78b": {
     "model_module": "@jupyter-widgets/controls",
     "model_module_version": "1.5.0",
     "model_name": "HTMLModel",
     "state": {
      "_dom_classes": [],
      "_model_module": "@jupyter-widgets/controls",
      "_model_module_version": "1.5.0",
      "_model_name": "HTMLModel",
      "_view_count": null,
      "_view_module": "@jupyter-widgets/controls",
      "_view_module_version": "1.5.0",
      "_view_name": "HTMLView",
      "description": "",
      "description_tooltip": null,
      "layout": "IPY_MODEL_2e823e68a9f44051b7beeadd08e51f08",
      "placeholder": "​",
      "style": "IPY_MODEL_22c29d5076df483caab616ea1efbd221",
      "value": " 4.48G/4.48G [00:36&lt;00:00, 165MB/s]"
     }
    },
    "852ae4457f964ab4a72752c53ae7e1b7": {
     "model_module": "@jupyter-widgets/base",
     "model_module_version": "1.2.0",
     "model_name": "LayoutModel",
     "state": {
      "_model_module": "@jupyter-widgets/base",
      "_model_module_version": "1.2.0",
      "_model_name": "LayoutModel",
      "_view_count": null,
      "_view_module": "@jupyter-widgets/base",
      "_view_module_version": "1.2.0",
      "_view_name": "LayoutView",
      "align_content": null,
      "align_items": null,
      "align_self": null,
      "border": null,
      "bottom": null,
      "display": null,
      "flex": null,
      "flex_flow": null,
      "grid_area": null,
      "grid_auto_columns": null,
      "grid_auto_flow": null,
      "grid_auto_rows": null,
      "grid_column": null,
      "grid_gap": null,
      "grid_row": null,
      "grid_template_areas": null,
      "grid_template_columns": null,
      "grid_template_rows": null,
      "height": null,
      "justify_content": null,
      "justify_items": null,
      "left": null,
      "margin": null,
      "max_height": null,
      "max_width": null,
      "min_height": null,
      "min_width": null,
      "object_fit": null,
      "object_position": null,
      "order": null,
      "overflow": null,
      "overflow_x": null,
      "overflow_y": null,
      "padding": null,
      "right": null,
      "top": null,
      "visibility": null,
      "width": null
     }
    },
    "86df0b884f8a4d668a72cf11036eb685": {
     "model_module": "@jupyter-widgets/base",
     "model_module_version": "1.2.0",
     "model_name": "LayoutModel",
     "state": {
      "_model_module": "@jupyter-widgets/base",
      "_model_module_version": "1.2.0",
      "_model_name": "LayoutModel",
      "_view_count": null,
      "_view_module": "@jupyter-widgets/base",
      "_view_module_version": "1.2.0",
      "_view_name": "LayoutView",
      "align_content": null,
      "align_items": null,
      "align_self": null,
      "border": null,
      "bottom": null,
      "display": null,
      "flex": null,
      "flex_flow": null,
      "grid_area": null,
      "grid_auto_columns": null,
      "grid_auto_flow": null,
      "grid_auto_rows": null,
      "grid_column": null,
      "grid_gap": null,
      "grid_row": null,
      "grid_template_areas": null,
      "grid_template_columns": null,
      "grid_template_rows": null,
      "height": null,
      "justify_content": null,
      "justify_items": null,
      "left": null,
      "margin": null,
      "max_height": null,
      "max_width": null,
      "min_height": null,
      "min_width": null,
      "object_fit": null,
      "object_position": null,
      "order": null,
      "overflow": null,
      "overflow_x": null,
      "overflow_y": null,
      "padding": null,
      "right": null,
      "top": null,
      "visibility": null,
      "width": null
     }
    },
    "8b41592c4922462e90499c5d77cabadc": {
     "model_module": "@jupyter-widgets/base",
     "model_module_version": "1.2.0",
     "model_name": "LayoutModel",
     "state": {
      "_model_module": "@jupyter-widgets/base",
      "_model_module_version": "1.2.0",
      "_model_name": "LayoutModel",
      "_view_count": null,
      "_view_module": "@jupyter-widgets/base",
      "_view_module_version": "1.2.0",
      "_view_name": "LayoutView",
      "align_content": null,
      "align_items": null,
      "align_self": null,
      "border": null,
      "bottom": null,
      "display": null,
      "flex": null,
      "flex_flow": null,
      "grid_area": null,
      "grid_auto_columns": null,
      "grid_auto_flow": null,
      "grid_auto_rows": null,
      "grid_column": null,
      "grid_gap": null,
      "grid_row": null,
      "grid_template_areas": null,
      "grid_template_columns": null,
      "grid_template_rows": null,
      "height": null,
      "justify_content": null,
      "justify_items": null,
      "left": null,
      "margin": null,
      "max_height": null,
      "max_width": null,
      "min_height": null,
      "min_width": null,
      "object_fit": null,
      "object_position": null,
      "order": null,
      "overflow": null,
      "overflow_x": null,
      "overflow_y": null,
      "padding": null,
      "right": null,
      "top": null,
      "visibility": null,
      "width": null
     }
    },
    "8c5dfb640ad44a698fc561a4354135d2": {
     "model_module": "@jupyter-widgets/controls",
     "model_module_version": "1.5.0",
     "model_name": "HTMLModel",
     "state": {
      "_dom_classes": [],
      "_model_module": "@jupyter-widgets/controls",
      "_model_module_version": "1.5.0",
      "_model_name": "HTMLModel",
      "_view_count": null,
      "_view_module": "@jupyter-widgets/controls",
      "_view_module_version": "1.5.0",
      "_view_name": "HTMLView",
      "description": "",
      "description_tooltip": null,
      "layout": "IPY_MODEL_336906cb5065480a9e04acdefdf013ce",
      "placeholder": "​",
      "style": "IPY_MODEL_3ae1027ae9f145de94a6c256c53a2e15",
      "value": "model-00002-of-00002.safetensors: 100%"
     }
    },
    "94b341582d6b45bfa7f5c255a90735fa": {
     "model_module": "@jupyter-widgets/controls",
     "model_module_version": "1.5.0",
     "model_name": "FloatProgressModel",
     "state": {
      "_dom_classes": [],
      "_model_module": "@jupyter-widgets/controls",
      "_model_module_version": "1.5.0",
      "_model_name": "FloatProgressModel",
      "_view_count": null,
      "_view_module": "@jupyter-widgets/controls",
      "_view_module_version": "1.5.0",
      "_view_name": "ProgressView",
      "bar_style": "success",
      "description": "",
      "description_tooltip": null,
      "layout": "IPY_MODEL_02776f1b35b54785b2229896199e643a",
      "max": 17719,
      "min": 0,
      "orientation": "horizontal",
      "style": "IPY_MODEL_bb77e75800464892a60bbdd0f98f2bc9",
      "value": 17719
     }
    },
    "a355ead8770441c5b8124ac5d7e35002": {
     "model_module": "@jupyter-widgets/base",
     "model_module_version": "1.2.0",
     "model_name": "LayoutModel",
     "state": {
      "_model_module": "@jupyter-widgets/base",
      "_model_module_version": "1.2.0",
      "_model_name": "LayoutModel",
      "_view_count": null,
      "_view_module": "@jupyter-widgets/base",
      "_view_module_version": "1.2.0",
      "_view_name": "LayoutView",
      "align_content": null,
      "align_items": null,
      "align_self": null,
      "border": null,
      "bottom": null,
      "display": null,
      "flex": null,
      "flex_flow": null,
      "grid_area": null,
      "grid_auto_columns": null,
      "grid_auto_flow": null,
      "grid_auto_rows": null,
      "grid_column": null,
      "grid_gap": null,
      "grid_row": null,
      "grid_template_areas": null,
      "grid_template_columns": null,
      "grid_template_rows": null,
      "height": null,
      "justify_content": null,
      "justify_items": null,
      "left": null,
      "margin": null,
      "max_height": null,
      "max_width": null,
      "min_height": null,
      "min_width": null,
      "object_fit": null,
      "object_position": null,
      "order": null,
      "overflow": null,
      "overflow_x": null,
      "overflow_y": null,
      "padding": null,
      "right": null,
      "top": null,
      "visibility": null,
      "width": null
     }
    },
    "a8d26261121f4130b44ab3d2c54b8119": {
     "model_module": "@jupyter-widgets/controls",
     "model_module_version": "1.5.0",
     "model_name": "HBoxModel",
     "state": {
      "_dom_classes": [],
      "_model_module": "@jupyter-widgets/controls",
      "_model_module_version": "1.5.0",
      "_model_name": "HBoxModel",
      "_view_count": null,
      "_view_module": "@jupyter-widgets/controls",
      "_view_module_version": "1.5.0",
      "_view_name": "HBoxView",
      "box_style": "",
      "children": [
       "IPY_MODEL_8c5dfb640ad44a698fc561a4354135d2",
       "IPY_MODEL_b8cdbb1217a349a6aab21147ce6e3830",
       "IPY_MODEL_84ffa82cf1b540619ed2da1e0f70b78b"
      ],
      "layout": "IPY_MODEL_09054143ecff4f12a4eee2dd45d39b3a"
     }
    },
    "aed50153282c4de8b70693d7fd34431d": {
     "model_module": "@jupyter-widgets/controls",
     "model_module_version": "1.5.0",
     "model_name": "FloatProgressModel",
     "state": {
      "_dom_classes": [],
      "_model_module": "@jupyter-widgets/controls",
      "_model_module_version": "1.5.0",
      "_model_name": "FloatProgressModel",
      "_view_count": null,
      "_view_module": "@jupyter-widgets/controls",
      "_view_module_version": "1.5.0",
      "_view_name": "ProgressView",
      "bar_style": "success",
      "description": "",
      "description_tooltip": null,
      "layout": "IPY_MODEL_f79c0b1b092441b8b592d57b5656d0cb",
      "max": 2,
      "min": 0,
      "orientation": "horizontal",
      "style": "IPY_MODEL_01ce54e36ee044ce96cb242fe5a2706c",
      "value": 2
     }
    },
    "b0852f979c3d452f93073658e8374dfc": {
     "model_module": "@jupyter-widgets/controls",
     "model_module_version": "1.5.0",
     "model_name": "HBoxModel",
     "state": {
      "_dom_classes": [],
      "_model_module": "@jupyter-widgets/controls",
      "_model_module_version": "1.5.0",
      "_model_name": "HBoxModel",
      "_view_count": null,
      "_view_module": "@jupyter-widgets/controls",
      "_view_module_version": "1.5.0",
      "_view_name": "HBoxView",
      "box_style": "",
      "children": [
       "IPY_MODEL_1a37fd8e738245b082b3a29fb7c87629",
       "IPY_MODEL_718193cddeab42f1946e99e20a151084",
       "IPY_MODEL_c6358bb6c3314b76beebab35391cf4df"
      ],
      "layout": "IPY_MODEL_852ae4457f964ab4a72752c53ae7e1b7"
     }
    },
    "b6f0ac39d04642068d457785c4e16a60": {
     "model_module": "@jupyter-widgets/controls",
     "model_module_version": "1.5.0",
     "model_name": "DescriptionStyleModel",
     "state": {
      "_model_module": "@jupyter-widgets/controls",
      "_model_module_version": "1.5.0",
      "_model_name": "DescriptionStyleModel",
      "_view_count": null,
      "_view_module": "@jupyter-widgets/base",
      "_view_module_version": "1.2.0",
      "_view_name": "StyleView",
      "description_width": ""
     }
    },
    "b7753f8c74594e2b928e68e0c59679b6": {
     "model_module": "@jupyter-widgets/controls",
     "model_module_version": "1.5.0",
     "model_name": "DescriptionStyleModel",
     "state": {
      "_model_module": "@jupyter-widgets/controls",
      "_model_module_version": "1.5.0",
      "_model_name": "DescriptionStyleModel",
      "_view_count": null,
      "_view_module": "@jupyter-widgets/base",
      "_view_module_version": "1.2.0",
      "_view_name": "StyleView",
      "description_width": ""
     }
    },
    "b896a9b1b2974adc971ca3f763da578f": {
     "model_module": "@jupyter-widgets/controls",
     "model_module_version": "1.5.0",
     "model_name": "ProgressStyleModel",
     "state": {
      "_model_module": "@jupyter-widgets/controls",
      "_model_module_version": "1.5.0",
      "_model_name": "ProgressStyleModel",
      "_view_count": null,
      "_view_module": "@jupyter-widgets/base",
      "_view_module_version": "1.2.0",
      "_view_name": "StyleView",
      "bar_color": null,
      "description_width": ""
     }
    },
    "b8cdbb1217a349a6aab21147ce6e3830": {
     "model_module": "@jupyter-widgets/controls",
     "model_module_version": "1.5.0",
     "model_name": "FloatProgressModel",
     "state": {
      "_dom_classes": [],
      "_model_module": "@jupyter-widgets/controls",
      "_model_module_version": "1.5.0",
      "_model_name": "FloatProgressModel",
      "_view_count": null,
      "_view_module": "@jupyter-widgets/controls",
      "_view_module_version": "1.5.0",
      "_view_name": "ProgressView",
      "bar_style": "success",
      "description": "",
      "description_tooltip": null,
      "layout": "IPY_MODEL_3e2675791f334e4880636739900f3d17",
      "max": 4483408144,
      "min": 0,
      "orientation": "horizontal",
      "style": "IPY_MODEL_25ca75a72931440d98151a80631bcc2a",
      "value": 4483408144
     }
    },
    "ba1ae59a16a24ef3abd10d22de7a65c8": {
     "model_module": "@jupyter-widgets/base",
     "model_module_version": "1.2.0",
     "model_name": "LayoutModel",
     "state": {
      "_model_module": "@jupyter-widgets/base",
      "_model_module_version": "1.2.0",
      "_model_name": "LayoutModel",
      "_view_count": null,
      "_view_module": "@jupyter-widgets/base",
      "_view_module_version": "1.2.0",
      "_view_name": "LayoutView",
      "align_content": null,
      "align_items": null,
      "align_self": null,
      "border": null,
      "bottom": null,
      "display": null,
      "flex": null,
      "flex_flow": null,
      "grid_area": null,
      "grid_auto_columns": null,
      "grid_auto_flow": null,
      "grid_auto_rows": null,
      "grid_column": null,
      "grid_gap": null,
      "grid_row": null,
      "grid_template_areas": null,
      "grid_template_columns": null,
      "grid_template_rows": null,
      "height": null,
      "justify_content": null,
      "justify_items": null,
      "left": null,
      "margin": null,
      "max_height": null,
      "max_width": null,
      "min_height": null,
      "min_width": null,
      "object_fit": null,
      "object_position": null,
      "order": null,
      "overflow": null,
      "overflow_x": null,
      "overflow_y": null,
      "padding": null,
      "right": null,
      "top": null,
      "visibility": null,
      "width": null
     }
    },
    "bb77e75800464892a60bbdd0f98f2bc9": {
     "model_module": "@jupyter-widgets/controls",
     "model_module_version": "1.5.0",
     "model_name": "ProgressStyleModel",
     "state": {
      "_model_module": "@jupyter-widgets/controls",
      "_model_module_version": "1.5.0",
      "_model_name": "ProgressStyleModel",
      "_view_count": null,
      "_view_module": "@jupyter-widgets/base",
      "_view_module_version": "1.2.0",
      "_view_name": "StyleView",
      "bar_color": null,
      "description_width": ""
     }
    },
    "c167ab3c7ee5442ca6673f1b4555a140": {
     "model_module": "@jupyter-widgets/controls",
     "model_module_version": "1.5.0",
     "model_name": "DescriptionStyleModel",
     "state": {
      "_model_module": "@jupyter-widgets/controls",
      "_model_module_version": "1.5.0",
      "_model_name": "DescriptionStyleModel",
      "_view_count": null,
      "_view_module": "@jupyter-widgets/base",
      "_view_module_version": "1.2.0",
      "_view_name": "StyleView",
      "description_width": ""
     }
    },
    "c3e66e60becf4da5b834ac4d1a0420ca": {
     "model_module": "@jupyter-widgets/controls",
     "model_module_version": "1.5.0",
     "model_name": "ProgressStyleModel",
     "state": {
      "_model_module": "@jupyter-widgets/controls",
      "_model_module_version": "1.5.0",
      "_model_name": "ProgressStyleModel",
      "_view_count": null,
      "_view_module": "@jupyter-widgets/base",
      "_view_module_version": "1.2.0",
      "_view_name": "StyleView",
      "bar_color": null,
      "description_width": ""
     }
    },
    "c42946b5aea9461aa8aa2db87f432077": {
     "model_module": "@jupyter-widgets/controls",
     "model_module_version": "1.5.0",
     "model_name": "HTMLModel",
     "state": {
      "_dom_classes": [],
      "_model_module": "@jupyter-widgets/controls",
      "_model_module_version": "1.5.0",
      "_model_name": "HTMLModel",
      "_view_count": null,
      "_view_module": "@jupyter-widgets/controls",
      "_view_module_version": "1.5.0",
      "_view_name": "HTMLView",
      "description": "",
      "description_tooltip": null,
      "layout": "IPY_MODEL_2a509b57b7d54927ae6c3cac0a57de89",
      "placeholder": "​",
      "style": "IPY_MODEL_5a0e412b547f48509177404e6f72a4c9",
      "value": " 281/281 [00:00&lt;00:00, 20.0kB/s]"
     }
    },
    "c6358bb6c3314b76beebab35391cf4df": {
     "model_module": "@jupyter-widgets/controls",
     "model_module_version": "1.5.0",
     "model_name": "HTMLModel",
     "state": {
      "_dom_classes": [],
      "_model_module": "@jupyter-widgets/controls",
      "_model_module_version": "1.5.0",
      "_model_name": "HTMLModel",
      "_view_count": null,
      "_view_module": "@jupyter-widgets/controls",
      "_view_module_version": "1.5.0",
      "_view_name": "HTMLView",
      "description": "",
      "description_tooltip": null,
      "layout": "IPY_MODEL_35becdf915e440eb829e8a4ff5a715c9",
      "placeholder": "​",
      "style": "IPY_MODEL_3d3af0da3010431a9670ebe5f2724001",
      "value": " 9.95G/9.95G [00:54&lt;00:00, 209MB/s]"
     }
    },
    "cb945f79133b4f0ab0e8a06bdab340e7": {
     "model_module": "@jupyter-widgets/controls",
     "model_module_version": "1.5.0",
     "model_name": "DescriptionStyleModel",
     "state": {
      "_model_module": "@jupyter-widgets/controls",
      "_model_module_version": "1.5.0",
      "_model_name": "DescriptionStyleModel",
      "_view_count": null,
      "_view_module": "@jupyter-widgets/base",
      "_view_module_version": "1.2.0",
      "_view_name": "StyleView",
      "description_width": ""
     }
    },
    "cc2e10cb65d247b18cf05befa0067157": {
     "model_module": "@jupyter-widgets/base",
     "model_module_version": "1.2.0",
     "model_name": "LayoutModel",
     "state": {
      "_model_module": "@jupyter-widgets/base",
      "_model_module_version": "1.2.0",
      "_model_name": "LayoutModel",
      "_view_count": null,
      "_view_module": "@jupyter-widgets/base",
      "_view_module_version": "1.2.0",
      "_view_name": "LayoutView",
      "align_content": null,
      "align_items": null,
      "align_self": null,
      "border": null,
      "bottom": null,
      "display": null,
      "flex": null,
      "flex_flow": null,
      "grid_area": null,
      "grid_auto_columns": null,
      "grid_auto_flow": null,
      "grid_auto_rows": null,
      "grid_column": null,
      "grid_gap": null,
      "grid_row": null,
      "grid_template_areas": null,
      "grid_template_columns": null,
      "grid_template_rows": null,
      "height": null,
      "justify_content": null,
      "justify_items": null,
      "left": null,
      "margin": null,
      "max_height": null,
      "max_width": null,
      "min_height": null,
      "min_width": null,
      "object_fit": null,
      "object_position": null,
      "order": null,
      "overflow": null,
      "overflow_x": null,
      "overflow_y": null,
      "padding": null,
      "right": null,
      "top": null,
      "visibility": null,
      "width": null
     }
    },
    "d00e3dd7c66a4968998de229f864b06f": {
     "model_module": "@jupyter-widgets/controls",
     "model_module_version": "1.5.0",
     "model_name": "FloatProgressModel",
     "state": {
      "_dom_classes": [],
      "_model_module": "@jupyter-widgets/controls",
      "_model_module_version": "1.5.0",
      "_model_name": "FloatProgressModel",
      "_view_count": null,
      "_view_module": "@jupyter-widgets/controls",
      "_view_module_version": "1.5.0",
      "_view_name": "ProgressView",
      "bar_style": "success",
      "description": "",
      "description_tooltip": null,
      "layout": "IPY_MODEL_069e8ce673d24b638a8759e60d380629",
      "max": 1132,
      "min": 0,
      "orientation": "horizontal",
      "style": "IPY_MODEL_f4f4cd71474c4270916b36375c172665",
      "value": 1132
     }
    },
    "d117ce499bb34cb6bf3e4f0ddd63d848": {
     "model_module": "@jupyter-widgets/base",
     "model_module_version": "1.2.0",
     "model_name": "LayoutModel",
     "state": {
      "_model_module": "@jupyter-widgets/base",
      "_model_module_version": "1.2.0",
      "_model_name": "LayoutModel",
      "_view_count": null,
      "_view_module": "@jupyter-widgets/base",
      "_view_module_version": "1.2.0",
      "_view_name": "LayoutView",
      "align_content": null,
      "align_items": null,
      "align_self": null,
      "border": null,
      "bottom": null,
      "display": null,
      "flex": null,
      "flex_flow": null,
      "grid_area": null,
      "grid_auto_columns": null,
      "grid_auto_flow": null,
      "grid_auto_rows": null,
      "grid_column": null,
      "grid_gap": null,
      "grid_row": null,
      "grid_template_areas": null,
      "grid_template_columns": null,
      "grid_template_rows": null,
      "height": null,
      "justify_content": null,
      "justify_items": null,
      "left": null,
      "margin": null,
      "max_height": null,
      "max_width": null,
      "min_height": null,
      "min_width": null,
      "object_fit": null,
      "object_position": null,
      "order": null,
      "overflow": null,
      "overflow_x": null,
      "overflow_y": null,
      "padding": null,
      "right": null,
      "top": null,
      "visibility": null,
      "width": null
     }
    },
    "d4e50ea29c534ce3bc862de30d273db6": {
     "model_module": "@jupyter-widgets/base",
     "model_module_version": "1.2.0",
     "model_name": "LayoutModel",
     "state": {
      "_model_module": "@jupyter-widgets/base",
      "_model_module_version": "1.2.0",
      "_model_name": "LayoutModel",
      "_view_count": null,
      "_view_module": "@jupyter-widgets/base",
      "_view_module_version": "1.2.0",
      "_view_name": "LayoutView",
      "align_content": null,
      "align_items": null,
      "align_self": null,
      "border": null,
      "bottom": null,
      "display": null,
      "flex": null,
      "flex_flow": null,
      "grid_area": null,
      "grid_auto_columns": null,
      "grid_auto_flow": null,
      "grid_auto_rows": null,
      "grid_column": null,
      "grid_gap": null,
      "grid_row": null,
      "grid_template_areas": null,
      "grid_template_columns": null,
      "grid_template_rows": null,
      "height": null,
      "justify_content": null,
      "justify_items": null,
      "left": null,
      "margin": null,
      "max_height": null,
      "max_width": null,
      "min_height": null,
      "min_width": null,
      "object_fit": null,
      "object_position": null,
      "order": null,
      "overflow": null,
      "overflow_x": null,
      "overflow_y": null,
      "padding": null,
      "right": null,
      "top": null,
      "visibility": null,
      "width": null
     }
    },
    "d6bfd85959fa4ea689fd7300d6734e5f": {
     "model_module": "@jupyter-widgets/controls",
     "model_module_version": "1.5.0",
     "model_name": "DescriptionStyleModel",
     "state": {
      "_model_module": "@jupyter-widgets/controls",
      "_model_module_version": "1.5.0",
      "_model_name": "DescriptionStyleModel",
      "_view_count": null,
      "_view_module": "@jupyter-widgets/base",
      "_view_module_version": "1.2.0",
      "_view_name": "StyleView",
      "description_width": ""
     }
    },
    "dad75e73aed94d8297fd4a6da1e96051": {
     "model_module": "@jupyter-widgets/controls",
     "model_module_version": "1.5.0",
     "model_name": "HTMLModel",
     "state": {
      "_dom_classes": [],
      "_model_module": "@jupyter-widgets/controls",
      "_model_module_version": "1.5.0",
      "_model_name": "HTMLModel",
      "_view_count": null,
      "_view_module": "@jupyter-widgets/controls",
      "_view_module_version": "1.5.0",
      "_view_name": "HTMLView",
      "description": "",
      "description_tooltip": null,
      "layout": "IPY_MODEL_e3e1b227855442e592895524a8213604",
      "placeholder": "​",
      "style": "IPY_MODEL_49302abc3ede46bebcfd8d7756d8bf7e",
      "value": "config.json: 100%"
     }
    },
    "db0dd62cd9904ae1bed244d90e4be2e1": {
     "model_module": "@jupyter-widgets/base",
     "model_module_version": "1.2.0",
     "model_name": "LayoutModel",
     "state": {
      "_model_module": "@jupyter-widgets/base",
      "_model_module_version": "1.2.0",
      "_model_name": "LayoutModel",
      "_view_count": null,
      "_view_module": "@jupyter-widgets/base",
      "_view_module_version": "1.2.0",
      "_view_name": "LayoutView",
      "align_content": null,
      "align_items": null,
      "align_self": null,
      "border": null,
      "bottom": null,
      "display": null,
      "flex": null,
      "flex_flow": null,
      "grid_area": null,
      "grid_auto_columns": null,
      "grid_auto_flow": null,
      "grid_auto_rows": null,
      "grid_column": null,
      "grid_gap": null,
      "grid_row": null,
      "grid_template_areas": null,
      "grid_template_columns": null,
      "grid_template_rows": null,
      "height": null,
      "justify_content": null,
      "justify_items": null,
      "left": null,
      "margin": null,
      "max_height": null,
      "max_width": null,
      "min_height": null,
      "min_width": null,
      "object_fit": null,
      "object_position": null,
      "order": null,
      "overflow": null,
      "overflow_x": null,
      "overflow_y": null,
      "padding": null,
      "right": null,
      "top": null,
      "visibility": null,
      "width": null
     }
    },
    "db898dadcfe5454c9bf5cc86fb7646a2": {
     "model_module": "@jupyter-widgets/controls",
     "model_module_version": "1.5.0",
     "model_name": "HTMLModel",
     "state": {
      "_dom_classes": [],
      "_model_module": "@jupyter-widgets/controls",
      "_model_module_version": "1.5.0",
      "_model_name": "HTMLModel",
      "_view_count": null,
      "_view_module": "@jupyter-widgets/controls",
      "_view_module_version": "1.5.0",
      "_view_name": "HTMLView",
      "description": "",
      "description_tooltip": null,
      "layout": "IPY_MODEL_d117ce499bb34cb6bf3e4f0ddd63d848",
      "placeholder": "​",
      "style": "IPY_MODEL_66654ec57a9442d09eb612df769dc8a1",
      "value": "generation_config.json: 100%"
     }
    },
    "e254d4b77aef4dd4b3330c35bef515cc": {
     "model_module": "@jupyter-widgets/controls",
     "model_module_version": "1.5.0",
     "model_name": "HBoxModel",
     "state": {
      "_dom_classes": [],
      "_model_module": "@jupyter-widgets/controls",
      "_model_module_version": "1.5.0",
      "_model_name": "HBoxModel",
      "_view_count": null,
      "_view_module": "@jupyter-widgets/controls",
      "_view_module_version": "1.5.0",
      "_view_name": "HBoxView",
      "box_style": "",
      "children": [
       "IPY_MODEL_db898dadcfe5454c9bf5cc86fb7646a2",
       "IPY_MODEL_310d4528bf164d7097aed61c40c659f8",
       "IPY_MODEL_28be91b31afd4817aaeff5f79bf29dcc"
      ],
      "layout": "IPY_MODEL_77280a1e2815492aa93bbc36ad875b8c"
     }
    },
    "e3e1b227855442e592895524a8213604": {
     "model_module": "@jupyter-widgets/base",
     "model_module_version": "1.2.0",
     "model_name": "LayoutModel",
     "state": {
      "_model_module": "@jupyter-widgets/base",
      "_model_module_version": "1.2.0",
      "_model_name": "LayoutModel",
      "_view_count": null,
      "_view_module": "@jupyter-widgets/base",
      "_view_module_version": "1.2.0",
      "_view_name": "LayoutView",
      "align_content": null,
      "align_items": null,
      "align_self": null,
      "border": null,
      "bottom": null,
      "display": null,
      "flex": null,
      "flex_flow": null,
      "grid_area": null,
      "grid_auto_columns": null,
      "grid_auto_flow": null,
      "grid_auto_rows": null,
      "grid_column": null,
      "grid_gap": null,
      "grid_row": null,
      "grid_template_areas": null,
      "grid_template_columns": null,
      "grid_template_rows": null,
      "height": null,
      "justify_content": null,
      "justify_items": null,
      "left": null,
      "margin": null,
      "max_height": null,
      "max_width": null,
      "min_height": null,
      "min_width": null,
      "object_fit": null,
      "object_position": null,
      "order": null,
      "overflow": null,
      "overflow_x": null,
      "overflow_y": null,
      "padding": null,
      "right": null,
      "top": null,
      "visibility": null,
      "width": null
     }
    },
    "e46cd88fff0a41edaba309872628d788": {
     "model_module": "@jupyter-widgets/base",
     "model_module_version": "1.2.0",
     "model_name": "LayoutModel",
     "state": {
      "_model_module": "@jupyter-widgets/base",
      "_model_module_version": "1.2.0",
      "_model_name": "LayoutModel",
      "_view_count": null,
      "_view_module": "@jupyter-widgets/base",
      "_view_module_version": "1.2.0",
      "_view_name": "LayoutView",
      "align_content": null,
      "align_items": null,
      "align_self": null,
      "border": null,
      "bottom": null,
      "display": null,
      "flex": null,
      "flex_flow": null,
      "grid_area": null,
      "grid_auto_columns": null,
      "grid_auto_flow": null,
      "grid_auto_rows": null,
      "grid_column": null,
      "grid_gap": null,
      "grid_row": null,
      "grid_template_areas": null,
      "grid_template_columns": null,
      "grid_template_rows": null,
      "height": null,
      "justify_content": null,
      "justify_items": null,
      "left": null,
      "margin": null,
      "max_height": null,
      "max_width": null,
      "min_height": null,
      "min_width": null,
      "object_fit": null,
      "object_position": null,
      "order": null,
      "overflow": null,
      "overflow_x": null,
      "overflow_y": null,
      "padding": null,
      "right": null,
      "top": null,
      "visibility": null,
      "width": null
     }
    },
    "e5dff6d02b1f468b87cdc251a270ed01": {
     "model_module": "@jupyter-widgets/base",
     "model_module_version": "1.2.0",
     "model_name": "LayoutModel",
     "state": {
      "_model_module": "@jupyter-widgets/base",
      "_model_module_version": "1.2.0",
      "_model_name": "LayoutModel",
      "_view_count": null,
      "_view_module": "@jupyter-widgets/base",
      "_view_module_version": "1.2.0",
      "_view_name": "LayoutView",
      "align_content": null,
      "align_items": null,
      "align_self": null,
      "border": null,
      "bottom": null,
      "display": null,
      "flex": null,
      "flex_flow": null,
      "grid_area": null,
      "grid_auto_columns": null,
      "grid_auto_flow": null,
      "grid_auto_rows": null,
      "grid_column": null,
      "grid_gap": null,
      "grid_row": null,
      "grid_template_areas": null,
      "grid_template_columns": null,
      "grid_template_rows": null,
      "height": null,
      "justify_content": null,
      "justify_items": null,
      "left": null,
      "margin": null,
      "max_height": null,
      "max_width": null,
      "min_height": null,
      "min_width": null,
      "object_fit": null,
      "object_position": null,
      "order": null,
      "overflow": null,
      "overflow_x": null,
      "overflow_y": null,
      "padding": null,
      "right": null,
      "top": null,
      "visibility": null,
      "width": null
     }
    },
    "e66030c68b814192b96af62b311bf498": {
     "model_module": "@jupyter-widgets/controls",
     "model_module_version": "1.5.0",
     "model_name": "HBoxModel",
     "state": {
      "_dom_classes": [],
      "_model_module": "@jupyter-widgets/controls",
      "_model_module_version": "1.5.0",
      "_model_name": "HBoxModel",
      "_view_count": null,
      "_view_module": "@jupyter-widgets/controls",
      "_view_module_version": "1.5.0",
      "_view_name": "HBoxView",
      "box_style": "",
      "children": [
       "IPY_MODEL_fb614bd14b694e80acd4074d21c25a0b",
       "IPY_MODEL_94b341582d6b45bfa7f5c255a90735fa",
       "IPY_MODEL_120de8b32fdc4fd4842c46b71878537a"
      ],
      "layout": "IPY_MODEL_ba1ae59a16a24ef3abd10d22de7a65c8"
     }
    },
    "e70ee34439064e1aa990b813cf807a72": {
     "model_module": "@jupyter-widgets/controls",
     "model_module_version": "1.5.0",
     "model_name": "HTMLModel",
     "state": {
      "_dom_classes": [],
      "_model_module": "@jupyter-widgets/controls",
      "_model_module_version": "1.5.0",
      "_model_name": "HTMLModel",
      "_view_count": null,
      "_view_module": "@jupyter-widgets/controls",
      "_view_module_version": "1.5.0",
      "_view_name": "HTMLView",
      "description": "",
      "description_tooltip": null,
      "layout": "IPY_MODEL_19373f4e6399459094ec16e5f08a91f1",
      "placeholder": "​",
      "style": "IPY_MODEL_f93f3fed9efa437c8a73a71d137833b6",
      "value": " 2.73M/2.73M [00:00&lt;00:00, 12.7MB/s]"
     }
    },
    "e808f5f525ff41dba524b194644faa8e": {
     "model_module": "@jupyter-widgets/controls",
     "model_module_version": "1.5.0",
     "model_name": "DescriptionStyleModel",
     "state": {
      "_model_module": "@jupyter-widgets/controls",
      "_model_module_version": "1.5.0",
      "_model_name": "DescriptionStyleModel",
      "_view_count": null,
      "_view_module": "@jupyter-widgets/base",
      "_view_module_version": "1.2.0",
      "_view_name": "StyleView",
      "description_width": ""
     }
    },
    "ea658b94b5b54e0ca0318bba2e4015ee": {
     "model_module": "@jupyter-widgets/controls",
     "model_module_version": "1.5.0",
     "model_name": "DescriptionStyleModel",
     "state": {
      "_model_module": "@jupyter-widgets/controls",
      "_model_module_version": "1.5.0",
      "_model_name": "DescriptionStyleModel",
      "_view_count": null,
      "_view_module": "@jupyter-widgets/base",
      "_view_module_version": "1.2.0",
      "_view_name": "StyleView",
      "description_width": ""
     }
    },
    "eaeb45e37c3546b2ae90c972c4267597": {
     "model_module": "@jupyter-widgets/controls",
     "model_module_version": "1.5.0",
     "model_name": "HBoxModel",
     "state": {
      "_dom_classes": [],
      "_model_module": "@jupyter-widgets/controls",
      "_model_module_version": "1.5.0",
      "_model_name": "HBoxModel",
      "_view_count": null,
      "_view_module": "@jupyter-widgets/controls",
      "_view_module_version": "1.5.0",
      "_view_name": "HBoxView",
      "box_style": "",
      "children": [
       "IPY_MODEL_f07d2ae8e0ce4ed6b6c84b46b6a30fe2",
       "IPY_MODEL_13873ba204cc417bb27e736a4da199ce",
       "IPY_MODEL_c42946b5aea9461aa8aa2db87f432077"
      ],
      "layout": "IPY_MODEL_694733cf398e433684e7acfb354fefb7"
     }
    },
    "ef45294d018f43f8ad62c3ba85f0f4b9": {
     "model_module": "@jupyter-widgets/controls",
     "model_module_version": "1.5.0",
     "model_name": "HTMLModel",
     "state": {
      "_dom_classes": [],
      "_model_module": "@jupyter-widgets/controls",
      "_model_module_version": "1.5.0",
      "_model_name": "HTMLModel",
      "_view_count": null,
      "_view_module": "@jupyter-widgets/controls",
      "_view_module_version": "1.5.0",
      "_view_name": "HTMLView",
      "description": "",
      "description_tooltip": null,
      "layout": "IPY_MODEL_560c48178df14abd92e8a06918b825cf",
      "placeholder": "​",
      "style": "IPY_MODEL_5c09c1cda0ad492881a056ee53d5faae",
      "value": "Downloading shards: 100%"
     }
    },
    "f07d2ae8e0ce4ed6b6c84b46b6a30fe2": {
     "model_module": "@jupyter-widgets/controls",
     "model_module_version": "1.5.0",
     "model_name": "HTMLModel",
     "state": {
      "_dom_classes": [],
      "_model_module": "@jupyter-widgets/controls",
      "_model_module_version": "1.5.0",
      "_model_name": "HTMLModel",
      "_view_count": null,
      "_view_module": "@jupyter-widgets/controls",
      "_view_module_version": "1.5.0",
      "_view_name": "HTMLView",
      "description": "",
      "description_tooltip": null,
      "layout": "IPY_MODEL_db0dd62cd9904ae1bed244d90e4be2e1",
      "placeholder": "​",
      "style": "IPY_MODEL_253e200634094509ad5e11a94d92eeb1",
      "value": "special_tokens_map.json: 100%"
     }
    },
    "f4f4cd71474c4270916b36375c172665": {
     "model_module": "@jupyter-widgets/controls",
     "model_module_version": "1.5.0",
     "model_name": "ProgressStyleModel",
     "state": {
      "_model_module": "@jupyter-widgets/controls",
      "_model_module_version": "1.5.0",
      "_model_name": "ProgressStyleModel",
      "_view_count": null,
      "_view_module": "@jupyter-widgets/base",
      "_view_module_version": "1.2.0",
      "_view_name": "StyleView",
      "bar_color": null,
      "description_width": ""
     }
    },
    "f79c0b1b092441b8b592d57b5656d0cb": {
     "model_module": "@jupyter-widgets/base",
     "model_module_version": "1.2.0",
     "model_name": "LayoutModel",
     "state": {
      "_model_module": "@jupyter-widgets/base",
      "_model_module_version": "1.2.0",
      "_model_name": "LayoutModel",
      "_view_count": null,
      "_view_module": "@jupyter-widgets/base",
      "_view_module_version": "1.2.0",
      "_view_name": "LayoutView",
      "align_content": null,
      "align_items": null,
      "align_self": null,
      "border": null,
      "bottom": null,
      "display": null,
      "flex": null,
      "flex_flow": null,
      "grid_area": null,
      "grid_auto_columns": null,
      "grid_auto_flow": null,
      "grid_auto_rows": null,
      "grid_column": null,
      "grid_gap": null,
      "grid_row": null,
      "grid_template_areas": null,
      "grid_template_columns": null,
      "grid_template_rows": null,
      "height": null,
      "justify_content": null,
      "justify_items": null,
      "left": null,
      "margin": null,
      "max_height": null,
      "max_width": null,
      "min_height": null,
      "min_width": null,
      "object_fit": null,
      "object_position": null,
      "order": null,
      "overflow": null,
      "overflow_x": null,
      "overflow_y": null,
      "padding": null,
      "right": null,
      "top": null,
      "visibility": null,
      "width": null
     }
    },
    "f93f3fed9efa437c8a73a71d137833b6": {
     "model_module": "@jupyter-widgets/controls",
     "model_module_version": "1.5.0",
     "model_name": "DescriptionStyleModel",
     "state": {
      "_model_module": "@jupyter-widgets/controls",
      "_model_module_version": "1.5.0",
      "_model_name": "DescriptionStyleModel",
      "_view_count": null,
      "_view_module": "@jupyter-widgets/base",
      "_view_module_version": "1.2.0",
      "_view_name": "StyleView",
      "description_width": ""
     }
    },
    "fb614bd14b694e80acd4074d21c25a0b": {
     "model_module": "@jupyter-widgets/controls",
     "model_module_version": "1.5.0",
     "model_name": "HTMLModel",
     "state": {
      "_dom_classes": [],
      "_model_module": "@jupyter-widgets/controls",
      "_model_module_version": "1.5.0",
      "_model_name": "HTMLModel",
      "_view_count": null,
      "_view_module": "@jupyter-widgets/controls",
      "_view_module_version": "1.5.0",
      "_view_name": "HTMLView",
      "description": "",
      "description_tooltip": null,
      "layout": "IPY_MODEL_15f6ebfa2cf44faa96d5199039b6060b",
      "placeholder": "​",
      "style": "IPY_MODEL_d6bfd85959fa4ea689fd7300d6734e5f",
      "value": "model.safetensors.index.json: 100%"
     }
    },
    "fbcb703c21d84c0baee86f7829b5779d": {
     "model_module": "@jupyter-widgets/controls",
     "model_module_version": "1.5.0",
     "model_name": "HTMLModel",
     "state": {
      "_dom_classes": [],
      "_model_module": "@jupyter-widgets/controls",
      "_model_module_version": "1.5.0",
      "_model_name": "HTMLModel",
      "_view_count": null,
      "_view_module": "@jupyter-widgets/controls",
      "_view_module_version": "1.5.0",
      "_view_name": "HTMLView",
      "description": "",
      "description_tooltip": null,
      "layout": "IPY_MODEL_0f94e1e4f362445e96c25173f80e606f",
      "placeholder": "​",
      "style": "IPY_MODEL_60d78945e3a34f3b90d48768a2499bce",
      "value": " 2/2 [01:01&lt;00:00, 28.84s/it]"
     }
    }
   }
  }
 },
 "nbformat": 4,
 "nbformat_minor": 4
}
